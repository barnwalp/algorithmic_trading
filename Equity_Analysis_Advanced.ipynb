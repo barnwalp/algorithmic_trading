{
 "cells": [
  {
   "cell_type": "markdown",
   "metadata": {},
   "source": [
    "## Equity Analysis using Ticker"
   ]
  },
  {
   "cell_type": "code",
   "execution_count": null,
   "metadata": {},
   "outputs": [],
   "source": [
    "import yfinance as yf\n",
    "import pandas as pd\n",
    "import matplotlib.pyplot as plt\n",
    "import numpy as np\n",
    "from yahooquery import Ticker\n",
    "plt.style.use(\"seaborn-v0_8\")"
   ]
  },
  {
   "cell_type": "code",
   "execution_count": null,
   "metadata": {},
   "outputs": [],
   "source": [
    "hdfc = yf.Ticker(ticker=\"HDFCBANK.NS\")\n",
    "hdfc"
   ]
  },
  {
   "cell_type": "code",
   "execution_count": null,
   "metadata": {},
   "outputs": [],
   "source": [
    "hdfc.history()"
   ]
  },
  {
   "cell_type": "code",
   "execution_count": null,
   "metadata": {},
   "outputs": [],
   "source": [
    "hdfc_info = pd.Series(hdfc.get_info())\n",
    "# To see the complete list in the output\n",
    "pd.set_option(\"display.max_rows\", None)\n",
    "hdfc_info.sort_index()"
   ]
  },
  {
   "cell_type": "code",
   "execution_count": null,
   "metadata": {},
   "outputs": [],
   "source": [
    "firm_value = hdfc_info['marketCap'] + hdfc_info['totalDebt']\n",
    "firm_value"
   ]
  },
  {
   "cell_type": "code",
   "execution_count": null,
   "metadata": {},
   "outputs": [],
   "source": [
    "plt.bar([\"Firm Value\"], [hdfc_info['marketCap']], label = \"Equity\", width=0.5)\n",
    "plt.bar([\"Firm Value\"], [hdfc_info['totalDebt']], label = \"Debt\", width=0.5, bottom=[hdfc_info['marketCap']])\n",
    "plt.ylabel(\"Value (Rupees)\")\n",
    "plt.title(\"Firm Value HDFC Bank\", fontsize = 15)\n",
    "plt.legend(fontsize = 15)\n",
    "plt.xlim(-1, 1)\n",
    "plt.show()"
   ]
  },
  {
   "cell_type": "markdown",
   "metadata": {},
   "source": [
    "#### Getting Financial Statments"
   ]
  },
  {
   "cell_type": "code",
   "execution_count": null,
   "metadata": {},
   "outputs": [],
   "source": [
    "balance_sheet = hdfc.get_balance_sheet()\n",
    "balance_sheet"
   ]
  },
  {
   "cell_type": "code",
   "execution_count": null,
   "metadata": {},
   "outputs": [],
   "source": [
    "income_statement = hdfc.get_income_stmt()\n",
    "income_statement"
   ]
  },
  {
   "cell_type": "code",
   "execution_count": null,
   "metadata": {},
   "outputs": [],
   "source": [
    "cash_flow = hdfc.get_cash_flow()\n",
    "cash_flow"
   ]
  },
  {
   "cell_type": "code",
   "execution_count": null,
   "metadata": {},
   "outputs": [],
   "source": [
    "# You can also get the quarterly balance sheet, income statement and cash flow\n",
    "q_bs = hdfc.quarterly_balance_sheet\n",
    "q_is = hdfc.quarterly_income_stmt\n",
    "q_cf = hdfc.quarterly_cash_flow\n",
    "q_bs"
   ]
  },
  {
   "cell_type": "code",
   "execution_count": null,
   "metadata": {},
   "outputs": [],
   "source": []
  }
 ],
 "metadata": {
  "kernelspec": {
   "display_name": "trading",
   "language": "python",
   "name": "python3"
  },
  "language_info": {
   "codemirror_mode": {
    "name": "ipython",
    "version": 3
   },
   "file_extension": ".py",
   "mimetype": "text/x-python",
   "name": "python",
   "nbconvert_exporter": "python",
   "pygments_lexer": "ipython3",
   "version": "3.10.16"
  }
 },
 "nbformat": 4,
 "nbformat_minor": 2
}
