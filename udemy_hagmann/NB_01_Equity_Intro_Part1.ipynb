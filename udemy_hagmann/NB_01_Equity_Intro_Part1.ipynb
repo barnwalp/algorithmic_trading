{
 "cells": [
  {
   "cell_type": "markdown",
   "id": "d8044646",
   "metadata": {},
   "source": [
    "# Equity Analysis with Python - Introduction (Part 1)"
   ]
  },
  {
   "cell_type": "markdown",
   "id": "4ca01c03",
   "metadata": {},
   "source": [
    "__Please install yfinance__ with the following command (Anaconda Prompt/Terminal Window):"
   ]
  },
  {
   "cell_type": "markdown",
   "id": "01d65950",
   "metadata": {},
   "source": [
    "pip install yfinance"
   ]
  },
  {
   "cell_type": "markdown",
   "id": "2c627932",
   "metadata": {},
   "source": [
    "## yfinance API - first steps"
   ]
  },
  {
   "cell_type": "code",
   "execution_count": 16,
   "id": "08d71c28-2b02-45f1-9153-5346551e4bf6",
   "metadata": {},
   "outputs": [],
   "source": [
    "%config IPCompleter.greedy=True"
   ]
  },
  {
   "cell_type": "code",
   "execution_count": 1,
   "id": "b0a0246b",
   "metadata": {},
   "outputs": [
    {
     "name": "stderr",
     "output_type": "stream",
     "text": [
      "Matplotlib is building the font cache; this may take a moment.\n"
     ]
    }
   ],
   "source": [
    "import yfinance as yf\n",
    "import pandas as pd\n",
    "import matplotlib.pyplot as plt\n",
    "plt.style.use(\"seaborn-v0_8\")"
   ]
  },
  {
   "cell_type": "code",
   "execution_count": 2,
   "id": "e2c56b11",
   "metadata": {},
   "outputs": [],
   "source": [
    "symbol = \"AAPL\" # ticker symbol for Apple Inc."
   ]
  },
  {
   "cell_type": "code",
   "execution_count": 3,
   "id": "cb21254b",
   "metadata": {
    "scrolled": true
   },
   "outputs": [
    {
     "name": "stderr",
     "output_type": "stream",
     "text": [
      "[*********************100%***********************]  1 of 1 completed\n"
     ]
    },
    {
     "data": {
      "text/html": [
       "<div>\n",
       "<style scoped>\n",
       "    .dataframe tbody tr th:only-of-type {\n",
       "        vertical-align: middle;\n",
       "    }\n",
       "\n",
       "    .dataframe tbody tr th {\n",
       "        vertical-align: top;\n",
       "    }\n",
       "\n",
       "    .dataframe thead tr th {\n",
       "        text-align: left;\n",
       "    }\n",
       "\n",
       "    .dataframe thead tr:last-of-type th {\n",
       "        text-align: right;\n",
       "    }\n",
       "</style>\n",
       "<table border=\"1\" class=\"dataframe\">\n",
       "  <thead>\n",
       "    <tr>\n",
       "      <th>Price</th>\n",
       "      <th>Close</th>\n",
       "      <th>High</th>\n",
       "      <th>Low</th>\n",
       "      <th>Open</th>\n",
       "      <th>Volume</th>\n",
       "    </tr>\n",
       "    <tr>\n",
       "      <th>Ticker</th>\n",
       "      <th>AAPL</th>\n",
       "      <th>AAPL</th>\n",
       "      <th>AAPL</th>\n",
       "      <th>AAPL</th>\n",
       "      <th>AAPL</th>\n",
       "    </tr>\n",
       "    <tr>\n",
       "      <th>Date</th>\n",
       "      <th></th>\n",
       "      <th></th>\n",
       "      <th></th>\n",
       "      <th></th>\n",
       "      <th></th>\n",
       "    </tr>\n",
       "  </thead>\n",
       "  <tbody>\n",
       "    <tr>\n",
       "      <th>1980-12-12</th>\n",
       "      <td>0.098834</td>\n",
       "      <td>0.099264</td>\n",
       "      <td>0.098834</td>\n",
       "      <td>0.098834</td>\n",
       "      <td>469033600</td>\n",
       "    </tr>\n",
       "    <tr>\n",
       "      <th>1980-12-15</th>\n",
       "      <td>0.093678</td>\n",
       "      <td>0.094108</td>\n",
       "      <td>0.093678</td>\n",
       "      <td>0.094108</td>\n",
       "      <td>175884800</td>\n",
       "    </tr>\n",
       "    <tr>\n",
       "      <th>1980-12-16</th>\n",
       "      <td>0.086802</td>\n",
       "      <td>0.087232</td>\n",
       "      <td>0.086802</td>\n",
       "      <td>0.087232</td>\n",
       "      <td>105728000</td>\n",
       "    </tr>\n",
       "    <tr>\n",
       "      <th>1980-12-17</th>\n",
       "      <td>0.088951</td>\n",
       "      <td>0.089381</td>\n",
       "      <td>0.088951</td>\n",
       "      <td>0.088951</td>\n",
       "      <td>86441600</td>\n",
       "    </tr>\n",
       "    <tr>\n",
       "      <th>1980-12-18</th>\n",
       "      <td>0.091530</td>\n",
       "      <td>0.091959</td>\n",
       "      <td>0.091530</td>\n",
       "      <td>0.091530</td>\n",
       "      <td>73449600</td>\n",
       "    </tr>\n",
       "    <tr>\n",
       "      <th>...</th>\n",
       "      <td>...</td>\n",
       "      <td>...</td>\n",
       "      <td>...</td>\n",
       "      <td>...</td>\n",
       "      <td>...</td>\n",
       "    </tr>\n",
       "    <tr>\n",
       "      <th>2025-01-17</th>\n",
       "      <td>229.979996</td>\n",
       "      <td>232.289993</td>\n",
       "      <td>228.479996</td>\n",
       "      <td>232.119995</td>\n",
       "      <td>68488300</td>\n",
       "    </tr>\n",
       "    <tr>\n",
       "      <th>2025-01-21</th>\n",
       "      <td>222.639999</td>\n",
       "      <td>224.419998</td>\n",
       "      <td>219.380005</td>\n",
       "      <td>224.000000</td>\n",
       "      <td>98070400</td>\n",
       "    </tr>\n",
       "    <tr>\n",
       "      <th>2025-01-22</th>\n",
       "      <td>223.830002</td>\n",
       "      <td>224.119995</td>\n",
       "      <td>219.789993</td>\n",
       "      <td>219.789993</td>\n",
       "      <td>64126500</td>\n",
       "    </tr>\n",
       "    <tr>\n",
       "      <th>2025-01-23</th>\n",
       "      <td>223.660004</td>\n",
       "      <td>227.029999</td>\n",
       "      <td>222.300003</td>\n",
       "      <td>224.740005</td>\n",
       "      <td>60234800</td>\n",
       "    </tr>\n",
       "    <tr>\n",
       "      <th>2025-01-24</th>\n",
       "      <td>222.779999</td>\n",
       "      <td>225.630005</td>\n",
       "      <td>221.410004</td>\n",
       "      <td>224.779999</td>\n",
       "      <td>54619500</td>\n",
       "    </tr>\n",
       "  </tbody>\n",
       "</table>\n",
       "<p>11120 rows × 5 columns</p>\n",
       "</div>"
      ],
      "text/plain": [
       "Price            Close        High         Low        Open     Volume\n",
       "Ticker            AAPL        AAPL        AAPL        AAPL       AAPL\n",
       "Date                                                                 \n",
       "1980-12-12    0.098834    0.099264    0.098834    0.098834  469033600\n",
       "1980-12-15    0.093678    0.094108    0.093678    0.094108  175884800\n",
       "1980-12-16    0.086802    0.087232    0.086802    0.087232  105728000\n",
       "1980-12-17    0.088951    0.089381    0.088951    0.088951   86441600\n",
       "1980-12-18    0.091530    0.091959    0.091530    0.091530   73449600\n",
       "...                ...         ...         ...         ...        ...\n",
       "2025-01-17  229.979996  232.289993  228.479996  232.119995   68488300\n",
       "2025-01-21  222.639999  224.419998  219.380005  224.000000   98070400\n",
       "2025-01-22  223.830002  224.119995  219.789993  219.789993   64126500\n",
       "2025-01-23  223.660004  227.029999  222.300003  224.740005   60234800\n",
       "2025-01-24  222.779999  225.630005  221.410004  224.779999   54619500\n",
       "\n",
       "[11120 rows x 5 columns]"
      ]
     },
     "execution_count": 3,
     "metadata": {},
     "output_type": "execute_result"
    }
   ],
   "source": [
    "df = yf.download(tickers = symbol, interval = \"1d\")\n",
    "df"
   ]
  },
  {
   "cell_type": "code",
   "execution_count": 7,
   "id": "513b409a-d828-4e9f-9581-cfea4ea6f645",
   "metadata": {},
   "outputs": [
    {
     "data": {
      "text/plain": [
       "DatetimeIndex(['1980-12-12', '1980-12-15', '1980-12-16', '1980-12-17',\n",
       "               '1980-12-18', '1980-12-19', '1980-12-22', '1980-12-23',\n",
       "               '1980-12-24', '1980-12-26',\n",
       "               ...\n",
       "               '2025-01-10', '2025-01-13', '2025-01-14', '2025-01-15',\n",
       "               '2025-01-16', '2025-01-17', '2025-01-21', '2025-01-22',\n",
       "               '2025-01-23', '2025-01-24'],\n",
       "              dtype='datetime64[ns]', length=11120, freq=None)"
      ]
     },
     "execution_count": 7,
     "metadata": {},
     "output_type": "execute_result"
    }
   ],
   "source": [
    "df.index"
   ]
  },
  {
   "cell_type": "code",
   "execution_count": 4,
   "id": "eaa2f3a1",
   "metadata": {},
   "outputs": [
    {
     "data": {
      "text/html": [
       "<div>\n",
       "<style scoped>\n",
       "    .dataframe tbody tr th:only-of-type {\n",
       "        vertical-align: middle;\n",
       "    }\n",
       "\n",
       "    .dataframe tbody tr th {\n",
       "        vertical-align: top;\n",
       "    }\n",
       "\n",
       "    .dataframe thead tr th {\n",
       "        text-align: left;\n",
       "    }\n",
       "</style>\n",
       "<table border=\"1\" class=\"dataframe\">\n",
       "  <thead>\n",
       "    <tr>\n",
       "      <th>Price</th>\n",
       "      <th>Close</th>\n",
       "      <th>High</th>\n",
       "      <th>Low</th>\n",
       "      <th>Open</th>\n",
       "      <th>Volume</th>\n",
       "    </tr>\n",
       "    <tr>\n",
       "      <th>Ticker</th>\n",
       "      <th>AAPL</th>\n",
       "      <th>AAPL</th>\n",
       "      <th>AAPL</th>\n",
       "      <th>AAPL</th>\n",
       "      <th>AAPL</th>\n",
       "    </tr>\n",
       "  </thead>\n",
       "  <tbody>\n",
       "    <tr>\n",
       "      <th>1980-12-12</th>\n",
       "      <td>0.098834</td>\n",
       "      <td>0.099264</td>\n",
       "      <td>0.098834</td>\n",
       "      <td>0.098834</td>\n",
       "      <td>469033600</td>\n",
       "    </tr>\n",
       "    <tr>\n",
       "      <th>1980-12-15</th>\n",
       "      <td>0.093678</td>\n",
       "      <td>0.094108</td>\n",
       "      <td>0.093678</td>\n",
       "      <td>0.094108</td>\n",
       "      <td>175884800</td>\n",
       "    </tr>\n",
       "    <tr>\n",
       "      <th>1980-12-16</th>\n",
       "      <td>0.086802</td>\n",
       "      <td>0.087232</td>\n",
       "      <td>0.086802</td>\n",
       "      <td>0.087232</td>\n",
       "      <td>105728000</td>\n",
       "    </tr>\n",
       "    <tr>\n",
       "      <th>1980-12-17</th>\n",
       "      <td>0.088951</td>\n",
       "      <td>0.089381</td>\n",
       "      <td>0.088951</td>\n",
       "      <td>0.088951</td>\n",
       "      <td>86441600</td>\n",
       "    </tr>\n",
       "    <tr>\n",
       "      <th>1980-12-18</th>\n",
       "      <td>0.091530</td>\n",
       "      <td>0.091959</td>\n",
       "      <td>0.091530</td>\n",
       "      <td>0.091530</td>\n",
       "      <td>73449600</td>\n",
       "    </tr>\n",
       "    <tr>\n",
       "      <th>...</th>\n",
       "      <td>...</td>\n",
       "      <td>...</td>\n",
       "      <td>...</td>\n",
       "      <td>...</td>\n",
       "      <td>...</td>\n",
       "    </tr>\n",
       "    <tr>\n",
       "      <th>2025-01-17</th>\n",
       "      <td>229.979996</td>\n",
       "      <td>232.289993</td>\n",
       "      <td>228.479996</td>\n",
       "      <td>232.119995</td>\n",
       "      <td>68488300</td>\n",
       "    </tr>\n",
       "    <tr>\n",
       "      <th>2025-01-21</th>\n",
       "      <td>222.639999</td>\n",
       "      <td>224.419998</td>\n",
       "      <td>219.380005</td>\n",
       "      <td>224.000000</td>\n",
       "      <td>98070400</td>\n",
       "    </tr>\n",
       "    <tr>\n",
       "      <th>2025-01-22</th>\n",
       "      <td>223.830002</td>\n",
       "      <td>224.119995</td>\n",
       "      <td>219.789993</td>\n",
       "      <td>219.789993</td>\n",
       "      <td>64126500</td>\n",
       "    </tr>\n",
       "    <tr>\n",
       "      <th>2025-01-23</th>\n",
       "      <td>223.660004</td>\n",
       "      <td>227.029999</td>\n",
       "      <td>222.300003</td>\n",
       "      <td>224.740005</td>\n",
       "      <td>60234800</td>\n",
       "    </tr>\n",
       "    <tr>\n",
       "      <th>2025-01-24</th>\n",
       "      <td>222.779999</td>\n",
       "      <td>225.630005</td>\n",
       "      <td>221.410004</td>\n",
       "      <td>224.779999</td>\n",
       "      <td>54619500</td>\n",
       "    </tr>\n",
       "  </tbody>\n",
       "</table>\n",
       "<p>11120 rows × 5 columns</p>\n",
       "</div>"
      ],
      "text/plain": [
       "Price            Close        High         Low        Open     Volume\n",
       "Ticker            AAPL        AAPL        AAPL        AAPL       AAPL\n",
       "1980-12-12    0.098834    0.099264    0.098834    0.098834  469033600\n",
       "1980-12-15    0.093678    0.094108    0.093678    0.094108  175884800\n",
       "1980-12-16    0.086802    0.087232    0.086802    0.087232  105728000\n",
       "1980-12-17    0.088951    0.089381    0.088951    0.088951   86441600\n",
       "1980-12-18    0.091530    0.091959    0.091530    0.091530   73449600\n",
       "...                ...         ...         ...         ...        ...\n",
       "2025-01-17  229.979996  232.289993  228.479996  232.119995   68488300\n",
       "2025-01-21  222.639999  224.419998  219.380005  224.000000   98070400\n",
       "2025-01-22  223.830002  224.119995  219.789993  219.789993   64126500\n",
       "2025-01-23  223.660004  227.029999  222.300003  224.740005   60234800\n",
       "2025-01-24  222.779999  225.630005  221.410004  224.779999   54619500\n",
       "\n",
       "[11120 rows x 5 columns]"
      ]
     },
     "execution_count": 4,
     "metadata": {},
     "output_type": "execute_result"
    }
   ],
   "source": [
    "df.index = pd.to_datetime(df.index.date)\n",
    "df"
   ]
  },
  {
   "cell_type": "code",
   "execution_count": 6,
   "id": "cd90a91e",
   "metadata": {},
   "outputs": [
    {
     "name": "stdout",
     "output_type": "stream",
     "text": [
      "<class 'pandas.core.frame.DataFrame'>\n",
      "DatetimeIndex: 11120 entries, 1980-12-12 to 2025-01-24\n",
      "Data columns (total 5 columns):\n",
      " #   Column          Non-Null Count  Dtype  \n",
      "---  ------          --------------  -----  \n",
      " 0   (Close, AAPL)   11120 non-null  float64\n",
      " 1   (High, AAPL)    11120 non-null  float64\n",
      " 2   (Low, AAPL)     11120 non-null  float64\n",
      " 3   (Open, AAPL)    11120 non-null  float64\n",
      " 4   (Volume, AAPL)  11120 non-null  int64  \n",
      "dtypes: float64(4), int64(1)\n",
      "memory usage: 521.2 KB\n"
     ]
    }
   ],
   "source": [
    "df.info()"
   ]
  },
  {
   "cell_type": "markdown",
   "id": "2656a6b7",
   "metadata": {},
   "source": [
    "- __Date__: Date (year-month-day) at midnight New York Time (business daily data without weekends and bank holidays)\n",
    "- __Open__: daily Open Price @ 9:30 am Eastern TimeZone\n",
    "- __High__: daily high/max price\n",
    "- __Low__: daily low/min price\n",
    "- __Close__: daily Close Price @ 4:00 pm Eastern TimeZone\n",
    "- __Adj Close__: Close price adjusted for Dividend Payments (backward adjusted)\n",
    "- __Volume__: daily Trading Volume (number of Shares)"
   ]
  },
  {
   "cell_type": "markdown",
   "id": "0b0d7c93",
   "metadata": {},
   "source": [
    "__Price Chart__"
   ]
  },
  {
   "cell_type": "code",
   "execution_count": 8,
   "id": "e9f70667",
   "metadata": {},
   "outputs": [
    {
     "data": {
      "image/png": "[encoded data removed]",
      "text/plain": [
       "<Figure size 1200x800 with 1 Axes>"
      ]
     },
     "metadata": {},
     "output_type": "display_data"
    }
   ],
   "source": [
    "df.Close.plot(figsize = (12, 8), fontsize = 12)\n",
    "plt.ylabel(\"Price (USD)\")\n",
    "plt.title(\"AAPL Price Chart\", fontsize = 15)\n",
    "plt.show()"
   ]
  },
  {
   "cell_type": "markdown",
   "id": "cd7f975b",
   "metadata": {},
   "source": [
    "__Volume Chart__"
   ]
  },
  {
   "cell_type": "code",
   "execution_count": 9,
   "id": "c92bc725",
   "metadata": {},
   "outputs": [
    {
     "data": {
      "image/png": "[encoded data removed]",
      "text/plain": [
       "<Figure size 1200x800 with 1 Axes>"
      ]
     },
     "metadata": {},
     "output_type": "display_data"
    }
   ],
   "source": [
    "df.loc[\"2022-6\", \"Volume\"].plot(figsize = (12, 8), kind = \"bar\")\n",
    "plt.ylabel(\"Volume (Shares)\")\n",
    "plt.title(\"AAPL Trading Volume (daily)\", fontsize = 15)\n",
    "plt.show()"
   ]
  },
  {
   "cell_type": "code",
   "execution_count": 10,
   "id": "856ca66b",
   "metadata": {},
   "outputs": [
    {
     "data": {
      "text/html": [
       "<div>\n",
       "<style scoped>\n",
       "    .dataframe tbody tr th:only-of-type {\n",
       "        vertical-align: middle;\n",
       "    }\n",
       "\n",
       "    .dataframe tbody tr th {\n",
       "        vertical-align: top;\n",
       "    }\n",
       "\n",
       "    .dataframe thead th {\n",
       "        text-align: right;\n",
       "    }\n",
       "</style>\n",
       "<table border=\"1\" class=\"dataframe\">\n",
       "  <thead>\n",
       "    <tr style=\"text-align: right;\">\n",
       "      <th>Ticker</th>\n",
       "      <th>AAPL</th>\n",
       "    </tr>\n",
       "  </thead>\n",
       "  <tbody>\n",
       "    <tr>\n",
       "      <th>1980-12-12</th>\n",
       "      <td>4.635669e+07</td>\n",
       "    </tr>\n",
       "    <tr>\n",
       "      <th>1980-12-15</th>\n",
       "      <td>1.647658e+07</td>\n",
       "    </tr>\n",
       "    <tr>\n",
       "      <th>1980-12-16</th>\n",
       "      <td>9.177447e+06</td>\n",
       "    </tr>\n",
       "    <tr>\n",
       "      <th>1980-12-17</th>\n",
       "      <td>7.689057e+06</td>\n",
       "    </tr>\n",
       "    <tr>\n",
       "      <th>1980-12-18</th>\n",
       "      <td>6.722826e+06</td>\n",
       "    </tr>\n",
       "    <tr>\n",
       "      <th>...</th>\n",
       "      <td>...</td>\n",
       "    </tr>\n",
       "    <tr>\n",
       "      <th>2025-01-17</th>\n",
       "      <td>1.575094e+10</td>\n",
       "    </tr>\n",
       "    <tr>\n",
       "      <th>2025-01-21</th>\n",
       "      <td>2.183439e+10</td>\n",
       "    </tr>\n",
       "    <tr>\n",
       "      <th>2025-01-22</th>\n",
       "      <td>1.435343e+10</td>\n",
       "    </tr>\n",
       "    <tr>\n",
       "      <th>2025-01-23</th>\n",
       "      <td>1.347212e+10</td>\n",
       "    </tr>\n",
       "    <tr>\n",
       "      <th>2025-01-24</th>\n",
       "      <td>1.216813e+10</td>\n",
       "    </tr>\n",
       "  </tbody>\n",
       "</table>\n",
       "<p>11120 rows × 1 columns</p>\n",
       "</div>"
      ],
      "text/plain": [
       "Ticker              AAPL\n",
       "1980-12-12  4.635669e+07\n",
       "1980-12-15  1.647658e+07\n",
       "1980-12-16  9.177447e+06\n",
       "1980-12-17  7.689057e+06\n",
       "1980-12-18  6.722826e+06\n",
       "...                  ...\n",
       "2025-01-17  1.575094e+10\n",
       "2025-01-21  2.183439e+10\n",
       "2025-01-22  1.435343e+10\n",
       "2025-01-23  1.347212e+10\n",
       "2025-01-24  1.216813e+10\n",
       "\n",
       "[11120 rows x 1 columns]"
      ]
     },
     "execution_count": 10,
     "metadata": {},
     "output_type": "execute_result"
    }
   ],
   "source": [
    "df.Volume.mul(df.Close) # Trading Volume (USD Value)"
   ]
  },
  {
   "cell_type": "code",
   "execution_count": null,
   "id": "3141b281",
   "metadata": {},
   "outputs": [],
   "source": []
  },
  {
   "cell_type": "markdown",
   "id": "9de17599",
   "metadata": {},
   "source": [
    "## Excursus: Versions and Updates"
   ]
  },
  {
   "cell_type": "markdown",
   "id": "d36e17fb-1215-420d-a029-2581504e1925",
   "metadata": {},
   "source": [
    "Note: From yfinance version 0.2.48, loading one symbol with yf.download() will lead to a Multi Level Index.\n",
    "To avoid this, set multi_level_index=False"
   ]
  },
  {
   "cell_type": "code",
   "execution_count": null,
   "id": "2ca3e45e",
   "metadata": {},
   "outputs": [],
   "source": [
    "yf.download(tickers = symbol) # creates a Multi Level Index (from yfinance 0.2.48)"
   ]
  },
  {
   "cell_type": "code",
   "execution_count": 17,
   "id": "ae8117cb-6868-4dd5-837a-2ca65778981c",
   "metadata": {},
   "outputs": [
    {
     "name": "stderr",
     "output_type": "stream",
     "text": [
      "[*********************100%***********************]  1 of 1 completed\n"
     ]
    }
   ],
   "source": [
    "df = yf.download(tickers = symbol, interval=\"1d\", multi_level_index=False) # avoids Multi Level Index (from yfinance 0.2.48)\n",
    "df.index = pd.to_datetime(df.index.date)"
   ]
  },
  {
   "cell_type": "markdown",
   "id": "1a40a322",
   "metadata": {},
   "source": [
    "You can get the __latest version__ of yfinance with the following command (Anaconda Prompt/Terminal Window):"
   ]
  },
  {
   "cell_type": "markdown",
   "id": "e110b4a0",
   "metadata": {},
   "source": [
    "pip install yfinance --upgrade"
   ]
  },
  {
   "cell_type": "code",
   "execution_count": 11,
   "id": "ee670600",
   "metadata": {},
   "outputs": [
    {
     "data": {
      "text/plain": [
       "'0.2.52'"
      ]
     },
     "execution_count": 11,
     "metadata": {},
     "output_type": "execute_result"
    }
   ],
   "source": [
    "yf.__version__"
   ]
  },
  {
   "cell_type": "code",
   "execution_count": 18,
   "id": "1a8f1b5f-729d-4cff-a751-653824e0579c",
   "metadata": {},
   "outputs": [
    {
     "data": {
      "text/plain": [
       "DatetimeIndex(['1980-12-12', '1980-12-15', '1980-12-16', '1980-12-17',\n",
       "               '1980-12-18', '1980-12-19', '1980-12-22', '1980-12-23',\n",
       "               '1980-12-24', '1980-12-26',\n",
       "               ...\n",
       "               '2025-01-10', '2025-01-13', '2025-01-14', '2025-01-15',\n",
       "               '2025-01-16', '2025-01-17', '2025-01-21', '2025-01-22',\n",
       "               '2025-01-23', '2025-01-24'],\n",
       "              dtype='datetime64[ns]', length=11120, freq=None)"
      ]
     },
     "execution_count": 18,
     "metadata": {},
     "output_type": "execute_result"
    }
   ],
   "source": [
    "df.index"
   ]
  },
  {
   "cell_type": "markdown",
   "id": "db0d9883",
   "metadata": {},
   "source": [
    "## Analysis Period"
   ]
  },
  {
   "cell_type": "code",
   "execution_count": 19,
   "id": "051f543b",
   "metadata": {},
   "outputs": [
    {
     "data": {
      "text/html": [
       "<div>\n",
       "<style scoped>\n",
       "    .dataframe tbody tr th:only-of-type {\n",
       "        vertical-align: middle;\n",
       "    }\n",
       "\n",
       "    .dataframe tbody tr th {\n",
       "        vertical-align: top;\n",
       "    }\n",
       "\n",
       "    .dataframe thead th {\n",
       "        text-align: right;\n",
       "    }\n",
       "</style>\n",
       "<table border=\"1\" class=\"dataframe\">\n",
       "  <thead>\n",
       "    <tr style=\"text-align: right;\">\n",
       "      <th></th>\n",
       "      <th>Close</th>\n",
       "      <th>High</th>\n",
       "      <th>Low</th>\n",
       "      <th>Open</th>\n",
       "      <th>Volume</th>\n",
       "    </tr>\n",
       "  </thead>\n",
       "  <tbody>\n",
       "    <tr>\n",
       "      <th>1980-12-12</th>\n",
       "      <td>0.098834</td>\n",
       "      <td>0.099264</td>\n",
       "      <td>0.098834</td>\n",
       "      <td>0.098834</td>\n",
       "      <td>469033600</td>\n",
       "    </tr>\n",
       "    <tr>\n",
       "      <th>1980-12-15</th>\n",
       "      <td>0.093678</td>\n",
       "      <td>0.094108</td>\n",
       "      <td>0.093678</td>\n",
       "      <td>0.094108</td>\n",
       "      <td>175884800</td>\n",
       "    </tr>\n",
       "    <tr>\n",
       "      <th>1980-12-16</th>\n",
       "      <td>0.086802</td>\n",
       "      <td>0.087232</td>\n",
       "      <td>0.086802</td>\n",
       "      <td>0.087232</td>\n",
       "      <td>105728000</td>\n",
       "    </tr>\n",
       "    <tr>\n",
       "      <th>1980-12-17</th>\n",
       "      <td>0.088951</td>\n",
       "      <td>0.089381</td>\n",
       "      <td>0.088951</td>\n",
       "      <td>0.088951</td>\n",
       "      <td>86441600</td>\n",
       "    </tr>\n",
       "    <tr>\n",
       "      <th>1980-12-18</th>\n",
       "      <td>0.091530</td>\n",
       "      <td>0.091959</td>\n",
       "      <td>0.091530</td>\n",
       "      <td>0.091530</td>\n",
       "      <td>73449600</td>\n",
       "    </tr>\n",
       "    <tr>\n",
       "      <th>...</th>\n",
       "      <td>...</td>\n",
       "      <td>...</td>\n",
       "      <td>...</td>\n",
       "      <td>...</td>\n",
       "      <td>...</td>\n",
       "    </tr>\n",
       "    <tr>\n",
       "      <th>2025-01-17</th>\n",
       "      <td>229.979996</td>\n",
       "      <td>232.289993</td>\n",
       "      <td>228.479996</td>\n",
       "      <td>232.119995</td>\n",
       "      <td>68488300</td>\n",
       "    </tr>\n",
       "    <tr>\n",
       "      <th>2025-01-21</th>\n",
       "      <td>222.639999</td>\n",
       "      <td>224.419998</td>\n",
       "      <td>219.380005</td>\n",
       "      <td>224.000000</td>\n",
       "      <td>98070400</td>\n",
       "    </tr>\n",
       "    <tr>\n",
       "      <th>2025-01-22</th>\n",
       "      <td>223.830002</td>\n",
       "      <td>224.119995</td>\n",
       "      <td>219.789993</td>\n",
       "      <td>219.789993</td>\n",
       "      <td>64126500</td>\n",
       "    </tr>\n",
       "    <tr>\n",
       "      <th>2025-01-23</th>\n",
       "      <td>223.660004</td>\n",
       "      <td>227.029999</td>\n",
       "      <td>222.300003</td>\n",
       "      <td>224.740005</td>\n",
       "      <td>60234800</td>\n",
       "    </tr>\n",
       "    <tr>\n",
       "      <th>2025-01-24</th>\n",
       "      <td>222.779999</td>\n",
       "      <td>225.630005</td>\n",
       "      <td>221.410004</td>\n",
       "      <td>224.779999</td>\n",
       "      <td>54619500</td>\n",
       "    </tr>\n",
       "  </tbody>\n",
       "</table>\n",
       "<p>11120 rows × 5 columns</p>\n",
       "</div>"
      ],
      "text/plain": [
       "                 Close        High         Low        Open     Volume\n",
       "1980-12-12    0.098834    0.099264    0.098834    0.098834  469033600\n",
       "1980-12-15    0.093678    0.094108    0.093678    0.094108  175884800\n",
       "1980-12-16    0.086802    0.087232    0.086802    0.087232  105728000\n",
       "1980-12-17    0.088951    0.089381    0.088951    0.088951   86441600\n",
       "1980-12-18    0.091530    0.091959    0.091530    0.091530   73449600\n",
       "...                ...         ...         ...         ...        ...\n",
       "2025-01-17  229.979996  232.289993  228.479996  232.119995   68488300\n",
       "2025-01-21  222.639999  224.419998  219.380005  224.000000   98070400\n",
       "2025-01-22  223.830002  224.119995  219.789993  219.789993   64126500\n",
       "2025-01-23  223.660004  227.029999  222.300003  224.740005   60234800\n",
       "2025-01-24  222.779999  225.630005  221.410004  224.779999   54619500\n",
       "\n",
       "[11120 rows x 5 columns]"
      ]
     },
     "execution_count": 19,
     "metadata": {},
     "output_type": "execute_result"
    }
   ],
   "source": [
    "df"
   ]
  },
  {
   "cell_type": "code",
   "execution_count": 20,
   "id": "2bd966c5",
   "metadata": {},
   "outputs": [
    {
     "data": {
      "text/html": [
       "<div>\n",
       "<style scoped>\n",
       "    .dataframe tbody tr th:only-of-type {\n",
       "        vertical-align: middle;\n",
       "    }\n",
       "\n",
       "    .dataframe tbody tr th {\n",
       "        vertical-align: top;\n",
       "    }\n",
       "\n",
       "    .dataframe thead th {\n",
       "        text-align: right;\n",
       "    }\n",
       "</style>\n",
       "<table border=\"1\" class=\"dataframe\">\n",
       "  <thead>\n",
       "    <tr style=\"text-align: right;\">\n",
       "      <th></th>\n",
       "      <th>Close</th>\n",
       "      <th>High</th>\n",
       "      <th>Low</th>\n",
       "      <th>Open</th>\n",
       "      <th>Volume</th>\n",
       "    </tr>\n",
       "  </thead>\n",
       "  <tbody>\n",
       "    <tr>\n",
       "      <th>2022-01-03</th>\n",
       "      <td>179.076599</td>\n",
       "      <td>179.932588</td>\n",
       "      <td>174.845913</td>\n",
       "      <td>174.963974</td>\n",
       "      <td>104487900</td>\n",
       "    </tr>\n",
       "    <tr>\n",
       "      <th>2022-01-04</th>\n",
       "      <td>176.803802</td>\n",
       "      <td>179.991589</td>\n",
       "      <td>176.233148</td>\n",
       "      <td>179.686588</td>\n",
       "      <td>99310400</td>\n",
       "    </tr>\n",
       "    <tr>\n",
       "      <th>2022-01-05</th>\n",
       "      <td>172.100845</td>\n",
       "      <td>177.266232</td>\n",
       "      <td>171.825359</td>\n",
       "      <td>176.715260</td>\n",
       "      <td>94537600</td>\n",
       "    </tr>\n",
       "    <tr>\n",
       "      <th>2022-01-06</th>\n",
       "      <td>169.227921</td>\n",
       "      <td>172.474738</td>\n",
       "      <td>168.873722</td>\n",
       "      <td>169.916636</td>\n",
       "      <td>96904000</td>\n",
       "    </tr>\n",
       "    <tr>\n",
       "      <th>2022-01-07</th>\n",
       "      <td>169.395203</td>\n",
       "      <td>171.333454</td>\n",
       "      <td>168.273576</td>\n",
       "      <td>170.103600</td>\n",
       "      <td>86709100</td>\n",
       "    </tr>\n",
       "    <tr>\n",
       "      <th>2022-01-10</th>\n",
       "      <td>169.414871</td>\n",
       "      <td>169.719873</td>\n",
       "      <td>165.459656</td>\n",
       "      <td>166.354993</td>\n",
       "      <td>106765600</td>\n",
       "    </tr>\n",
       "    <tr>\n",
       "      <th>2022-01-11</th>\n",
       "      <td>172.258286</td>\n",
       "      <td>172.356665</td>\n",
       "      <td>168.066948</td>\n",
       "      <td>169.542773</td>\n",
       "      <td>76138300</td>\n",
       "    </tr>\n",
       "    <tr>\n",
       "      <th>2022-01-12</th>\n",
       "      <td>172.701019</td>\n",
       "      <td>174.324421</td>\n",
       "      <td>172.002471</td>\n",
       "      <td>173.281507</td>\n",
       "      <td>74805200</td>\n",
       "    </tr>\n",
       "    <tr>\n",
       "      <th>2022-01-13</th>\n",
       "      <td>169.414871</td>\n",
       "      <td>173.773467</td>\n",
       "      <td>169.021309</td>\n",
       "      <td>172.947009</td>\n",
       "      <td>84505800</td>\n",
       "    </tr>\n",
       "    <tr>\n",
       "      <th>2022-01-14</th>\n",
       "      <td>170.280685</td>\n",
       "      <td>170.979234</td>\n",
       "      <td>168.332586</td>\n",
       "      <td>168.578557</td>\n",
       "      <td>80440800</td>\n",
       "    </tr>\n",
       "  </tbody>\n",
       "</table>\n",
       "</div>"
      ],
      "text/plain": [
       "                 Close        High         Low        Open     Volume\n",
       "2022-01-03  179.076599  179.932588  174.845913  174.963974  104487900\n",
       "2022-01-04  176.803802  179.991589  176.233148  179.686588   99310400\n",
       "2022-01-05  172.100845  177.266232  171.825359  176.715260   94537600\n",
       "2022-01-06  169.227921  172.474738  168.873722  169.916636   96904000\n",
       "2022-01-07  169.395203  171.333454  168.273576  170.103600   86709100\n",
       "2022-01-10  169.414871  169.719873  165.459656  166.354993  106765600\n",
       "2022-01-11  172.258286  172.356665  168.066948  169.542773   76138300\n",
       "2022-01-12  172.701019  174.324421  172.002471  173.281507   74805200\n",
       "2022-01-13  169.414871  173.773467  169.021309  172.947009   84505800\n",
       "2022-01-14  170.280685  170.979234  168.332586  168.578557   80440800"
      ]
     },
     "execution_count": 20,
     "metadata": {},
     "output_type": "execute_result"
    }
   ],
   "source": [
    "df.loc[\"2022-01-01\":\"2022-01-15\"]"
   ]
  },
  {
   "cell_type": "code",
   "execution_count": 21,
   "id": "93ddef9b",
   "metadata": {},
   "outputs": [
    {
     "data": {
      "text/html": [
       "<div>\n",
       "<style scoped>\n",
       "    .dataframe tbody tr th:only-of-type {\n",
       "        vertical-align: middle;\n",
       "    }\n",
       "\n",
       "    .dataframe tbody tr th {\n",
       "        vertical-align: top;\n",
       "    }\n",
       "\n",
       "    .dataframe thead th {\n",
       "        text-align: right;\n",
       "    }\n",
       "</style>\n",
       "<table border=\"1\" class=\"dataframe\">\n",
       "  <thead>\n",
       "    <tr style=\"text-align: right;\">\n",
       "      <th></th>\n",
       "      <th>Close</th>\n",
       "      <th>High</th>\n",
       "      <th>Low</th>\n",
       "      <th>Open</th>\n",
       "      <th>Volume</th>\n",
       "    </tr>\n",
       "  </thead>\n",
       "  <tbody>\n",
       "    <tr>\n",
       "      <th>2022-01-03</th>\n",
       "      <td>179.076599</td>\n",
       "      <td>179.932588</td>\n",
       "      <td>174.845913</td>\n",
       "      <td>174.963974</td>\n",
       "      <td>104487900</td>\n",
       "    </tr>\n",
       "    <tr>\n",
       "      <th>2022-01-04</th>\n",
       "      <td>176.803802</td>\n",
       "      <td>179.991589</td>\n",
       "      <td>176.233148</td>\n",
       "      <td>179.686588</td>\n",
       "      <td>99310400</td>\n",
       "    </tr>\n",
       "    <tr>\n",
       "      <th>2022-01-05</th>\n",
       "      <td>172.100845</td>\n",
       "      <td>177.266232</td>\n",
       "      <td>171.825359</td>\n",
       "      <td>176.715260</td>\n",
       "      <td>94537600</td>\n",
       "    </tr>\n",
       "    <tr>\n",
       "      <th>2022-01-06</th>\n",
       "      <td>169.227921</td>\n",
       "      <td>172.474738</td>\n",
       "      <td>168.873722</td>\n",
       "      <td>169.916636</td>\n",
       "      <td>96904000</td>\n",
       "    </tr>\n",
       "    <tr>\n",
       "      <th>2022-01-07</th>\n",
       "      <td>169.395203</td>\n",
       "      <td>171.333454</td>\n",
       "      <td>168.273576</td>\n",
       "      <td>170.103600</td>\n",
       "      <td>86709100</td>\n",
       "    </tr>\n",
       "    <tr>\n",
       "      <th>...</th>\n",
       "      <td>...</td>\n",
       "      <td>...</td>\n",
       "      <td>...</td>\n",
       "      <td>...</td>\n",
       "      <td>...</td>\n",
       "    </tr>\n",
       "    <tr>\n",
       "      <th>2022-12-23</th>\n",
       "      <td>130.487778</td>\n",
       "      <td>131.041948</td>\n",
       "      <td>128.290879</td>\n",
       "      <td>129.557558</td>\n",
       "      <td>63814900</td>\n",
       "    </tr>\n",
       "    <tr>\n",
       "      <th>2022-12-27</th>\n",
       "      <td>128.676849</td>\n",
       "      <td>130.042493</td>\n",
       "      <td>127.380484</td>\n",
       "      <td>130.012807</td>\n",
       "      <td>69007800</td>\n",
       "    </tr>\n",
       "    <tr>\n",
       "      <th>2022-12-28</th>\n",
       "      <td>124.728378</td>\n",
       "      <td>129.666448</td>\n",
       "      <td>124.560149</td>\n",
       "      <td>128.320600</td>\n",
       "      <td>85438400</td>\n",
       "    </tr>\n",
       "    <tr>\n",
       "      <th>2022-12-29</th>\n",
       "      <td>128.261215</td>\n",
       "      <td>129.122157</td>\n",
       "      <td>126.400782</td>\n",
       "      <td>126.658071</td>\n",
       "      <td>75703700</td>\n",
       "    </tr>\n",
       "    <tr>\n",
       "      <th>2022-12-30</th>\n",
       "      <td>128.577881</td>\n",
       "      <td>128.597677</td>\n",
       "      <td>126.103905</td>\n",
       "      <td>127.073710</td>\n",
       "      <td>77034200</td>\n",
       "    </tr>\n",
       "  </tbody>\n",
       "</table>\n",
       "<p>251 rows × 5 columns</p>\n",
       "</div>"
      ],
      "text/plain": [
       "                 Close        High         Low        Open     Volume\n",
       "2022-01-03  179.076599  179.932588  174.845913  174.963974  104487900\n",
       "2022-01-04  176.803802  179.991589  176.233148  179.686588   99310400\n",
       "2022-01-05  172.100845  177.266232  171.825359  176.715260   94537600\n",
       "2022-01-06  169.227921  172.474738  168.873722  169.916636   96904000\n",
       "2022-01-07  169.395203  171.333454  168.273576  170.103600   86709100\n",
       "...                ...         ...         ...         ...        ...\n",
       "2022-12-23  130.487778  131.041948  128.290879  129.557558   63814900\n",
       "2022-12-27  128.676849  130.042493  127.380484  130.012807   69007800\n",
       "2022-12-28  124.728378  129.666448  124.560149  128.320600   85438400\n",
       "2022-12-29  128.261215  129.122157  126.400782  126.658071   75703700\n",
       "2022-12-30  128.577881  128.597677  126.103905  127.073710   77034200\n",
       "\n",
       "[251 rows x 5 columns]"
      ]
     },
     "execution_count": 21,
     "metadata": {},
     "output_type": "execute_result"
    }
   ],
   "source": [
    "df.loc[\"2022\"]"
   ]
  },
  {
   "cell_type": "code",
   "execution_count": 22,
   "id": "b9166e7f",
   "metadata": {},
   "outputs": [
    {
     "data": {
      "text/html": [
       "<div>\n",
       "<style scoped>\n",
       "    .dataframe tbody tr th:only-of-type {\n",
       "        vertical-align: middle;\n",
       "    }\n",
       "\n",
       "    .dataframe tbody tr th {\n",
       "        vertical-align: top;\n",
       "    }\n",
       "\n",
       "    .dataframe thead th {\n",
       "        text-align: right;\n",
       "    }\n",
       "</style>\n",
       "<table border=\"1\" class=\"dataframe\">\n",
       "  <thead>\n",
       "    <tr style=\"text-align: right;\">\n",
       "      <th></th>\n",
       "      <th>Close</th>\n",
       "      <th>High</th>\n",
       "      <th>Low</th>\n",
       "      <th>Open</th>\n",
       "      <th>Volume</th>\n",
       "    </tr>\n",
       "  </thead>\n",
       "  <tbody>\n",
       "    <tr>\n",
       "      <th>2017-01-03</th>\n",
       "      <td>26.891958</td>\n",
       "      <td>26.933633</td>\n",
       "      <td>26.570135</td>\n",
       "      <td>26.810924</td>\n",
       "      <td>115127600</td>\n",
       "    </tr>\n",
       "    <tr>\n",
       "      <th>2017-01-04</th>\n",
       "      <td>26.861862</td>\n",
       "      <td>26.975312</td>\n",
       "      <td>26.799350</td>\n",
       "      <td>26.822503</td>\n",
       "      <td>84472400</td>\n",
       "    </tr>\n",
       "    <tr>\n",
       "      <th>2017-01-05</th>\n",
       "      <td>26.998470</td>\n",
       "      <td>27.056352</td>\n",
       "      <td>26.813247</td>\n",
       "      <td>26.838715</td>\n",
       "      <td>88774400</td>\n",
       "    </tr>\n",
       "    <tr>\n",
       "      <th>2017-01-06</th>\n",
       "      <td>27.299448</td>\n",
       "      <td>27.357330</td>\n",
       "      <td>26.966047</td>\n",
       "      <td>27.037820</td>\n",
       "      <td>127007600</td>\n",
       "    </tr>\n",
       "    <tr>\n",
       "      <th>2017-01-09</th>\n",
       "      <td>27.549492</td>\n",
       "      <td>27.651365</td>\n",
       "      <td>27.306389</td>\n",
       "      <td>27.308703</td>\n",
       "      <td>134247600</td>\n",
       "    </tr>\n",
       "    <tr>\n",
       "      <th>...</th>\n",
       "      <td>...</td>\n",
       "      <td>...</td>\n",
       "      <td>...</td>\n",
       "      <td>...</td>\n",
       "      <td>...</td>\n",
       "    </tr>\n",
       "    <tr>\n",
       "      <th>2025-01-17</th>\n",
       "      <td>229.979996</td>\n",
       "      <td>232.289993</td>\n",
       "      <td>228.479996</td>\n",
       "      <td>232.119995</td>\n",
       "      <td>68488300</td>\n",
       "    </tr>\n",
       "    <tr>\n",
       "      <th>2025-01-21</th>\n",
       "      <td>222.639999</td>\n",
       "      <td>224.419998</td>\n",
       "      <td>219.380005</td>\n",
       "      <td>224.000000</td>\n",
       "      <td>98070400</td>\n",
       "    </tr>\n",
       "    <tr>\n",
       "      <th>2025-01-22</th>\n",
       "      <td>223.830002</td>\n",
       "      <td>224.119995</td>\n",
       "      <td>219.789993</td>\n",
       "      <td>219.789993</td>\n",
       "      <td>64126500</td>\n",
       "    </tr>\n",
       "    <tr>\n",
       "      <th>2025-01-23</th>\n",
       "      <td>223.660004</td>\n",
       "      <td>227.029999</td>\n",
       "      <td>222.300003</td>\n",
       "      <td>224.740005</td>\n",
       "      <td>60234800</td>\n",
       "    </tr>\n",
       "    <tr>\n",
       "      <th>2025-01-24</th>\n",
       "      <td>222.779999</td>\n",
       "      <td>225.630005</td>\n",
       "      <td>221.410004</td>\n",
       "      <td>224.779999</td>\n",
       "      <td>54619500</td>\n",
       "    </tr>\n",
       "  </tbody>\n",
       "</table>\n",
       "<p>2027 rows × 5 columns</p>\n",
       "</div>"
      ],
      "text/plain": [
       "                 Close        High         Low        Open     Volume\n",
       "2017-01-03   26.891958   26.933633   26.570135   26.810924  115127600\n",
       "2017-01-04   26.861862   26.975312   26.799350   26.822503   84472400\n",
       "2017-01-05   26.998470   27.056352   26.813247   26.838715   88774400\n",
       "2017-01-06   27.299448   27.357330   26.966047   27.037820  127007600\n",
       "2017-01-09   27.549492   27.651365   27.306389   27.308703  134247600\n",
       "...                ...         ...         ...         ...        ...\n",
       "2025-01-17  229.979996  232.289993  228.479996  232.119995   68488300\n",
       "2025-01-21  222.639999  224.419998  219.380005  224.000000   98070400\n",
       "2025-01-22  223.830002  224.119995  219.789993  219.789993   64126500\n",
       "2025-01-23  223.660004  227.029999  222.300003  224.740005   60234800\n",
       "2025-01-24  222.779999  225.630005  221.410004  224.779999   54619500\n",
       "\n",
       "[2027 rows x 5 columns]"
      ]
     },
     "execution_count": 22,
     "metadata": {},
     "output_type": "execute_result"
    }
   ],
   "source": [
    "df.loc[\"2017\":]"
   ]
  },
  {
   "cell_type": "code",
   "execution_count": 25,
   "id": "9bc6066f-f120-46c7-8ab8-d3b01f439f91",
   "metadata": {},
   "outputs": [
    {
     "data": {
      "text/html": [
       "<div>\n",
       "<style scoped>\n",
       "    .dataframe tbody tr th:only-of-type {\n",
       "        vertical-align: middle;\n",
       "    }\n",
       "\n",
       "    .dataframe tbody tr th {\n",
       "        vertical-align: top;\n",
       "    }\n",
       "\n",
       "    .dataframe thead th {\n",
       "        text-align: right;\n",
       "    }\n",
       "</style>\n",
       "<table border=\"1\" class=\"dataframe\">\n",
       "  <thead>\n",
       "    <tr style=\"text-align: right;\">\n",
       "      <th></th>\n",
       "      <th>Close</th>\n",
       "      <th>Volume</th>\n",
       "    </tr>\n",
       "  </thead>\n",
       "  <tbody>\n",
       "    <tr>\n",
       "      <th>1980-12-12</th>\n",
       "      <td>0.098834</td>\n",
       "      <td>469033600</td>\n",
       "    </tr>\n",
       "    <tr>\n",
       "      <th>1980-12-15</th>\n",
       "      <td>0.093678</td>\n",
       "      <td>175884800</td>\n",
       "    </tr>\n",
       "    <tr>\n",
       "      <th>1980-12-16</th>\n",
       "      <td>0.086802</td>\n",
       "      <td>105728000</td>\n",
       "    </tr>\n",
       "    <tr>\n",
       "      <th>1980-12-17</th>\n",
       "      <td>0.088951</td>\n",
       "      <td>86441600</td>\n",
       "    </tr>\n",
       "    <tr>\n",
       "      <th>1980-12-18</th>\n",
       "      <td>0.091530</td>\n",
       "      <td>73449600</td>\n",
       "    </tr>\n",
       "    <tr>\n",
       "      <th>...</th>\n",
       "      <td>...</td>\n",
       "      <td>...</td>\n",
       "    </tr>\n",
       "    <tr>\n",
       "      <th>2025-01-17</th>\n",
       "      <td>229.979996</td>\n",
       "      <td>68488300</td>\n",
       "    </tr>\n",
       "    <tr>\n",
       "      <th>2025-01-21</th>\n",
       "      <td>222.639999</td>\n",
       "      <td>98070400</td>\n",
       "    </tr>\n",
       "    <tr>\n",
       "      <th>2025-01-22</th>\n",
       "      <td>223.830002</td>\n",
       "      <td>64126500</td>\n",
       "    </tr>\n",
       "    <tr>\n",
       "      <th>2025-01-23</th>\n",
       "      <td>223.660004</td>\n",
       "      <td>60234800</td>\n",
       "    </tr>\n",
       "    <tr>\n",
       "      <th>2025-01-24</th>\n",
       "      <td>222.779999</td>\n",
       "      <td>54619500</td>\n",
       "    </tr>\n",
       "  </tbody>\n",
       "</table>\n",
       "<p>11120 rows × 2 columns</p>\n",
       "</div>"
      ],
      "text/plain": [
       "                 Close     Volume\n",
       "1980-12-12    0.098834  469033600\n",
       "1980-12-15    0.093678  175884800\n",
       "1980-12-16    0.086802  105728000\n",
       "1980-12-17    0.088951   86441600\n",
       "1980-12-18    0.091530   73449600\n",
       "...                ...        ...\n",
       "2025-01-17  229.979996   68488300\n",
       "2025-01-21  222.639999   98070400\n",
       "2025-01-22  223.830002   64126500\n",
       "2025-01-23  223.660004   60234800\n",
       "2025-01-24  222.779999   54619500\n",
       "\n",
       "[11120 rows x 2 columns]"
      ]
     },
     "execution_count": 25,
     "metadata": {},
     "output_type": "execute_result"
    }
   ],
   "source": [
    "df.loc[:, [\"Close\", \"Volume\"]]"
   ]
  },
  {
   "cell_type": "code",
   "execution_count": 26,
   "id": "8e2ecf0a",
   "metadata": {},
   "outputs": [
    {
     "name": "stderr",
     "output_type": "stream",
     "text": [
      "[*********************100%***********************]  1 of 1 completed\n"
     ]
    },
    {
     "data": {
      "text/html": [
       "<div>\n",
       "<style scoped>\n",
       "    .dataframe tbody tr th:only-of-type {\n",
       "        vertical-align: middle;\n",
       "    }\n",
       "\n",
       "    .dataframe tbody tr th {\n",
       "        vertical-align: top;\n",
       "    }\n",
       "\n",
       "    .dataframe thead tr th {\n",
       "        text-align: left;\n",
       "    }\n",
       "\n",
       "    .dataframe thead tr:last-of-type th {\n",
       "        text-align: right;\n",
       "    }\n",
       "</style>\n",
       "<table border=\"1\" class=\"dataframe\">\n",
       "  <thead>\n",
       "    <tr>\n",
       "      <th>Price</th>\n",
       "      <th>Close</th>\n",
       "      <th>High</th>\n",
       "      <th>Low</th>\n",
       "      <th>Open</th>\n",
       "      <th>Volume</th>\n",
       "    </tr>\n",
       "    <tr>\n",
       "      <th>Ticker</th>\n",
       "      <th>AAPL</th>\n",
       "      <th>AAPL</th>\n",
       "      <th>AAPL</th>\n",
       "      <th>AAPL</th>\n",
       "      <th>AAPL</th>\n",
       "    </tr>\n",
       "    <tr>\n",
       "      <th>Date</th>\n",
       "      <th></th>\n",
       "      <th></th>\n",
       "      <th></th>\n",
       "      <th></th>\n",
       "      <th></th>\n",
       "    </tr>\n",
       "  </thead>\n",
       "  <tbody>\n",
       "    <tr>\n",
       "      <th>2020-07-01</th>\n",
       "      <td>88.698448</td>\n",
       "      <td>89.490159</td>\n",
       "      <td>88.649732</td>\n",
       "      <td>88.944490</td>\n",
       "      <td>110737200</td>\n",
       "    </tr>\n",
       "    <tr>\n",
       "      <th>2020-07-02</th>\n",
       "      <td>88.698448</td>\n",
       "      <td>90.247770</td>\n",
       "      <td>88.583962</td>\n",
       "      <td>89.609530</td>\n",
       "      <td>114041600</td>\n",
       "    </tr>\n",
       "    <tr>\n",
       "      <th>2020-07-06</th>\n",
       "      <td>91.071175</td>\n",
       "      <td>91.541328</td>\n",
       "      <td>90.101630</td>\n",
       "      <td>90.133300</td>\n",
       "      <td>118655600</td>\n",
       "    </tr>\n",
       "    <tr>\n",
       "      <th>2020-07-07</th>\n",
       "      <td>90.788589</td>\n",
       "      <td>92.233156</td>\n",
       "      <td>90.676534</td>\n",
       "      <td>91.451191</td>\n",
       "      <td>112424400</td>\n",
       "    </tr>\n",
       "    <tr>\n",
       "      <th>2020-07-08</th>\n",
       "      <td>92.903053</td>\n",
       "      <td>92.934723</td>\n",
       "      <td>91.682598</td>\n",
       "      <td>91.770299</td>\n",
       "      <td>117092000</td>\n",
       "    </tr>\n",
       "    <tr>\n",
       "      <th>...</th>\n",
       "      <td>...</td>\n",
       "      <td>...</td>\n",
       "      <td>...</td>\n",
       "      <td>...</td>\n",
       "      <td>...</td>\n",
       "    </tr>\n",
       "    <tr>\n",
       "      <th>2020-12-23</th>\n",
       "      <td>128.059906</td>\n",
       "      <td>129.497339</td>\n",
       "      <td>127.883884</td>\n",
       "      <td>129.233329</td>\n",
       "      <td>88223700</td>\n",
       "    </tr>\n",
       "    <tr>\n",
       "      <th>2020-12-24</th>\n",
       "      <td>129.047546</td>\n",
       "      <td>130.504556</td>\n",
       "      <td>128.196817</td>\n",
       "      <td>128.411947</td>\n",
       "      <td>54930100</td>\n",
       "    </tr>\n",
       "    <tr>\n",
       "      <th>2020-12-28</th>\n",
       "      <td>133.662994</td>\n",
       "      <td>134.298594</td>\n",
       "      <td>130.553408</td>\n",
       "      <td>131.022789</td>\n",
       "      <td>124486200</td>\n",
       "    </tr>\n",
       "    <tr>\n",
       "      <th>2020-12-29</th>\n",
       "      <td>131.883316</td>\n",
       "      <td>135.716506</td>\n",
       "      <td>131.365054</td>\n",
       "      <td>134.992903</td>\n",
       "      <td>121047300</td>\n",
       "    </tr>\n",
       "    <tr>\n",
       "      <th>2020-12-30</th>\n",
       "      <td>130.758789</td>\n",
       "      <td>132.978524</td>\n",
       "      <td>130.445868</td>\n",
       "      <td>132.577600</td>\n",
       "      <td>96452100</td>\n",
       "    </tr>\n",
       "  </tbody>\n",
       "</table>\n",
       "<p>127 rows × 5 columns</p>\n",
       "</div>"
      ],
      "text/plain": [
       "Price            Close        High         Low        Open     Volume\n",
       "Ticker            AAPL        AAPL        AAPL        AAPL       AAPL\n",
       "Date                                                                 \n",
       "2020-07-01   88.698448   89.490159   88.649732   88.944490  110737200\n",
       "2020-07-02   88.698448   90.247770   88.583962   89.609530  114041600\n",
       "2020-07-06   91.071175   91.541328   90.101630   90.133300  118655600\n",
       "2020-07-07   90.788589   92.233156   90.676534   91.451191  112424400\n",
       "2020-07-08   92.903053   92.934723   91.682598   91.770299  117092000\n",
       "...                ...         ...         ...         ...        ...\n",
       "2020-12-23  128.059906  129.497339  127.883884  129.233329   88223700\n",
       "2020-12-24  129.047546  130.504556  128.196817  128.411947   54930100\n",
       "2020-12-28  133.662994  134.298594  130.553408  131.022789  124486200\n",
       "2020-12-29  131.883316  135.716506  131.365054  134.992903  121047300\n",
       "2020-12-30  130.758789  132.978524  130.445868  132.577600   96452100\n",
       "\n",
       "[127 rows x 5 columns]"
      ]
     },
     "execution_count": 26,
     "metadata": {},
     "output_type": "execute_result"
    }
   ],
   "source": [
    "df = yf.download(tickers = symbol, start = \"2020-07-01\", end = \"2020-12-31\")\n",
    "df"
   ]
  },
  {
   "cell_type": "markdown",
   "id": "53753166",
   "metadata": {},
   "source": [
    "Valid periods: 1d,5d,1mo,3mo,6mo,1y,2y,5y,10y,ytd,max"
   ]
  },
  {
   "cell_type": "code",
   "execution_count": 27,
   "id": "d961b048",
   "metadata": {},
   "outputs": [
    {
     "name": "stderr",
     "output_type": "stream",
     "text": [
      "[*********************100%***********************]  1 of 1 completed\n"
     ]
    },
    {
     "data": {
      "text/html": [
       "<div>\n",
       "<style scoped>\n",
       "    .dataframe tbody tr th:only-of-type {\n",
       "        vertical-align: middle;\n",
       "    }\n",
       "\n",
       "    .dataframe tbody tr th {\n",
       "        vertical-align: top;\n",
       "    }\n",
       "\n",
       "    .dataframe thead tr th {\n",
       "        text-align: left;\n",
       "    }\n",
       "\n",
       "    .dataframe thead tr:last-of-type th {\n",
       "        text-align: right;\n",
       "    }\n",
       "</style>\n",
       "<table border=\"1\" class=\"dataframe\">\n",
       "  <thead>\n",
       "    <tr>\n",
       "      <th>Price</th>\n",
       "      <th>Close</th>\n",
       "      <th>High</th>\n",
       "      <th>Low</th>\n",
       "      <th>Open</th>\n",
       "      <th>Volume</th>\n",
       "    </tr>\n",
       "    <tr>\n",
       "      <th>Ticker</th>\n",
       "      <th>AAPL</th>\n",
       "      <th>AAPL</th>\n",
       "      <th>AAPL</th>\n",
       "      <th>AAPL</th>\n",
       "      <th>AAPL</th>\n",
       "    </tr>\n",
       "    <tr>\n",
       "      <th>Date</th>\n",
       "      <th></th>\n",
       "      <th></th>\n",
       "      <th></th>\n",
       "      <th></th>\n",
       "      <th></th>\n",
       "    </tr>\n",
       "  </thead>\n",
       "  <tbody>\n",
       "    <tr>\n",
       "      <th>2024-12-26</th>\n",
       "      <td>259.019989</td>\n",
       "      <td>260.100006</td>\n",
       "      <td>257.630005</td>\n",
       "      <td>258.190002</td>\n",
       "      <td>27237100</td>\n",
       "    </tr>\n",
       "    <tr>\n",
       "      <th>2024-12-27</th>\n",
       "      <td>255.589996</td>\n",
       "      <td>258.700012</td>\n",
       "      <td>253.059998</td>\n",
       "      <td>257.829987</td>\n",
       "      <td>42355300</td>\n",
       "    </tr>\n",
       "    <tr>\n",
       "      <th>2024-12-30</th>\n",
       "      <td>252.199997</td>\n",
       "      <td>253.500000</td>\n",
       "      <td>250.750000</td>\n",
       "      <td>252.229996</td>\n",
       "      <td>35557500</td>\n",
       "    </tr>\n",
       "    <tr>\n",
       "      <th>2024-12-31</th>\n",
       "      <td>250.419998</td>\n",
       "      <td>253.279999</td>\n",
       "      <td>249.429993</td>\n",
       "      <td>252.440002</td>\n",
       "      <td>39480700</td>\n",
       "    </tr>\n",
       "    <tr>\n",
       "      <th>2025-01-02</th>\n",
       "      <td>243.850006</td>\n",
       "      <td>249.100006</td>\n",
       "      <td>241.820007</td>\n",
       "      <td>248.929993</td>\n",
       "      <td>55740700</td>\n",
       "    </tr>\n",
       "    <tr>\n",
       "      <th>2025-01-03</th>\n",
       "      <td>243.360001</td>\n",
       "      <td>244.179993</td>\n",
       "      <td>241.889999</td>\n",
       "      <td>243.360001</td>\n",
       "      <td>40244100</td>\n",
       "    </tr>\n",
       "    <tr>\n",
       "      <th>2025-01-06</th>\n",
       "      <td>245.000000</td>\n",
       "      <td>247.330002</td>\n",
       "      <td>243.199997</td>\n",
       "      <td>244.309998</td>\n",
       "      <td>45045600</td>\n",
       "    </tr>\n",
       "    <tr>\n",
       "      <th>2025-01-07</th>\n",
       "      <td>242.210007</td>\n",
       "      <td>245.550003</td>\n",
       "      <td>241.350006</td>\n",
       "      <td>242.979996</td>\n",
       "      <td>40856000</td>\n",
       "    </tr>\n",
       "    <tr>\n",
       "      <th>2025-01-08</th>\n",
       "      <td>242.699997</td>\n",
       "      <td>243.710007</td>\n",
       "      <td>240.050003</td>\n",
       "      <td>241.919998</td>\n",
       "      <td>37628900</td>\n",
       "    </tr>\n",
       "    <tr>\n",
       "      <th>2025-01-10</th>\n",
       "      <td>236.850006</td>\n",
       "      <td>240.160004</td>\n",
       "      <td>233.000000</td>\n",
       "      <td>240.009995</td>\n",
       "      <td>61710900</td>\n",
       "    </tr>\n",
       "    <tr>\n",
       "      <th>2025-01-13</th>\n",
       "      <td>234.399994</td>\n",
       "      <td>234.669998</td>\n",
       "      <td>229.720001</td>\n",
       "      <td>233.529999</td>\n",
       "      <td>49630700</td>\n",
       "    </tr>\n",
       "    <tr>\n",
       "      <th>2025-01-14</th>\n",
       "      <td>233.279999</td>\n",
       "      <td>236.119995</td>\n",
       "      <td>232.470001</td>\n",
       "      <td>234.750000</td>\n",
       "      <td>39435300</td>\n",
       "    </tr>\n",
       "    <tr>\n",
       "      <th>2025-01-15</th>\n",
       "      <td>237.869995</td>\n",
       "      <td>238.960007</td>\n",
       "      <td>234.429993</td>\n",
       "      <td>234.639999</td>\n",
       "      <td>39832000</td>\n",
       "    </tr>\n",
       "    <tr>\n",
       "      <th>2025-01-16</th>\n",
       "      <td>228.259995</td>\n",
       "      <td>238.009995</td>\n",
       "      <td>228.029999</td>\n",
       "      <td>237.350006</td>\n",
       "      <td>71759100</td>\n",
       "    </tr>\n",
       "    <tr>\n",
       "      <th>2025-01-17</th>\n",
       "      <td>229.979996</td>\n",
       "      <td>232.289993</td>\n",
       "      <td>228.479996</td>\n",
       "      <td>232.119995</td>\n",
       "      <td>68488300</td>\n",
       "    </tr>\n",
       "    <tr>\n",
       "      <th>2025-01-21</th>\n",
       "      <td>222.639999</td>\n",
       "      <td>224.419998</td>\n",
       "      <td>219.380005</td>\n",
       "      <td>224.000000</td>\n",
       "      <td>98070400</td>\n",
       "    </tr>\n",
       "    <tr>\n",
       "      <th>2025-01-22</th>\n",
       "      <td>223.830002</td>\n",
       "      <td>224.119995</td>\n",
       "      <td>219.789993</td>\n",
       "      <td>219.789993</td>\n",
       "      <td>64126500</td>\n",
       "    </tr>\n",
       "    <tr>\n",
       "      <th>2025-01-23</th>\n",
       "      <td>223.660004</td>\n",
       "      <td>227.029999</td>\n",
       "      <td>222.300003</td>\n",
       "      <td>224.740005</td>\n",
       "      <td>60234800</td>\n",
       "    </tr>\n",
       "    <tr>\n",
       "      <th>2025-01-24</th>\n",
       "      <td>222.779999</td>\n",
       "      <td>225.630005</td>\n",
       "      <td>221.410004</td>\n",
       "      <td>224.779999</td>\n",
       "      <td>54619500</td>\n",
       "    </tr>\n",
       "  </tbody>\n",
       "</table>\n",
       "</div>"
      ],
      "text/plain": [
       "Price            Close        High         Low        Open    Volume\n",
       "Ticker            AAPL        AAPL        AAPL        AAPL      AAPL\n",
       "Date                                                                \n",
       "2024-12-26  259.019989  260.100006  257.630005  258.190002  27237100\n",
       "2024-12-27  255.589996  258.700012  253.059998  257.829987  42355300\n",
       "2024-12-30  252.199997  253.500000  250.750000  252.229996  35557500\n",
       "2024-12-31  250.419998  253.279999  249.429993  252.440002  39480700\n",
       "2025-01-02  243.850006  249.100006  241.820007  248.929993  55740700\n",
       "2025-01-03  243.360001  244.179993  241.889999  243.360001  40244100\n",
       "2025-01-06  245.000000  247.330002  243.199997  244.309998  45045600\n",
       "2025-01-07  242.210007  245.550003  241.350006  242.979996  40856000\n",
       "2025-01-08  242.699997  243.710007  240.050003  241.919998  37628900\n",
       "2025-01-10  236.850006  240.160004  233.000000  240.009995  61710900\n",
       "2025-01-13  234.399994  234.669998  229.720001  233.529999  49630700\n",
       "2025-01-14  233.279999  236.119995  232.470001  234.750000  39435300\n",
       "2025-01-15  237.869995  238.960007  234.429993  234.639999  39832000\n",
       "2025-01-16  228.259995  238.009995  228.029999  237.350006  71759100\n",
       "2025-01-17  229.979996  232.289993  228.479996  232.119995  68488300\n",
       "2025-01-21  222.639999  224.419998  219.380005  224.000000  98070400\n",
       "2025-01-22  223.830002  224.119995  219.789993  219.789993  64126500\n",
       "2025-01-23  223.660004  227.029999  222.300003  224.740005  60234800\n",
       "2025-01-24  222.779999  225.630005  221.410004  224.779999  54619500"
      ]
     },
     "execution_count": 27,
     "metadata": {},
     "output_type": "execute_result"
    }
   ],
   "source": [
    "df = yf.download(tickers = symbol, period = \"1mo\") # last 30 days\n",
    "df"
   ]
  },
  {
   "cell_type": "code",
   "execution_count": 28,
   "id": "a65183a7",
   "metadata": {},
   "outputs": [
    {
     "name": "stderr",
     "output_type": "stream",
     "text": [
      "[*********************100%***********************]  1 of 1 completed\n"
     ]
    },
    {
     "data": {
      "text/html": [
       "<div>\n",
       "<style scoped>\n",
       "    .dataframe tbody tr th:only-of-type {\n",
       "        vertical-align: middle;\n",
       "    }\n",
       "\n",
       "    .dataframe tbody tr th {\n",
       "        vertical-align: top;\n",
       "    }\n",
       "\n",
       "    .dataframe thead tr th {\n",
       "        text-align: left;\n",
       "    }\n",
       "\n",
       "    .dataframe thead tr:last-of-type th {\n",
       "        text-align: right;\n",
       "    }\n",
       "</style>\n",
       "<table border=\"1\" class=\"dataframe\">\n",
       "  <thead>\n",
       "    <tr>\n",
       "      <th>Price</th>\n",
       "      <th>Close</th>\n",
       "      <th>High</th>\n",
       "      <th>Low</th>\n",
       "      <th>Open</th>\n",
       "      <th>Volume</th>\n",
       "    </tr>\n",
       "    <tr>\n",
       "      <th>Ticker</th>\n",
       "      <th>AAPL</th>\n",
       "      <th>AAPL</th>\n",
       "      <th>AAPL</th>\n",
       "      <th>AAPL</th>\n",
       "      <th>AAPL</th>\n",
       "    </tr>\n",
       "    <tr>\n",
       "      <th>Date</th>\n",
       "      <th></th>\n",
       "      <th></th>\n",
       "      <th></th>\n",
       "      <th></th>\n",
       "      <th></th>\n",
       "    </tr>\n",
       "  </thead>\n",
       "  <tbody>\n",
       "    <tr>\n",
       "      <th>2024-01-25</th>\n",
       "      <td>193.223389</td>\n",
       "      <td>195.313157</td>\n",
       "      <td>192.168559</td>\n",
       "      <td>194.268273</td>\n",
       "      <td>54822100</td>\n",
       "    </tr>\n",
       "    <tr>\n",
       "      <th>2024-01-26</th>\n",
       "      <td>191.481918</td>\n",
       "      <td>193.810507</td>\n",
       "      <td>191.004263</td>\n",
       "      <td>193.322905</td>\n",
       "      <td>44594000</td>\n",
       "    </tr>\n",
       "    <tr>\n",
       "      <th>2024-01-29</th>\n",
       "      <td>190.795288</td>\n",
       "      <td>191.262998</td>\n",
       "      <td>188.655776</td>\n",
       "      <td>191.073922</td>\n",
       "      <td>47145600</td>\n",
       "    </tr>\n",
       "    <tr>\n",
       "      <th>2024-01-30</th>\n",
       "      <td>187.123276</td>\n",
       "      <td>190.864955</td>\n",
       "      <td>186.556062</td>\n",
       "      <td>190.009147</td>\n",
       "      <td>55859400</td>\n",
       "    </tr>\n",
       "    <tr>\n",
       "      <th>2024-01-31</th>\n",
       "      <td>183.501022</td>\n",
       "      <td>186.187872</td>\n",
       "      <td>183.451278</td>\n",
       "      <td>186.128151</td>\n",
       "      <td>55467800</td>\n",
       "    </tr>\n",
       "    <tr>\n",
       "      <th>...</th>\n",
       "      <td>...</td>\n",
       "      <td>...</td>\n",
       "      <td>...</td>\n",
       "      <td>...</td>\n",
       "      <td>...</td>\n",
       "    </tr>\n",
       "    <tr>\n",
       "      <th>2025-01-17</th>\n",
       "      <td>229.979996</td>\n",
       "      <td>232.289993</td>\n",
       "      <td>228.479996</td>\n",
       "      <td>232.119995</td>\n",
       "      <td>68488300</td>\n",
       "    </tr>\n",
       "    <tr>\n",
       "      <th>2025-01-21</th>\n",
       "      <td>222.639999</td>\n",
       "      <td>224.419998</td>\n",
       "      <td>219.380005</td>\n",
       "      <td>224.000000</td>\n",
       "      <td>98070400</td>\n",
       "    </tr>\n",
       "    <tr>\n",
       "      <th>2025-01-22</th>\n",
       "      <td>223.830002</td>\n",
       "      <td>224.119995</td>\n",
       "      <td>219.789993</td>\n",
       "      <td>219.789993</td>\n",
       "      <td>64126500</td>\n",
       "    </tr>\n",
       "    <tr>\n",
       "      <th>2025-01-23</th>\n",
       "      <td>223.660004</td>\n",
       "      <td>227.029999</td>\n",
       "      <td>222.300003</td>\n",
       "      <td>224.740005</td>\n",
       "      <td>60234800</td>\n",
       "    </tr>\n",
       "    <tr>\n",
       "      <th>2025-01-24</th>\n",
       "      <td>222.779999</td>\n",
       "      <td>225.630005</td>\n",
       "      <td>221.410004</td>\n",
       "      <td>224.779999</td>\n",
       "      <td>54619500</td>\n",
       "    </tr>\n",
       "  </tbody>\n",
       "</table>\n",
       "<p>251 rows × 5 columns</p>\n",
       "</div>"
      ],
      "text/plain": [
       "Price            Close        High         Low        Open    Volume\n",
       "Ticker            AAPL        AAPL        AAPL        AAPL      AAPL\n",
       "Date                                                                \n",
       "2024-01-25  193.223389  195.313157  192.168559  194.268273  54822100\n",
       "2024-01-26  191.481918  193.810507  191.004263  193.322905  44594000\n",
       "2024-01-29  190.795288  191.262998  188.655776  191.073922  47145600\n",
       "2024-01-30  187.123276  190.864955  186.556062  190.009147  55859400\n",
       "2024-01-31  183.501022  186.187872  183.451278  186.128151  55467800\n",
       "...                ...         ...         ...         ...       ...\n",
       "2025-01-17  229.979996  232.289993  228.479996  232.119995  68488300\n",
       "2025-01-21  222.639999  224.419998  219.380005  224.000000  98070400\n",
       "2025-01-22  223.830002  224.119995  219.789993  219.789993  64126500\n",
       "2025-01-23  223.660004  227.029999  222.300003  224.740005  60234800\n",
       "2025-01-24  222.779999  225.630005  221.410004  224.779999  54619500\n",
       "\n",
       "[251 rows x 5 columns]"
      ]
     },
     "execution_count": 28,
     "metadata": {},
     "output_type": "execute_result"
    }
   ],
   "source": [
    "df = yf.download(tickers = symbol, period = \"1y\") # last 365 days \n",
    "df"
   ]
  },
  {
   "cell_type": "code",
   "execution_count": 29,
   "id": "9522b378",
   "metadata": {},
   "outputs": [
    {
     "name": "stderr",
     "output_type": "stream",
     "text": [
      "[*********************100%***********************]  1 of 1 completed\n"
     ]
    },
    {
     "data": {
      "text/html": [
       "<div>\n",
       "<style scoped>\n",
       "    .dataframe tbody tr th:only-of-type {\n",
       "        vertical-align: middle;\n",
       "    }\n",
       "\n",
       "    .dataframe tbody tr th {\n",
       "        vertical-align: top;\n",
       "    }\n",
       "\n",
       "    .dataframe thead tr th {\n",
       "        text-align: left;\n",
       "    }\n",
       "\n",
       "    .dataframe thead tr:last-of-type th {\n",
       "        text-align: right;\n",
       "    }\n",
       "</style>\n",
       "<table border=\"1\" class=\"dataframe\">\n",
       "  <thead>\n",
       "    <tr>\n",
       "      <th>Price</th>\n",
       "      <th>Close</th>\n",
       "      <th>High</th>\n",
       "      <th>Low</th>\n",
       "      <th>Open</th>\n",
       "      <th>Volume</th>\n",
       "    </tr>\n",
       "    <tr>\n",
       "      <th>Ticker</th>\n",
       "      <th>AAPL</th>\n",
       "      <th>AAPL</th>\n",
       "      <th>AAPL</th>\n",
       "      <th>AAPL</th>\n",
       "      <th>AAPL</th>\n",
       "    </tr>\n",
       "    <tr>\n",
       "      <th>Date</th>\n",
       "      <th></th>\n",
       "      <th></th>\n",
       "      <th></th>\n",
       "      <th></th>\n",
       "      <th></th>\n",
       "    </tr>\n",
       "  </thead>\n",
       "  <tbody>\n",
       "    <tr>\n",
       "      <th>2025-01-02</th>\n",
       "      <td>243.850006</td>\n",
       "      <td>249.100006</td>\n",
       "      <td>241.820007</td>\n",
       "      <td>248.929993</td>\n",
       "      <td>55740700</td>\n",
       "    </tr>\n",
       "    <tr>\n",
       "      <th>2025-01-03</th>\n",
       "      <td>243.360001</td>\n",
       "      <td>244.179993</td>\n",
       "      <td>241.889999</td>\n",
       "      <td>243.360001</td>\n",
       "      <td>40244100</td>\n",
       "    </tr>\n",
       "    <tr>\n",
       "      <th>2025-01-06</th>\n",
       "      <td>245.000000</td>\n",
       "      <td>247.330002</td>\n",
       "      <td>243.199997</td>\n",
       "      <td>244.309998</td>\n",
       "      <td>45045600</td>\n",
       "    </tr>\n",
       "    <tr>\n",
       "      <th>2025-01-07</th>\n",
       "      <td>242.210007</td>\n",
       "      <td>245.550003</td>\n",
       "      <td>241.350006</td>\n",
       "      <td>242.979996</td>\n",
       "      <td>40856000</td>\n",
       "    </tr>\n",
       "    <tr>\n",
       "      <th>2025-01-08</th>\n",
       "      <td>242.699997</td>\n",
       "      <td>243.710007</td>\n",
       "      <td>240.050003</td>\n",
       "      <td>241.919998</td>\n",
       "      <td>37628900</td>\n",
       "    </tr>\n",
       "    <tr>\n",
       "      <th>2025-01-10</th>\n",
       "      <td>236.850006</td>\n",
       "      <td>240.160004</td>\n",
       "      <td>233.000000</td>\n",
       "      <td>240.009995</td>\n",
       "      <td>61710900</td>\n",
       "    </tr>\n",
       "    <tr>\n",
       "      <th>2025-01-13</th>\n",
       "      <td>234.399994</td>\n",
       "      <td>234.669998</td>\n",
       "      <td>229.720001</td>\n",
       "      <td>233.529999</td>\n",
       "      <td>49630700</td>\n",
       "    </tr>\n",
       "    <tr>\n",
       "      <th>2025-01-14</th>\n",
       "      <td>233.279999</td>\n",
       "      <td>236.119995</td>\n",
       "      <td>232.470001</td>\n",
       "      <td>234.750000</td>\n",
       "      <td>39435300</td>\n",
       "    </tr>\n",
       "    <tr>\n",
       "      <th>2025-01-15</th>\n",
       "      <td>237.869995</td>\n",
       "      <td>238.960007</td>\n",
       "      <td>234.429993</td>\n",
       "      <td>234.639999</td>\n",
       "      <td>39832000</td>\n",
       "    </tr>\n",
       "    <tr>\n",
       "      <th>2025-01-16</th>\n",
       "      <td>228.259995</td>\n",
       "      <td>238.009995</td>\n",
       "      <td>228.029999</td>\n",
       "      <td>237.350006</td>\n",
       "      <td>71759100</td>\n",
       "    </tr>\n",
       "    <tr>\n",
       "      <th>2025-01-17</th>\n",
       "      <td>229.979996</td>\n",
       "      <td>232.289993</td>\n",
       "      <td>228.479996</td>\n",
       "      <td>232.119995</td>\n",
       "      <td>68488300</td>\n",
       "    </tr>\n",
       "    <tr>\n",
       "      <th>2025-01-21</th>\n",
       "      <td>222.639999</td>\n",
       "      <td>224.419998</td>\n",
       "      <td>219.380005</td>\n",
       "      <td>224.000000</td>\n",
       "      <td>98070400</td>\n",
       "    </tr>\n",
       "    <tr>\n",
       "      <th>2025-01-22</th>\n",
       "      <td>223.830002</td>\n",
       "      <td>224.119995</td>\n",
       "      <td>219.789993</td>\n",
       "      <td>219.789993</td>\n",
       "      <td>64126500</td>\n",
       "    </tr>\n",
       "    <tr>\n",
       "      <th>2025-01-23</th>\n",
       "      <td>223.660004</td>\n",
       "      <td>227.029999</td>\n",
       "      <td>222.300003</td>\n",
       "      <td>224.740005</td>\n",
       "      <td>60234800</td>\n",
       "    </tr>\n",
       "    <tr>\n",
       "      <th>2025-01-24</th>\n",
       "      <td>222.779999</td>\n",
       "      <td>225.630005</td>\n",
       "      <td>221.410004</td>\n",
       "      <td>224.779999</td>\n",
       "      <td>54619500</td>\n",
       "    </tr>\n",
       "  </tbody>\n",
       "</table>\n",
       "</div>"
      ],
      "text/plain": [
       "Price            Close        High         Low        Open    Volume\n",
       "Ticker            AAPL        AAPL        AAPL        AAPL      AAPL\n",
       "Date                                                                \n",
       "2025-01-02  243.850006  249.100006  241.820007  248.929993  55740700\n",
       "2025-01-03  243.360001  244.179993  241.889999  243.360001  40244100\n",
       "2025-01-06  245.000000  247.330002  243.199997  244.309998  45045600\n",
       "2025-01-07  242.210007  245.550003  241.350006  242.979996  40856000\n",
       "2025-01-08  242.699997  243.710007  240.050003  241.919998  37628900\n",
       "2025-01-10  236.850006  240.160004  233.000000  240.009995  61710900\n",
       "2025-01-13  234.399994  234.669998  229.720001  233.529999  49630700\n",
       "2025-01-14  233.279999  236.119995  232.470001  234.750000  39435300\n",
       "2025-01-15  237.869995  238.960007  234.429993  234.639999  39832000\n",
       "2025-01-16  228.259995  238.009995  228.029999  237.350006  71759100\n",
       "2025-01-17  229.979996  232.289993  228.479996  232.119995  68488300\n",
       "2025-01-21  222.639999  224.419998  219.380005  224.000000  98070400\n",
       "2025-01-22  223.830002  224.119995  219.789993  219.789993  64126500\n",
       "2025-01-23  223.660004  227.029999  222.300003  224.740005  60234800\n",
       "2025-01-24  222.779999  225.630005  221.410004  224.779999  54619500"
      ]
     },
     "execution_count": 29,
     "metadata": {},
     "output_type": "execute_result"
    }
   ],
   "source": [
    "df = yf.download(tickers = symbol, period = \"ytd\") # year-to-date \n",
    "df"
   ]
  },
  {
   "cell_type": "code",
   "execution_count": 30,
   "id": "eb7e6422",
   "metadata": {},
   "outputs": [
    {
     "name": "stderr",
     "output_type": "stream",
     "text": [
      "[*********************100%***********************]  1 of 1 completed\n"
     ]
    },
    {
     "data": {
      "text/html": [
       "<div>\n",
       "<style scoped>\n",
       "    .dataframe tbody tr th:only-of-type {\n",
       "        vertical-align: middle;\n",
       "    }\n",
       "\n",
       "    .dataframe tbody tr th {\n",
       "        vertical-align: top;\n",
       "    }\n",
       "\n",
       "    .dataframe thead tr th {\n",
       "        text-align: left;\n",
       "    }\n",
       "\n",
       "    .dataframe thead tr:last-of-type th {\n",
       "        text-align: right;\n",
       "    }\n",
       "</style>\n",
       "<table border=\"1\" class=\"dataframe\">\n",
       "  <thead>\n",
       "    <tr>\n",
       "      <th>Price</th>\n",
       "      <th>Close</th>\n",
       "      <th>High</th>\n",
       "      <th>Low</th>\n",
       "      <th>Open</th>\n",
       "      <th>Volume</th>\n",
       "    </tr>\n",
       "    <tr>\n",
       "      <th>Ticker</th>\n",
       "      <th>AAPL</th>\n",
       "      <th>AAPL</th>\n",
       "      <th>AAPL</th>\n",
       "      <th>AAPL</th>\n",
       "      <th>AAPL</th>\n",
       "    </tr>\n",
       "    <tr>\n",
       "      <th>Date</th>\n",
       "      <th></th>\n",
       "      <th></th>\n",
       "      <th></th>\n",
       "      <th></th>\n",
       "      <th></th>\n",
       "    </tr>\n",
       "  </thead>\n",
       "  <tbody>\n",
       "    <tr>\n",
       "      <th>1980-12-12</th>\n",
       "      <td>0.098834</td>\n",
       "      <td>0.099264</td>\n",
       "      <td>0.098834</td>\n",
       "      <td>0.098834</td>\n",
       "      <td>469033600</td>\n",
       "    </tr>\n",
       "    <tr>\n",
       "      <th>1980-12-15</th>\n",
       "      <td>0.093678</td>\n",
       "      <td>0.094108</td>\n",
       "      <td>0.093678</td>\n",
       "      <td>0.094108</td>\n",
       "      <td>175884800</td>\n",
       "    </tr>\n",
       "    <tr>\n",
       "      <th>1980-12-16</th>\n",
       "      <td>0.086802</td>\n",
       "      <td>0.087232</td>\n",
       "      <td>0.086802</td>\n",
       "      <td>0.087232</td>\n",
       "      <td>105728000</td>\n",
       "    </tr>\n",
       "    <tr>\n",
       "      <th>1980-12-17</th>\n",
       "      <td>0.088951</td>\n",
       "      <td>0.089381</td>\n",
       "      <td>0.088951</td>\n",
       "      <td>0.088951</td>\n",
       "      <td>86441600</td>\n",
       "    </tr>\n",
       "    <tr>\n",
       "      <th>1980-12-18</th>\n",
       "      <td>0.091530</td>\n",
       "      <td>0.091959</td>\n",
       "      <td>0.091530</td>\n",
       "      <td>0.091530</td>\n",
       "      <td>73449600</td>\n",
       "    </tr>\n",
       "    <tr>\n",
       "      <th>...</th>\n",
       "      <td>...</td>\n",
       "      <td>...</td>\n",
       "      <td>...</td>\n",
       "      <td>...</td>\n",
       "      <td>...</td>\n",
       "    </tr>\n",
       "    <tr>\n",
       "      <th>2025-01-17</th>\n",
       "      <td>229.979996</td>\n",
       "      <td>232.289993</td>\n",
       "      <td>228.479996</td>\n",
       "      <td>232.119995</td>\n",
       "      <td>68488300</td>\n",
       "    </tr>\n",
       "    <tr>\n",
       "      <th>2025-01-21</th>\n",
       "      <td>222.639999</td>\n",
       "      <td>224.419998</td>\n",
       "      <td>219.380005</td>\n",
       "      <td>224.000000</td>\n",
       "      <td>98070400</td>\n",
       "    </tr>\n",
       "    <tr>\n",
       "      <th>2025-01-22</th>\n",
       "      <td>223.830002</td>\n",
       "      <td>224.119995</td>\n",
       "      <td>219.789993</td>\n",
       "      <td>219.789993</td>\n",
       "      <td>64126500</td>\n",
       "    </tr>\n",
       "    <tr>\n",
       "      <th>2025-01-23</th>\n",
       "      <td>223.660004</td>\n",
       "      <td>227.029999</td>\n",
       "      <td>222.300003</td>\n",
       "      <td>224.740005</td>\n",
       "      <td>60234800</td>\n",
       "    </tr>\n",
       "    <tr>\n",
       "      <th>2025-01-24</th>\n",
       "      <td>222.779999</td>\n",
       "      <td>225.630005</td>\n",
       "      <td>221.410004</td>\n",
       "      <td>224.779999</td>\n",
       "      <td>54619500</td>\n",
       "    </tr>\n",
       "  </tbody>\n",
       "</table>\n",
       "<p>11120 rows × 5 columns</p>\n",
       "</div>"
      ],
      "text/plain": [
       "Price            Close        High         Low        Open     Volume\n",
       "Ticker            AAPL        AAPL        AAPL        AAPL       AAPL\n",
       "Date                                                                 \n",
       "1980-12-12    0.098834    0.099264    0.098834    0.098834  469033600\n",
       "1980-12-15    0.093678    0.094108    0.093678    0.094108  175884800\n",
       "1980-12-16    0.086802    0.087232    0.086802    0.087232  105728000\n",
       "1980-12-17    0.088951    0.089381    0.088951    0.088951   86441600\n",
       "1980-12-18    0.091530    0.091959    0.091530    0.091530   73449600\n",
       "...                ...         ...         ...         ...        ...\n",
       "2025-01-17  229.979996  232.289993  228.479996  232.119995   68488300\n",
       "2025-01-21  222.639999  224.419998  219.380005  224.000000   98070400\n",
       "2025-01-22  223.830002  224.119995  219.789993  219.789993   64126500\n",
       "2025-01-23  223.660004  227.029999  222.300003  224.740005   60234800\n",
       "2025-01-24  222.779999  225.630005  221.410004  224.779999   54619500\n",
       "\n",
       "[11120 rows x 5 columns]"
      ]
     },
     "execution_count": 30,
     "metadata": {},
     "output_type": "execute_result"
    }
   ],
   "source": [
    "df = yf.download(tickers = symbol, period = \"max\") # max\n",
    "df"
   ]
  },
  {
   "cell_type": "code",
   "execution_count": null,
   "id": "70bb0b54",
   "metadata": {},
   "outputs": [],
   "source": []
  },
  {
   "cell_type": "markdown",
   "id": "1b277290",
   "metadata": {},
   "source": [
    "## Data Frequency"
   ]
  },
  {
   "cell_type": "markdown",
   "id": "9a2ddfa7",
   "metadata": {},
   "source": [
    "Valid intervals: 1m,2m,5m,15m,30m,60m,90m,1h,1d,5d,1wk,1mo,3mo <br>\n",
    "(Intraday data cannot extend last 60 days)"
   ]
  },
  {
   "cell_type": "markdown",
   "id": "a1199109",
   "metadata": {},
   "source": [
    "__daily (default)__"
   ]
  },
  {
   "cell_type": "code",
   "execution_count": null,
   "id": "092edc20",
   "metadata": {},
   "outputs": [],
   "source": [
    "df = yf.download(tickers = symbol, interval = \"1d\")\n",
    "df"
   ]
  },
  {
   "cell_type": "markdown",
   "id": "a8b68ced",
   "metadata": {},
   "source": [
    "__monthly__"
   ]
  },
  {
   "cell_type": "code",
   "execution_count": null,
   "id": "279dfb56",
   "metadata": {},
   "outputs": [],
   "source": [
    "df = yf.download(tickers = symbol, interval = \"1mo\")\n",
    "df"
   ]
  },
  {
   "cell_type": "markdown",
   "id": "4d9dad2f",
   "metadata": {},
   "source": [
    "__weekly__"
   ]
  },
  {
   "cell_type": "code",
   "execution_count": null,
   "id": "9c213e4d",
   "metadata": {},
   "outputs": [],
   "source": [
    "df = yf.download(tickers = symbol, interval = \"1wk\")\n",
    "df"
   ]
  },
  {
   "cell_type": "markdown",
   "id": "c671c610",
   "metadata": {},
   "source": [
    "__intraday - 1h__"
   ]
  },
  {
   "cell_type": "code",
   "execution_count": null,
   "id": "e478efa1",
   "metadata": {},
   "outputs": [],
   "source": [
    "#df = yf.download(tickers = symbol, interval = \"1h\")\n",
    "#df"
   ]
  },
  {
   "cell_type": "code",
   "execution_count": null,
   "id": "61d57a09",
   "metadata": {},
   "outputs": [],
   "source": [
    "df = yf.download(tickers = symbol, period = \"1y\", interval = \"1h\")\n",
    "df"
   ]
  },
  {
   "cell_type": "markdown",
   "id": "fab3c3bd",
   "metadata": {},
   "source": [
    "__intraday - 1m__"
   ]
  },
  {
   "cell_type": "code",
   "execution_count": null,
   "id": "bef6556c",
   "metadata": {},
   "outputs": [],
   "source": [
    "#df = yf.download(tickers = symbol, period = \"1y\", interval = \"1m\")\n",
    "#df"
   ]
  },
  {
   "cell_type": "code",
   "execution_count": null,
   "id": "be7ed1c7",
   "metadata": {},
   "outputs": [],
   "source": [
    "# df = yf.download(tickers = symbol, period = \"1wk\", interval = \"1m\") # old (1wk deprecated) \n",
    "# df"
   ]
  },
  {
   "cell_type": "code",
   "execution_count": 31,
   "id": "665d5edc-ce0a-4e62-9841-f3232d67e185",
   "metadata": {},
   "outputs": [
    {
     "name": "stderr",
     "output_type": "stream",
     "text": [
      "[*********************100%***********************]  1 of 1 completed\n"
     ]
    },
    {
     "data": {
      "text/html": [
       "<div>\n",
       "<style scoped>\n",
       "    .dataframe tbody tr th:only-of-type {\n",
       "        vertical-align: middle;\n",
       "    }\n",
       "\n",
       "    .dataframe tbody tr th {\n",
       "        vertical-align: top;\n",
       "    }\n",
       "\n",
       "    .dataframe thead tr th {\n",
       "        text-align: left;\n",
       "    }\n",
       "\n",
       "    .dataframe thead tr:last-of-type th {\n",
       "        text-align: right;\n",
       "    }\n",
       "</style>\n",
       "<table border=\"1\" class=\"dataframe\">\n",
       "  <thead>\n",
       "    <tr>\n",
       "      <th>Price</th>\n",
       "      <th>Close</th>\n",
       "      <th>High</th>\n",
       "      <th>Low</th>\n",
       "      <th>Open</th>\n",
       "      <th>Volume</th>\n",
       "    </tr>\n",
       "    <tr>\n",
       "      <th>Ticker</th>\n",
       "      <th>AAPL</th>\n",
       "      <th>AAPL</th>\n",
       "      <th>AAPL</th>\n",
       "      <th>AAPL</th>\n",
       "      <th>AAPL</th>\n",
       "    </tr>\n",
       "    <tr>\n",
       "      <th>Datetime</th>\n",
       "      <th></th>\n",
       "      <th></th>\n",
       "      <th></th>\n",
       "      <th></th>\n",
       "      <th></th>\n",
       "    </tr>\n",
       "  </thead>\n",
       "  <tbody>\n",
       "    <tr>\n",
       "      <th>2025-01-17 14:30:00+00:00</th>\n",
       "      <td>231.309998</td>\n",
       "      <td>232.289993</td>\n",
       "      <td>231.160095</td>\n",
       "      <td>231.309998</td>\n",
       "      <td>12401428</td>\n",
       "    </tr>\n",
       "    <tr>\n",
       "      <th>2025-01-17 14:31:00+00:00</th>\n",
       "      <td>231.899994</td>\n",
       "      <td>231.979996</td>\n",
       "      <td>231.259995</td>\n",
       "      <td>231.289993</td>\n",
       "      <td>517493</td>\n",
       "    </tr>\n",
       "    <tr>\n",
       "      <th>2025-01-17 14:32:00+00:00</th>\n",
       "      <td>231.339996</td>\n",
       "      <td>232.089996</td>\n",
       "      <td>230.830002</td>\n",
       "      <td>231.904999</td>\n",
       "      <td>756419</td>\n",
       "    </tr>\n",
       "    <tr>\n",
       "      <th>2025-01-17 14:33:00+00:00</th>\n",
       "      <td>231.100006</td>\n",
       "      <td>231.404205</td>\n",
       "      <td>230.899994</td>\n",
       "      <td>231.320007</td>\n",
       "      <td>334093</td>\n",
       "    </tr>\n",
       "    <tr>\n",
       "      <th>2025-01-17 14:34:00+00:00</th>\n",
       "      <td>231.119995</td>\n",
       "      <td>231.399994</td>\n",
       "      <td>231.059998</td>\n",
       "      <td>231.127396</td>\n",
       "      <td>224750</td>\n",
       "    </tr>\n",
       "    <tr>\n",
       "      <th>...</th>\n",
       "      <td>...</td>\n",
       "      <td>...</td>\n",
       "      <td>...</td>\n",
       "      <td>...</td>\n",
       "      <td>...</td>\n",
       "    </tr>\n",
       "    <tr>\n",
       "      <th>2025-01-24 20:55:00+00:00</th>\n",
       "      <td>222.774994</td>\n",
       "      <td>222.850006</td>\n",
       "      <td>222.270004</td>\n",
       "      <td>222.839996</td>\n",
       "      <td>450492</td>\n",
       "    </tr>\n",
       "    <tr>\n",
       "      <th>2025-01-24 20:56:00+00:00</th>\n",
       "      <td>222.919998</td>\n",
       "      <td>222.975006</td>\n",
       "      <td>222.759995</td>\n",
       "      <td>222.771500</td>\n",
       "      <td>242922</td>\n",
       "    </tr>\n",
       "    <tr>\n",
       "      <th>2025-01-24 20:57:00+00:00</th>\n",
       "      <td>222.970001</td>\n",
       "      <td>222.975006</td>\n",
       "      <td>222.800003</td>\n",
       "      <td>222.914993</td>\n",
       "      <td>274358</td>\n",
       "    </tr>\n",
       "    <tr>\n",
       "      <th>2025-01-24 20:58:00+00:00</th>\n",
       "      <td>222.951004</td>\n",
       "      <td>222.990005</td>\n",
       "      <td>222.889999</td>\n",
       "      <td>222.970001</td>\n",
       "      <td>349834</td>\n",
       "    </tr>\n",
       "    <tr>\n",
       "      <th>2025-01-24 20:59:00+00:00</th>\n",
       "      <td>222.789993</td>\n",
       "      <td>223.044998</td>\n",
       "      <td>222.760101</td>\n",
       "      <td>222.960007</td>\n",
       "      <td>941504</td>\n",
       "    </tr>\n",
       "  </tbody>\n",
       "</table>\n",
       "<p>1946 rows × 5 columns</p>\n",
       "</div>"
      ],
      "text/plain": [
       "Price                           Close        High         Low        Open  \\\n",
       "Ticker                           AAPL        AAPL        AAPL        AAPL   \n",
       "Datetime                                                                    \n",
       "2025-01-17 14:30:00+00:00  231.309998  232.289993  231.160095  231.309998   \n",
       "2025-01-17 14:31:00+00:00  231.899994  231.979996  231.259995  231.289993   \n",
       "2025-01-17 14:32:00+00:00  231.339996  232.089996  230.830002  231.904999   \n",
       "2025-01-17 14:33:00+00:00  231.100006  231.404205  230.899994  231.320007   \n",
       "2025-01-17 14:34:00+00:00  231.119995  231.399994  231.059998  231.127396   \n",
       "...                               ...         ...         ...         ...   \n",
       "2025-01-24 20:55:00+00:00  222.774994  222.850006  222.270004  222.839996   \n",
       "2025-01-24 20:56:00+00:00  222.919998  222.975006  222.759995  222.771500   \n",
       "2025-01-24 20:57:00+00:00  222.970001  222.975006  222.800003  222.914993   \n",
       "2025-01-24 20:58:00+00:00  222.951004  222.990005  222.889999  222.970001   \n",
       "2025-01-24 20:59:00+00:00  222.789993  223.044998  222.760101  222.960007   \n",
       "\n",
       "Price                        Volume  \n",
       "Ticker                         AAPL  \n",
       "Datetime                             \n",
       "2025-01-17 14:30:00+00:00  12401428  \n",
       "2025-01-17 14:31:00+00:00    517493  \n",
       "2025-01-17 14:32:00+00:00    756419  \n",
       "2025-01-17 14:33:00+00:00    334093  \n",
       "2025-01-17 14:34:00+00:00    224750  \n",
       "...                             ...  \n",
       "2025-01-24 20:55:00+00:00    450492  \n",
       "2025-01-24 20:56:00+00:00    242922  \n",
       "2025-01-24 20:57:00+00:00    274358  \n",
       "2025-01-24 20:58:00+00:00    349834  \n",
       "2025-01-24 20:59:00+00:00    941504  \n",
       "\n",
       "[1946 rows x 5 columns]"
      ]
     },
     "execution_count": 31,
     "metadata": {},
     "output_type": "execute_result"
    }
   ],
   "source": [
    "df = yf.download(tickers = symbol, period = \"5d\", interval = \"1m\") # new (use 5d instead)\n",
    "df"
   ]
  },
  {
   "cell_type": "code",
   "execution_count": 33,
   "id": "1a705897",
   "metadata": {},
   "outputs": [
    {
     "data": {
      "text/plain": [
       "<Axes: xlabel='Datetime'>"
      ]
     },
     "execution_count": 33,
     "metadata": {},
     "output_type": "execute_result"
    },
    {
     "data": {
      "image/png": "[encoded data removed]",
      "text/plain": [
       "<Figure size 1200x800 with 1 Axes>"
      ]
     },
     "metadata": {},
     "output_type": "display_data"
    }
   ],
   "source": [
    "df.loc[:, \"Close\"].plot(figsize=(12,8))"
   ]
  },
  {
   "cell_type": "markdown",
   "id": "c4bc2fa2",
   "metadata": {},
   "source": [
    "## Dividends"
   ]
  },
  {
   "cell_type": "markdown",
   "id": "6850e20d",
   "metadata": {},
   "source": [
    "__Dividend__: A dividend is a __distribution of profits__ by a corporation to its shareholders."
   ]
  },
  {
   "cell_type": "markdown",
   "id": "46b21515",
   "metadata": {},
   "source": [
    "Companies are __free__ to distribute (all / parts / none) of their profits to shareholders (Dividend Payout Policy) "
   ]
  },
  {
   "cell_type": "markdown",
   "id": "dc6e6094",
   "metadata": {},
   "source": [
    "Dividend Payouts are an import __source of income__ for equity investors."
   ]
  },
  {
   "cell_type": "markdown",
   "id": "9e844fdd",
   "metadata": {},
   "source": [
    "__Total Return/Profit__ of stocks consists of:\n",
    "- Stock Price Increase\n",
    "- Dividend Payouts"
   ]
  },
  {
   "cell_type": "markdown",
   "id": "8275c011",
   "metadata": {},
   "source": [
    "- For __innovative & high-growth__ companies, __Stock Price Increase__ is relatively more important.\n",
    "- For __mature & highly profitable__ companies, __Dividend Payouts__ can be a significant part of Total Return/Profit."
   ]
  },
  {
   "cell_type": "markdown",
   "id": "96b2afdf",
   "metadata": {},
   "source": [
    "-> __Don´t omit Dividend Payouts__ in your Analysis / Performance Comparison! (otherwise, high-dividend stocks get penalized!)"
   ]
  },
  {
   "cell_type": "code",
   "execution_count": null,
   "id": "e7549e66",
   "metadata": {},
   "outputs": [],
   "source": []
  },
  {
   "cell_type": "markdown",
   "id": "a3442c81",
   "metadata": {},
   "source": [
    "__For this and the next lectures, you have the choice between__\n",
    "- option 1: working with the same data as in the videos (saved in the csv file aapl.csv) __RECOMMENDED!!!__\n",
    "- option 2: working with your specific maximum time period"
   ]
  },
  {
   "cell_type": "code",
   "execution_count": null,
   "id": "b7ec08ae",
   "metadata": {},
   "outputs": [],
   "source": [
    "# option 1 -> same data as in video\n",
    "df = pd.read_csv(\"aapl.csv\", index_col = \"Date\", parse_dates = [\"Date\"]) # for more information, see lecture \"Saving and Loading Data (Local Files)\"  \n",
    "df"
   ]
  },
  {
   "cell_type": "code",
   "execution_count": null,
   "id": "3a631f7c",
   "metadata": {},
   "outputs": [],
   "source": [
    "# option 2 -> max period\n",
    "# df = yf.download(tickers = symbol, actions = True) \n",
    "# df"
   ]
  },
  {
   "cell_type": "code",
   "execution_count": null,
   "id": "a08e4188",
   "metadata": {},
   "outputs": [],
   "source": [
    "df.loc[df.Dividends != 0]"
   ]
  },
  {
   "cell_type": "code",
   "execution_count": null,
   "id": "2e23c48d",
   "metadata": {},
   "outputs": [],
   "source": [
    "df.Dividends.sum() # cumulative Dividends per share"
   ]
  },
  {
   "cell_type": "code",
   "execution_count": null,
   "id": "bbf9e7d1",
   "metadata": {},
   "outputs": [],
   "source": [
    "# df.Close[-1] - df.Close[0] # cumulative Stock Price Increase - OLD"
   ]
  },
  {
   "cell_type": "code",
   "execution_count": null,
   "id": "216c7de8",
   "metadata": {},
   "outputs": [],
   "source": [
    "df.Close.iloc[-1] - df.Close.iloc[0] # cumulative Stock Price Increase - NEW"
   ]
  },
  {
   "cell_type": "code",
   "execution_count": null,
   "id": "467f894e",
   "metadata": {},
   "outputs": [],
   "source": [
    "df.loc[df.Dividends != 0].Dividends.plot()\n",
    "plt.show()"
   ]
  },
  {
   "cell_type": "markdown",
   "id": "e4cc505f",
   "metadata": {},
   "source": [
    "-> AAPL Dividend Policy: \n",
    "- historically __low-dividend__ stock (focus on growth) \n",
    "- Dividend Payouts __smoothed and steadily growing__ (highly predictable)\n",
    "- __Avoiding Dividend Cuts__ in less profitable years (negative signal in the market)"
   ]
  },
  {
   "cell_type": "code",
   "execution_count": null,
   "id": "53f155c9",
   "metadata": {},
   "outputs": [],
   "source": []
  },
  {
   "cell_type": "markdown",
   "id": "beba1f47",
   "metadata": {},
   "source": [
    "## What´s the Adjusted Close Price?"
   ]
  },
  {
   "cell_type": "markdown",
   "id": "00807066",
   "metadata": {},
   "source": [
    "\"The Adjusted Close Price is the backward adjusted (reduced) Close Price (adjusted for Dividends).\"   "
   ]
  },
  {
   "cell_type": "code",
   "execution_count": null,
   "id": "6a596eee",
   "metadata": {},
   "outputs": [],
   "source": [
    "df"
   ]
  },
  {
   "cell_type": "code",
   "execution_count": null,
   "id": "4feaf09c",
   "metadata": {},
   "outputs": [],
   "source": [
    "df2 = df[[\"Close\", \"Adj Close\", \"Dividends\"]].copy()\n",
    "df2"
   ]
  },
  {
   "cell_type": "code",
   "execution_count": null,
   "id": "9301aac7",
   "metadata": {},
   "outputs": [],
   "source": [
    "df2.loc[\"2015\":].plot(figsize = (12, 8), secondary_y = \"Dividends\")\n",
    "plt.show()"
   ]
  },
  {
   "cell_type": "code",
   "execution_count": null,
   "id": "980eaae5",
   "metadata": {},
   "outputs": [],
   "source": [
    "df2[df2.Dividends > 0]"
   ]
  },
  {
   "cell_type": "code",
   "execution_count": null,
   "id": "831007ad",
   "metadata": {},
   "outputs": [],
   "source": [
    "last_div = df2.loc[\"2022-08-01\": \"2022-08-5\"].copy()\n",
    "last_div"
   ]
  },
  {
   "cell_type": "code",
   "execution_count": null,
   "id": "1bb711f3",
   "metadata": {},
   "outputs": [],
   "source": [
    "last_div.Close - last_div[\"Adj Close\"]"
   ]
  },
  {
   "cell_type": "markdown",
   "id": "a38f0f14",
   "metadata": {},
   "source": [
    "https://in.help.yahoo.com/kb/adjusted-close-sln28256.html"
   ]
  },
  {
   "cell_type": "code",
   "execution_count": null,
   "id": "7585872f",
   "metadata": {},
   "outputs": [],
   "source": [
    "multiplier = (1 - 0.23/165.809998)\n",
    "multiplier"
   ]
  },
  {
   "cell_type": "code",
   "execution_count": null,
   "id": "b7638a16",
   "metadata": {},
   "outputs": [],
   "source": [
    "last_div"
   ]
  },
  {
   "cell_type": "code",
   "execution_count": null,
   "id": "1bf67bbb",
   "metadata": {},
   "outputs": [],
   "source": [
    "last_div[\"Adj Close calc\"] = last_div.Close * multiplier\n",
    "last_div"
   ]
  },
  {
   "cell_type": "code",
   "execution_count": null,
   "id": "8c8e4a2e",
   "metadata": {},
   "outputs": [],
   "source": [
    "df[\"Adj Close\"] / df[\"Close\"] # total multiplier (all dividends)"
   ]
  },
  {
   "cell_type": "code",
   "execution_count": null,
   "id": "8efed10e",
   "metadata": {},
   "outputs": [],
   "source": [
    "df"
   ]
  },
  {
   "cell_type": "markdown",
   "id": "dc86e08d",
   "metadata": {},
   "source": [
    "__Interpretations:__\n",
    "- Borrowing parts (e.g. 22%) of initial stock purchase price in 1980 and pay back borrowed amounts with Dividends. -or-\n",
    "- Reinvesting Dividends and buying more shares with Dividends"
   ]
  },
  {
   "cell_type": "markdown",
   "id": "84b05b28",
   "metadata": {},
   "source": [
    "__Benefits:__\n",
    "- good approximation for a Stock´s __Total Return__ (Price Return + Dividend Yield)\n",
    "- allows __Performance Comparison__ across stocks with different Payout Policies"
   ]
  },
  {
   "cell_type": "code",
   "execution_count": null,
   "id": "9e80e752",
   "metadata": {},
   "outputs": [],
   "source": []
  },
  {
   "cell_type": "markdown",
   "id": "7f89e1e1",
   "metadata": {},
   "source": [
    "## Stock Splits"
   ]
  },
  {
   "cell_type": "code",
   "execution_count": null,
   "id": "d86aa71d",
   "metadata": {},
   "outputs": [],
   "source": [
    "df"
   ]
  },
  {
   "cell_type": "markdown",
   "id": "44b2b90f",
   "metadata": {},
   "source": [
    "All Prices (OHLC, Adj Close) and Dividends are __backward adjusted__ (reduced) for Stock Splits. "
   ]
  },
  {
   "cell_type": "markdown",
   "id": "e4cfcb58",
   "metadata": {},
   "source": [
    "-> This __makes perfectly sense__ and you should not question it (unless you are interested in historical observable prices)!"
   ]
  },
  {
   "cell_type": "code",
   "execution_count": null,
   "id": "b1af1839",
   "metadata": {},
   "outputs": [],
   "source": [
    "splits = df.loc[df[\"Stock Splits\"] > 0]\n",
    "splits"
   ]
  },
  {
   "cell_type": "markdown",
   "id": "95fd6004",
   "metadata": {},
   "source": [
    "__Stock Split__: allows a company to break (split) each share into multiple shares __without affecting its market capitalization (total value of all its shares) or each investor's stake__ in the company. Motivation: reduce price per share and increase granularity."
   ]
  },
  {
   "cell_type": "markdown",
   "id": "7051fb2d",
   "metadata": {},
   "source": [
    "__Example Stock Split 4:1__ -> Receive 4 new shares for 1 old share. Share Price immediately drops to 1/4 (no value effect)"
   ]
  },
  {
   "cell_type": "markdown",
   "id": "fc66a3fb",
   "metadata": {},
   "source": [
    "On Yahoo Finance, Prices & Dividends are backward adjusted for Stock Splits. "
   ]
  },
  {
   "cell_type": "markdown",
   "id": "cc70cd94",
   "metadata": {},
   "source": [
    "Price on 2020-08-31 __after Split__:"
   ]
  },
  {
   "cell_type": "code",
   "execution_count": null,
   "id": "86913cff",
   "metadata": {},
   "outputs": [],
   "source": [
    "splits.loc[\"2020-08-31\", \"Close\"] "
   ]
  },
  {
   "cell_type": "markdown",
   "id": "8503f8e4",
   "metadata": {},
   "source": [
    "Price on 2020-08-31 __before Split__:"
   ]
  },
  {
   "cell_type": "code",
   "execution_count": null,
   "id": "eaaeac2e",
   "metadata": {},
   "outputs": [],
   "source": [
    "splits.loc[\"2020-08-31\", \"Close\"] * splits.loc[\"2020-08-31\", \"Stock Splits\"]"
   ]
  },
  {
   "cell_type": "markdown",
   "id": "bd030356",
   "metadata": {},
   "source": [
    "__-> 4 * 129 == 1 * 516__"
   ]
  },
  {
   "cell_type": "code",
   "execution_count": null,
   "id": "ff2c72e4",
   "metadata": {},
   "outputs": [],
   "source": []
  },
  {
   "cell_type": "markdown",
   "id": "7b863623",
   "metadata": {},
   "source": [
    "__Calculate the unadjusted (observable) prices__"
   ]
  },
  {
   "cell_type": "code",
   "execution_count": null,
   "id": "9aae0e6f",
   "metadata": {},
   "outputs": [],
   "source": [
    "df[\"Stock Splits\"].replace(to_replace = 0, value = 1, inplace = True) # 1:1 on all other days\n",
    "df"
   ]
  },
  {
   "cell_type": "code",
   "execution_count": null,
   "id": "1eb01cee",
   "metadata": {},
   "outputs": [],
   "source": [
    "df[\"Multiplier\"] = df.sort_index(ascending = False)[\"Stock Splits\"].cumprod() # cumulative multipier\n",
    "df"
   ]
  },
  {
   "cell_type": "code",
   "execution_count": null,
   "id": "7aec72ee",
   "metadata": {},
   "outputs": [],
   "source": [
    "df[\"Close_unadj\"] = df[\"Close\"] * df.Multiplier # observable close price\n",
    "df"
   ]
  },
  {
   "cell_type": "code",
   "execution_count": null,
   "id": "a16ee7eb",
   "metadata": {},
   "outputs": [],
   "source": [
    "df[[\"Close\", \"Close_unadj\"]].plot(figsize = (12 ,8))\n",
    "plt.vlines(splits.index, 0, 700, color = \"black\")\n",
    "plt.show()"
   ]
  },
  {
   "cell_type": "markdown",
   "id": "d53c8632",
   "metadata": {},
   "source": [
    "__-> (backward adjusted) prices correctly reflect true price performance. They ignore price drops caused by stock splits!__"
   ]
  },
  {
   "cell_type": "markdown",
   "id": "e7877ef5",
   "metadata": {},
   "source": [
    "__unadjusted Dividends__"
   ]
  },
  {
   "cell_type": "code",
   "execution_count": null,
   "id": "0bb43271",
   "metadata": {},
   "outputs": [],
   "source": [
    "df[\"div_unadj\"] = df[\"Dividends\"] * df.Multiplier"
   ]
  },
  {
   "cell_type": "code",
   "execution_count": null,
   "id": "90f187fb",
   "metadata": {},
   "outputs": [],
   "source": [
    "df.loc[df.div_unadj != 0].div_unadj.plot(figsize = (12, 8))\n",
    "plt.show()"
   ]
  },
  {
   "cell_type": "markdown",
   "id": "b7bfa6d8",
   "metadata": {},
   "source": [
    "__unadjusted Trading Volume (number of shares)__"
   ]
  },
  {
   "cell_type": "code",
   "execution_count": null,
   "id": "811c3c77",
   "metadata": {},
   "outputs": [],
   "source": [
    "df[\"Volume_unadj\"] = df[\"Volume\"] / df.Multiplier"
   ]
  },
  {
   "cell_type": "code",
   "execution_count": null,
   "id": "1425b137",
   "metadata": {},
   "outputs": [],
   "source": [
    "df[\"Volume_unadj\"].plot(figsize = (12, 8))\n",
    "plt.show()"
   ]
  },
  {
   "cell_type": "code",
   "execution_count": null,
   "id": "73ba9a85",
   "metadata": {},
   "outputs": [],
   "source": []
  },
  {
   "cell_type": "markdown",
   "id": "be2329d7",
   "metadata": {},
   "source": [
    "## Stocks from other Countries / Exchanges "
   ]
  },
  {
   "cell_type": "code",
   "execution_count": null,
   "id": "b2a31535",
   "metadata": {},
   "outputs": [],
   "source": [
    "yf.download(tickers = \"AAPL\") # US Ticker (no suffix)"
   ]
  },
  {
   "cell_type": "code",
   "execution_count": null,
   "id": "8f62a094",
   "metadata": {},
   "outputs": [],
   "source": [
    "#yf.download(tickers = \"RELIANCE\") # Indian Ticker (no suffix)"
   ]
  },
  {
   "cell_type": "markdown",
   "id": "a2ab96c0",
   "metadata": {},
   "source": [
    "__Exchange List:__ "
   ]
  },
  {
   "cell_type": "markdown",
   "id": "8424d86a",
   "metadata": {},
   "source": [
    "https://help.yahoo.com/kb/SLN2310.html"
   ]
  },
  {
   "cell_type": "code",
   "execution_count": null,
   "id": "6f8e3f87",
   "metadata": {},
   "outputs": [],
   "source": [
    "yf.download(tickers = \"RELIANCE.NS\") # Indian Ticker"
   ]
  },
  {
   "cell_type": "code",
   "execution_count": null,
   "id": "6745d606",
   "metadata": {},
   "outputs": [],
   "source": [
    "yf.download(tickers = \"LHA.DE\") # German Ticker (Deutsche Boerse XETRA)"
   ]
  },
  {
   "cell_type": "code",
   "execution_count": null,
   "id": "365ce34a",
   "metadata": {},
   "outputs": [],
   "source": [
    "yf.download(tickers = \"LHA.F\") # German Ticker (Frankfurt Stock Exchange)"
   ]
  },
  {
   "cell_type": "code",
   "execution_count": null,
   "id": "698fb3d1",
   "metadata": {},
   "outputs": [],
   "source": []
  },
  {
   "cell_type": "markdown",
   "id": "97b8413e",
   "metadata": {},
   "source": [
    "## Multiple Tickers"
   ]
  },
  {
   "cell_type": "code",
   "execution_count": null,
   "id": "1c8b7724",
   "metadata": {},
   "outputs": [],
   "source": [
    "df = yf.download(tickers = [\"AAPL\", \"MSFT\"]) # multiple tickers\n",
    "df"
   ]
  },
  {
   "cell_type": "code",
   "execution_count": null,
   "id": "f19bd71b",
   "metadata": {},
   "outputs": [],
   "source": [
    "df.info()"
   ]
  },
  {
   "cell_type": "code",
   "execution_count": null,
   "id": "9e2bc7d0",
   "metadata": {},
   "outputs": [],
   "source": [
    "df.columns"
   ]
  },
  {
   "cell_type": "code",
   "execution_count": null,
   "id": "9b82e7e6",
   "metadata": {},
   "outputs": [],
   "source": [
    "df.Close # outer index level"
   ]
  },
  {
   "cell_type": "code",
   "execution_count": null,
   "id": "9c6aff7d",
   "metadata": {},
   "outputs": [],
   "source": [
    "df.loc[:, (\"Close\", \"MSFT\")] # one specific column"
   ]
  },
  {
   "cell_type": "code",
   "execution_count": null,
   "id": "ee792b96",
   "metadata": {},
   "outputs": [],
   "source": [
    "df.Close.MSFT # one specific column"
   ]
  },
  {
   "cell_type": "code",
   "execution_count": null,
   "id": "73c3cdcd",
   "metadata": {},
   "outputs": [],
   "source": [
    "df.loc[:, (slice(None), slice(\"AAPL\"))] # inner index level"
   ]
  },
  {
   "cell_type": "code",
   "execution_count": null,
   "id": "4771c32c",
   "metadata": {},
   "outputs": [],
   "source": [
    "df = df.swaplevel(axis = \"columns\").sort_index(axis = \"columns\")\n",
    "df"
   ]
  },
  {
   "cell_type": "code",
   "execution_count": null,
   "id": "a3630330",
   "metadata": {},
   "outputs": [],
   "source": [
    "df.AAPL"
   ]
  },
  {
   "cell_type": "code",
   "execution_count": null,
   "id": "0a581d8a",
   "metadata": {},
   "outputs": [],
   "source": [
    "df = yf.download(tickers = [\"LHA.F\", \"LHA.DE\"]).Close\n",
    "df"
   ]
  },
  {
   "cell_type": "code",
   "execution_count": null,
   "id": "8b2ba633",
   "metadata": {},
   "outputs": [],
   "source": [
    "#df.LHA.F # incorrect"
   ]
  },
  {
   "cell_type": "code",
   "execution_count": null,
   "id": "0af91aa2",
   "metadata": {},
   "outputs": [],
   "source": [
    "df[\"LHA.F\"]"
   ]
  },
  {
   "cell_type": "code",
   "execution_count": null,
   "id": "725a9365",
   "metadata": {},
   "outputs": [],
   "source": [
    "df.columns = [\"LHA_DE\", \"LHA_F\"]"
   ]
  },
  {
   "cell_type": "code",
   "execution_count": null,
   "id": "f5884ae8",
   "metadata": {},
   "outputs": [],
   "source": [
    "df"
   ]
  },
  {
   "cell_type": "code",
   "execution_count": null,
   "id": "3cc2d26e",
   "metadata": {},
   "outputs": [],
   "source": [
    "df.LHA_F"
   ]
  },
  {
   "cell_type": "code",
   "execution_count": null,
   "id": "879b06d3",
   "metadata": {},
   "outputs": [],
   "source": []
  },
  {
   "cell_type": "markdown",
   "id": "b701f578",
   "metadata": {},
   "source": [
    "## Saving and Loading Data (Local Files)"
   ]
  },
  {
   "cell_type": "code",
   "execution_count": null,
   "id": "fd4b0c8b",
   "metadata": {},
   "outputs": [],
   "source": [
    "import yfinance as yf\n",
    "import pandas as pd"
   ]
  },
  {
   "cell_type": "code",
   "execution_count": null,
   "id": "07fcd46e",
   "metadata": {},
   "outputs": [],
   "source": [
    "symbol = \"AAPL\""
   ]
  },
  {
   "cell_type": "code",
   "execution_count": null,
   "id": "cb64adb0",
   "metadata": {},
   "outputs": [],
   "source": [
    "df = yf.download(symbol, multi_level_index = False) # use multi_level_index: this simplifies the next steps\n",
    "df"
   ]
  },
  {
   "cell_type": "code",
   "execution_count": null,
   "id": "e9569f29",
   "metadata": {},
   "outputs": [],
   "source": [
    "df.to_csv(path_or_buf = \"apple.csv\") # writing to local csv"
   ]
  },
  {
   "cell_type": "code",
   "execution_count": null,
   "id": "ce918cd9",
   "metadata": {},
   "outputs": [],
   "source": [
    "df2 = pd.read_csv(\"apple.csv\", index_col=\"Date\", parse_dates= [\"Date\"]) # loading from local csv\n",
    "df2"
   ]
  },
  {
   "cell_type": "code",
   "execution_count": null,
   "id": "df4de8b5",
   "metadata": {},
   "outputs": [],
   "source": [
    "df2.info()"
   ]
  },
  {
   "cell_type": "markdown",
   "id": "521892f4",
   "metadata": {},
   "source": [
    "__multiple symbols__"
   ]
  },
  {
   "cell_type": "code",
   "execution_count": null,
   "id": "70c0c30b",
   "metadata": {},
   "outputs": [],
   "source": [
    "symbols = [\"AAPL\", \"MSFT\"]"
   ]
  },
  {
   "cell_type": "code",
   "execution_count": null,
   "id": "4ce199ad",
   "metadata": {},
   "outputs": [],
   "source": [
    "df = yf.download(symbols)\n",
    "df"
   ]
  },
  {
   "cell_type": "code",
   "execution_count": null,
   "id": "68d2b224",
   "metadata": {},
   "outputs": [],
   "source": [
    "df.to_csv(path_or_buf = \"two_stocks.csv\") # writing to local csv"
   ]
  },
  {
   "cell_type": "code",
   "execution_count": null,
   "id": "7fcb0280",
   "metadata": {},
   "outputs": [],
   "source": [
    "df2 = pd.read_csv(\"two_stocks.csv\", header = [0, 1], index_col = [0], parse_dates = [0]) # loading from local csv\n",
    "df2"
   ]
  },
  {
   "cell_type": "code",
   "execution_count": null,
   "id": "a6469e13",
   "metadata": {},
   "outputs": [],
   "source": [
    "df2.info()"
   ]
  },
  {
   "cell_type": "code",
   "execution_count": null,
   "id": "e6249a3b",
   "metadata": {},
   "outputs": [],
   "source": []
  },
  {
   "cell_type": "markdown",
   "id": "fd08df53",
   "metadata": {},
   "source": [
    "## Coding Challenge"
   ]
  },
  {
   "cell_type": "markdown",
   "id": "50a2ae61",
   "metadata": {},
   "source": [
    "1. Load historical Prices, Volume and Dividends for the stocks \"JNJ\" (__Johnson & Johnson__) and \"TSLA\" (__Tesla__)"
   ]
  },
  {
   "cell_type": "markdown",
   "id": "093e4aa6",
   "metadata": {},
   "source": [
    "2. Analyze and compare Dividends, Stock Price Increase and Dividend Policy"
   ]
  },
  {
   "cell_type": "markdown",
   "id": "d8ab7b93",
   "metadata": {},
   "source": [
    "3. Which stock is the high-dividend stock?"
   ]
  },
  {
   "cell_type": "markdown",
   "id": "c9298b39",
   "metadata": {},
   "source": [
    "## --------------- Solution --------------------------"
   ]
  },
  {
   "cell_type": "code",
   "execution_count": null,
   "id": "a73a1d2e",
   "metadata": {},
   "outputs": [],
   "source": []
  },
  {
   "cell_type": "code",
   "execution_count": null,
   "id": "a94d268a",
   "metadata": {},
   "outputs": [],
   "source": []
  },
  {
   "cell_type": "code",
   "execution_count": null,
   "id": "df4d0ec1",
   "metadata": {},
   "outputs": [],
   "source": []
  },
  {
   "cell_type": "code",
   "execution_count": null,
   "id": "2e583d2f",
   "metadata": {},
   "outputs": [],
   "source": []
  },
  {
   "cell_type": "code",
   "execution_count": null,
   "id": "5e8077aa",
   "metadata": {},
   "outputs": [],
   "source": [
    "import yfinance as yf\n",
    "import pandas as pd\n",
    "import matplotlib.pyplot as plt\n",
    "plt.style.use(\"seaborn-v0_8\")"
   ]
  },
  {
   "cell_type": "code",
   "execution_count": null,
   "id": "dac45838",
   "metadata": {},
   "outputs": [],
   "source": [
    "symbols = [\"JNJ\", \"TSLA\"]"
   ]
  },
  {
   "cell_type": "code",
   "execution_count": null,
   "id": "5b234a39",
   "metadata": {},
   "outputs": [],
   "source": [
    "df = yf.download(symbols, actions = True)\n",
    "df"
   ]
  },
  {
   "cell_type": "code",
   "execution_count": null,
   "id": "4d84efab",
   "metadata": {},
   "outputs": [],
   "source": [
    "df.Close.plot(figsize = (12, 8))\n",
    "plt.show()"
   ]
  },
  {
   "cell_type": "code",
   "execution_count": null,
   "id": "1fcaf3f9",
   "metadata": {},
   "outputs": [],
   "source": [
    "df = df.swaplevel(axis = \"columns\").sort_index(axis = \"columns\")\n",
    "df"
   ]
  },
  {
   "cell_type": "code",
   "execution_count": null,
   "id": "a6a07fd9",
   "metadata": {},
   "outputs": [],
   "source": [
    "jnj = df.JNJ\n",
    "jnj"
   ]
  },
  {
   "cell_type": "code",
   "execution_count": null,
   "id": "fac53604",
   "metadata": {},
   "outputs": [],
   "source": [
    "jnj[[\"Close\", \"Adj Close\"]].plot(figsize = (12, 8))\n",
    "plt.show()"
   ]
  },
  {
   "cell_type": "markdown",
   "id": "3139e7c8",
   "metadata": {},
   "source": [
    "__Dividends__"
   ]
  },
  {
   "cell_type": "code",
   "execution_count": null,
   "id": "53e52546",
   "metadata": {
    "scrolled": true
   },
   "outputs": [],
   "source": [
    "jnj.Dividends.sum()"
   ]
  },
  {
   "cell_type": "markdown",
   "id": "99d6f808",
   "metadata": {},
   "source": [
    "__Price Increase__"
   ]
  },
  {
   "cell_type": "code",
   "execution_count": null,
   "id": "7a1b4dd4",
   "metadata": {},
   "outputs": [],
   "source": [
    "jnj.Close.iloc[-1] - jnj.Close.iloc[0] # from Pandas v. 2.0 use iloc!"
   ]
  },
  {
   "cell_type": "markdown",
   "id": "81d77670",
   "metadata": {},
   "source": [
    "__Dividend Policy__"
   ]
  },
  {
   "cell_type": "code",
   "execution_count": null,
   "id": "54b9ee9f",
   "metadata": {},
   "outputs": [],
   "source": [
    "jnj.loc[jnj.Dividends != 0].Dividends.plot()\n",
    "plt.show()"
   ]
  },
  {
   "cell_type": "code",
   "execution_count": null,
   "id": "4ddf481e",
   "metadata": {},
   "outputs": [],
   "source": [
    "tsla = df.TSLA.dropna()\n",
    "tsla"
   ]
  },
  {
   "cell_type": "code",
   "execution_count": null,
   "id": "c78e5509",
   "metadata": {},
   "outputs": [],
   "source": [
    "tsla[[\"Close\", \"Adj Close\"]].plot(figsize = (12, 8))\n",
    "plt.show()"
   ]
  },
  {
   "cell_type": "markdown",
   "id": "1c2f43b0",
   "metadata": {},
   "source": [
    "__Dividends__"
   ]
  },
  {
   "cell_type": "code",
   "execution_count": null,
   "id": "b752eec2",
   "metadata": {},
   "outputs": [],
   "source": [
    "tsla.Dividends.sum()"
   ]
  },
  {
   "cell_type": "markdown",
   "id": "a109c814",
   "metadata": {},
   "source": [
    "__Price Increase__"
   ]
  },
  {
   "cell_type": "code",
   "execution_count": null,
   "id": "fd864d74",
   "metadata": {},
   "outputs": [],
   "source": [
    "tsla.Close.iloc[-1] - tsla.Close.iloc[0]"
   ]
  },
  {
   "cell_type": "markdown",
   "id": "6117e41d",
   "metadata": {},
   "source": [
    "__Dividend Policy__"
   ]
  },
  {
   "cell_type": "code",
   "execution_count": null,
   "id": "9027ca6a",
   "metadata": {},
   "outputs": [],
   "source": [
    "tsla.loc[tsla.Dividends != 0].Dividends.plot()\n",
    "plt.show()"
   ]
  },
  {
   "cell_type": "markdown",
   "id": "cef6616c",
   "metadata": {},
   "source": [
    "__-> JNJ is the high-dividend stock__"
   ]
  },
  {
   "cell_type": "code",
   "execution_count": null,
   "id": "ac294d00",
   "metadata": {},
   "outputs": [],
   "source": []
  }
 ],
 "metadata": {
  "kernelspec": {
   "display_name": "Python 3 (ipykernel)",
   "language": "python",
   "name": "python3"
  },
  "language_info": {
   "codemirror_mode": {
    "name": "ipython",
    "version": 3
   },
   "file_extension": ".py",
   "mimetype": "text/x-python",
   "name": "python",
   "nbconvert_exporter": "python",
   "pygments_lexer": "ipython3",
   "version": "3.12.7"
  }
 },
 "nbformat": 4,
 "nbformat_minor": 5
}
