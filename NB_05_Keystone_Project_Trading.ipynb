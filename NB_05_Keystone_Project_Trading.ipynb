{
 "cells": [
  {
   "cell_type": "markdown",
   "id": "0",
   "metadata": {},
   "source": [
    "# Keystone Project - Algorithmic Trading"
   ]
  },
  {
   "cell_type": "markdown",
   "id": "1",
   "metadata": {},
   "source": [
    "__Assignment / Goal:__"
   ]
  },
  {
   "cell_type": "markdown",
   "id": "2",
   "metadata": {},
   "source": [
    "Create a Trading Algorithm for the following (simple) Contrarian Trading Strategy: "
   ]
  },
  {
   "cell_type": "markdown",
   "id": "3",
   "metadata": {},
   "source": [
    "1. At the end of each trading day, you __buy__ the __three worst performing stocks__ among the __30 DJIA__ stocks and hold them for the next trading day."
   ]
  },
  {
   "cell_type": "markdown",
   "id": "4",
   "metadata": {},
   "source": [
    "2. At the end of each trading day, you __short sell__ the __three best performing stocks__ among the __30 DJIA__ stocks and short them for the next trading day."
   ]
  },
  {
   "cell_type": "markdown",
   "id": "5",
   "metadata": {},
   "source": [
    "3. For simplicity reasons, you buy/sell __one share__ of the respective stocks."
   ]
  },
  {
   "cell_type": "markdown",
   "id": "6",
   "metadata": {},
   "source": [
    "4. Underlying idea: The __Market overreacted__ and most recent (extreme) price __trends will revert__ in the near future -> __Contrarian Trading__ (!= Momentum Trading)"
   ]
  },
  {
   "cell_type": "markdown",
   "id": "7",
   "metadata": {},
   "source": [
    "5. Develop the code that\n",
    "- __imports__ required data \n",
    "- __measures__ the most recent performance (price change in %)\n",
    "- __identifies__ the best/worst performing stocks\n",
    "- __trades__ the stocks with the IBKR API "
   ]
  },
  {
   "cell_type": "markdown",
   "id": "8",
   "metadata": {},
   "source": [
    "### -------------SOLUTION---------------"
   ]
  },
  {
   "cell_type": "code",
   "execution_count": null,
   "id": "9",
   "metadata": {},
   "outputs": [],
   "source": []
  },
  {
   "cell_type": "markdown",
   "id": "10",
   "metadata": {},
   "source": [
    "__Please run the following code only with your Paper Trading Account!!!__"
   ]
  },
  {
   "cell_type": "markdown",
   "id": "11",
   "metadata": {},
   "source": [
    "__Check the Regular Trading Hours!!!__ (trade right before 16:30 US Eastern time)"
   ]
  },
  {
   "cell_type": "markdown",
   "id": "12",
   "metadata": {},
   "source": [
    "__Update__: ib_insync has been migrated to __ib_async__. From now on, __please use ib_async__"
   ]
  },
  {
   "cell_type": "code",
   "execution_count": null,
   "id": "13",
   "metadata": {},
   "outputs": [],
   "source": [
    "import pandas as pd\n",
    "import yfinance as yf\n",
    "from ib_async import * # new -> use ib_async\n",
    "util.startLoop()"
   ]
  },
  {
   "cell_type": "markdown",
   "id": "14",
   "metadata": {},
   "source": [
    "## Get the Symbols"
   ]
  },
  {
   "cell_type": "code",
   "execution_count": null,
   "id": "15",
   "metadata": {},
   "outputs": [],
   "source": [
    "df = pd.read_csv(\"DJI_Const.csv\", header = [0, 1], index_col = 0, parse_dates = [0])\n",
    "df"
   ]
  },
  {
   "cell_type": "code",
   "execution_count": null,
   "id": "16",
   "metadata": {},
   "outputs": [],
   "source": [
    "symbols = df.Close.columns.to_list()\n",
    "symbols"
   ]
  },
  {
   "cell_type": "code",
   "execution_count": null,
   "id": "17",
   "metadata": {},
   "outputs": [],
   "source": [
    "symbols.remove(\"^DJI\")"
   ]
  },
  {
   "cell_type": "code",
   "execution_count": null,
   "id": "18",
   "metadata": {},
   "outputs": [],
   "source": [
    "len(symbols)"
   ]
  },
  {
   "cell_type": "code",
   "execution_count": null,
   "id": "19",
   "metadata": {},
   "outputs": [],
   "source": []
  },
  {
   "cell_type": "markdown",
   "id": "20",
   "metadata": {},
   "source": [
    "## Get most recent Prices and Performance"
   ]
  },
  {
   "cell_type": "markdown",
   "id": "21",
   "metadata": {},
   "source": [
    "__Alternative 1__"
   ]
  },
  {
   "cell_type": "code",
   "execution_count": null,
   "id": "22",
   "metadata": {},
   "outputs": [],
   "source": [
    "# yf.Ticker(ticker = \"AAPL\").get_info()[\"regularMarketPrice\"] # OLD"
   ]
  },
  {
   "cell_type": "code",
   "execution_count": null,
   "id": "23",
   "metadata": {},
   "outputs": [],
   "source": [
    "cprice = yf.Ticker(ticker = \"AAPL\").get_info()[\"currentPrice\"] # NEW (before \"regularMarketPrice\")\n",
    "cprice"
   ]
  },
  {
   "cell_type": "code",
   "execution_count": null,
   "id": "24",
   "metadata": {},
   "outputs": [],
   "source": [
    "last_close = yf.Ticker(\"AAPL\").get_info()[\"regularMarketPreviousClose\"]\n",
    "last_close"
   ]
  },
  {
   "cell_type": "code",
   "execution_count": null,
   "id": "25",
   "metadata": {},
   "outputs": [],
   "source": []
  },
  {
   "cell_type": "markdown",
   "id": "26",
   "metadata": {},
   "source": [
    "__Alternative 2__ (faster, more reliable)"
   ]
  },
  {
   "cell_type": "code",
   "execution_count": null,
   "id": "27",
   "metadata": {},
   "outputs": [],
   "source": [
    "yf.Ticker(ticker = \"AAPL\").get_fast_info() "
   ]
  },
  {
   "cell_type": "code",
   "execution_count": null,
   "id": "28",
   "metadata": {},
   "outputs": [],
   "source": [
    "cprice =  yf.Ticker(\"AAPL\").get_fast_info()[\"last_price\"]\n",
    "cprice"
   ]
  },
  {
   "cell_type": "code",
   "execution_count": null,
   "id": "29",
   "metadata": {},
   "outputs": [],
   "source": [
    "last_close = yf.Ticker(\"AAPL\").get_fast_info()[\"regularMarketPreviousClose\"] \n",
    "last_close"
   ]
  },
  {
   "cell_type": "code",
   "execution_count": null,
   "id": "30",
   "metadata": {},
   "outputs": [],
   "source": [
    "perf = cprice / last_close - 1\n",
    "perf"
   ]
  },
  {
   "cell_type": "code",
   "execution_count": null,
   "id": "31",
   "metadata": {},
   "outputs": [],
   "source": [
    "perf = pd.Series(dtype = float)\n",
    "perf"
   ]
  },
  {
   "cell_type": "code",
   "execution_count": null,
   "id": "32",
   "metadata": {},
   "outputs": [],
   "source": [
    "symbols"
   ]
  },
  {
   "cell_type": "code",
   "execution_count": null,
   "id": "33",
   "metadata": {},
   "outputs": [],
   "source": [
    "count = 1\n",
    "for symbol in symbols:\n",
    "    try:\n",
    "        fast_info = yf.Ticker(ticker = symbol).get_fast_info() \n",
    "        prc_chg = fast_info[\"last_price\"] / fast_info[\"regularMarketPreviousClose\"] - 1 \n",
    "        perf.loc[symbol] = prc_chg\n",
    "        print(count, end = '\\r')\n",
    "        count += 1\n",
    "    except Exception as e:\n",
    "        print(\"{} not found\".format(symbol))\n",
    "print(\"Download complete.\")"
   ]
  },
  {
   "cell_type": "code",
   "execution_count": null,
   "id": "34",
   "metadata": {},
   "outputs": [],
   "source": [
    "perf"
   ]
  },
  {
   "cell_type": "code",
   "execution_count": null,
   "id": "35",
   "metadata": {},
   "outputs": [],
   "source": [
    "perf.sort_values(inplace = True)\n",
    "perf"
   ]
  },
  {
   "cell_type": "code",
   "execution_count": null,
   "id": "36",
   "metadata": {},
   "outputs": [],
   "source": [
    "perf.index.name = \"symbol\"\n",
    "perf "
   ]
  },
  {
   "cell_type": "code",
   "execution_count": null,
   "id": "37",
   "metadata": {},
   "outputs": [],
   "source": []
  },
  {
   "cell_type": "markdown",
   "id": "38",
   "metadata": {},
   "source": [
    "## Determine Target Positions"
   ]
  },
  {
   "cell_type": "code",
   "execution_count": null,
   "id": "39",
   "metadata": {},
   "outputs": [],
   "source": [
    "buy_stocks = 3 # buy the 3 worst performing stocks"
   ]
  },
  {
   "cell_type": "code",
   "execution_count": null,
   "id": "40",
   "metadata": {},
   "outputs": [],
   "source": [
    "sell_stocks = 3 # short sell the 3 best performing stocks"
   ]
  },
  {
   "cell_type": "code",
   "execution_count": null,
   "id": "41",
   "metadata": {},
   "outputs": [],
   "source": [
    "shares = 1 # one share per stock"
   ]
  },
  {
   "cell_type": "code",
   "execution_count": null,
   "id": "42",
   "metadata": {},
   "outputs": [],
   "source": [
    "perf.iloc[:buy_stocks] = shares\n",
    "perf.iloc[-sell_stocks:] = -shares\n",
    "perf"
   ]
  },
  {
   "cell_type": "code",
   "execution_count": null,
   "id": "43",
   "metadata": {},
   "outputs": [],
   "source": [
    "target = pd.concat([perf.iloc[:buy_stocks], perf.iloc[-sell_stocks:]]).to_frame().reset_index()\n",
    "target.columns = [\"symbol\", \"position\"]\n",
    "target"
   ]
  },
  {
   "cell_type": "code",
   "execution_count": null,
   "id": "44",
   "metadata": {},
   "outputs": [],
   "source": []
  },
  {
   "cell_type": "markdown",
   "id": "45",
   "metadata": {},
   "source": [
    "## Identify Current Positions"
   ]
  },
  {
   "cell_type": "code",
   "execution_count": null,
   "id": "46",
   "metadata": {},
   "outputs": [],
   "source": [
    "ib = IB()"
   ]
  },
  {
   "cell_type": "code",
   "execution_count": null,
   "id": "47",
   "metadata": {},
   "outputs": [],
   "source": [
    "ib.connect()"
   ]
  },
  {
   "cell_type": "code",
   "execution_count": null,
   "id": "48",
   "metadata": {},
   "outputs": [],
   "source": [
    "pos = ib.positions()\n",
    "pos"
   ]
  },
  {
   "cell_type": "code",
   "execution_count": null,
   "id": "49",
   "metadata": {},
   "outputs": [],
   "source": [
    "df = util.df(pos)\n",
    "df"
   ]
  },
  {
   "cell_type": "code",
   "execution_count": null,
   "id": "50",
   "metadata": {},
   "outputs": [],
   "source": [
    "#df[\"symbol\"] = df.contract.apply(lambda x: x.symbol)\n",
    "#df[\"conID\"] = df.contract.apply(lambda x: x.conId)"
   ]
  },
  {
   "cell_type": "code",
   "execution_count": null,
   "id": "51",
   "metadata": {},
   "outputs": [],
   "source": [
    "if df is not None:\n",
    "    df[\"symbol\"] = df.contract.apply(lambda x: x.symbol)\n",
    "    df[\"conID\"] = df.contract.apply(lambda x: x.conId)\n",
    "else: \n",
    "    df = pd.DataFrame(columns = [\"symbol\", \"position\"])"
   ]
  },
  {
   "cell_type": "code",
   "execution_count": null,
   "id": "52",
   "metadata": {},
   "outputs": [],
   "source": [
    "df"
   ]
  },
  {
   "cell_type": "code",
   "execution_count": null,
   "id": "53",
   "metadata": {},
   "outputs": [],
   "source": []
  },
  {
   "cell_type": "markdown",
   "id": "54",
   "metadata": {},
   "source": [
    "## Determine Required Trades (from actual to target positions)"
   ]
  },
  {
   "cell_type": "code",
   "execution_count": null,
   "id": "55",
   "metadata": {},
   "outputs": [],
   "source": [
    "target"
   ]
  },
  {
   "cell_type": "code",
   "execution_count": null,
   "id": "56",
   "metadata": {},
   "outputs": [],
   "source": [
    "df"
   ]
  },
  {
   "cell_type": "code",
   "execution_count": null,
   "id": "57",
   "metadata": {},
   "outputs": [],
   "source": [
    "trades = pd.merge(target, df[[\"symbol\", \"position\"]], \"outer\", on = \"symbol\", suffixes = [\"_t\", \"_a\"])\n",
    "trades"
   ]
  },
  {
   "cell_type": "code",
   "execution_count": null,
   "id": "58",
   "metadata": {},
   "outputs": [],
   "source": [
    "trades.fillna(0, inplace = True)\n",
    "trades"
   ]
  },
  {
   "cell_type": "code",
   "execution_count": null,
   "id": "59",
   "metadata": {},
   "outputs": [],
   "source": [
    "trades[\"trades\"] = trades.position_t - trades.position_a "
   ]
  },
  {
   "cell_type": "code",
   "execution_count": null,
   "id": "60",
   "metadata": {},
   "outputs": [],
   "source": [
    "trades"
   ]
  },
  {
   "cell_type": "code",
   "execution_count": null,
   "id": "61",
   "metadata": {},
   "outputs": [],
   "source": [
    "trades = trades[trades.trades !=0].set_index(\"symbol\").copy()\n",
    "trades"
   ]
  },
  {
   "cell_type": "code",
   "execution_count": null,
   "id": "62",
   "metadata": {},
   "outputs": [],
   "source": []
  },
  {
   "cell_type": "markdown",
   "id": "63",
   "metadata": {},
   "source": [
    "## Execute Trades"
   ]
  },
  {
   "cell_type": "code",
   "execution_count": null,
   "id": "64",
   "metadata": {},
   "outputs": [],
   "source": [
    "for symbol in trades.index:\n",
    "    to_trade = trades.loc[symbol, \"trades\"]\n",
    "    if to_trade > 0: \n",
    "        side = \"BUY\"\n",
    "    elif to_trade < 0:\n",
    "        side = \"SELL\"\n",
    "    contract = Stock(symbol, \"SMART\", \"USD\")\n",
    "    cds = ib.reqContractDetails(contract)\n",
    "    if len(cds) == 0:\n",
    "        print(\"No Contract for {} found.\".format(symbol))\n",
    "    elif len(cds) == 1:\n",
    "        contract = cds[0].contract\n",
    "        order = MarketOrder(side, abs(to_trade))\n",
    "        trade = ib.placeOrder(contract, order)\n",
    "        while not trade.isDone():\n",
    "            ib.waitOnUpdate()\n",
    "        if trade.orderStatus.status == \"Filled\":\n",
    "            print(\"{} {} @ {}\".format(side, symbol, trade.orderStatus.avgFillPrice))\n",
    "        else:\n",
    "            print(\"{} {} failed.\".format(side, symbol))\n",
    "    else:\n",
    "        contract = cds[0].contract\n",
    "        print(\"Multiple Contracts for {} found.\".format(symbol))\n",
    "        order = MarketOrder(side, abs(to_trade))\n",
    "        trade = ib.placeOrder(contract, order)\n",
    "        while not trade.isDone():\n",
    "            ib.waitOnUpdate()\n",
    "        if trade.orderStatus.status == \"Filled\":\n",
    "            print(\"{} {} @ {}\".format(side, symbol, trade.orderStatus.avgFillPrice))\n",
    "        else:\n",
    "            print(\"{} {} failed.\".format(side, symbol))  \n",
    "pos = ib.positions()\n",
    "df = util.df(pos)\n",
    "df[\"symbol\"] = df.contract.apply(lambda x: x.symbol)\n",
    "df[\"conID\"] = df.contract.apply(lambda x: x.conId)\n",
    "df"
   ]
  },
  {
   "cell_type": "code",
   "execution_count": null,
   "id": "65",
   "metadata": {},
   "outputs": [],
   "source": [
    "target"
   ]
  },
  {
   "cell_type": "code",
   "execution_count": null,
   "id": "66",
   "metadata": {},
   "outputs": [],
   "source": [
    "ib.disconnect()"
   ]
  },
  {
   "cell_type": "code",
   "execution_count": null,
   "id": "67",
   "metadata": {},
   "outputs": [],
   "source": []
  },
  {
   "cell_type": "markdown",
   "id": "68",
   "metadata": {},
   "source": [
    "## Running a Python Script"
   ]
  },
  {
   "cell_type": "markdown",
   "id": "69",
   "metadata": {},
   "source": [
    "__Important things to consider__:\n",
    "- You should run the __full code__ right before the end of the trading day (__16:30 US/Eastern__) \n",
    "- better/faster execution with a __Python Script__\n",
    "- __Daily Automation/Schedule__ easier with Script (not part of this Section)\n",
    "- Live Trading only after __extensive Strategy Backtesting__ (see Part 3)!\n",
    "    \n",
    "    "
   ]
  },
  {
   "cell_type": "code",
   "execution_count": null,
   "id": "70",
   "metadata": {},
   "outputs": [],
   "source": []
  }
 ],
 "metadata": {
  "kernelspec": {
   "display_name": "Python 3 (ipykernel)",
   "language": "python",
   "name": "python3"
  },
  "language_info": {
   "codemirror_mode": {
    "name": "ipython",
    "version": 3
   },
   "file_extension": ".py",
   "mimetype": "text/x-python",
   "name": "python",
   "nbconvert_exporter": "python",
   "pygments_lexer": "ipython3",
   "version": "3.12.0"
  }
 },
 "nbformat": 4,
 "nbformat_minor": 5
}
