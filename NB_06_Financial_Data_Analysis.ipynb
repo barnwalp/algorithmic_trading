{
 "cells": [
  {
   "cell_type": "markdown",
   "id": "0",
   "metadata": {},
   "source": [
    "# Financial Data Analysis and Performance Evaluation with Python"
   ]
  },
  {
   "cell_type": "markdown",
   "id": "1",
   "metadata": {},
   "source": [
    "## Getting started - initial Data Inspection and Visualization"
   ]
  },
  {
   "cell_type": "code",
   "execution_count": null,
   "id": "2",
   "metadata": {},
   "outputs": [],
   "source": [
    "import pandas as pd\n",
    "import matplotlib.pyplot as plt\n",
    "pd.options.display.float_format = '{:.4f}'.format\n",
    "plt.style.use(\"seaborn-v0_8\")"
   ]
  },
  {
   "cell_type": "code",
   "execution_count": null,
   "id": "3",
   "metadata": {},
   "outputs": [],
   "source": [
    "df = pd.read_csv(\"multi_assets.csv\", header = [0, 1], index_col = 0, parse_dates = [0])\n",
    "df"
   ]
  },
  {
   "cell_type": "code",
   "execution_count": null,
   "id": "4",
   "metadata": {},
   "outputs": [],
   "source": [
    "df.info()"
   ]
  },
  {
   "cell_type": "markdown",
   "id": "5",
   "metadata": {},
   "source": [
    "Ticker Symbols: <br>\n",
    "- __BA__: Boeing (US Stock) \n",
    "- __MSFT__: Microsoft Corp (US Stock)\n",
    "- __^DJI__: Dow Jones Industrial Average (US Stock Index)\n",
    "- __EURUSD=X__: Exchange Rate for Currency Pair EUR/USD (Forex)\n",
    "- __GC=F__: Gold Price (Precious Metal / Commodity)\n",
    "- __BTC-USD__: Bitcoin in USD (Cryptocurrency)"
   ]
  },
  {
   "cell_type": "code",
   "execution_count": null,
   "id": "6",
   "metadata": {},
   "outputs": [],
   "source": [
    "close = df.Close.copy()\n",
    "close"
   ]
  },
  {
   "cell_type": "code",
   "execution_count": null,
   "id": "7",
   "metadata": {},
   "outputs": [],
   "source": [
    "close.describe()"
   ]
  },
  {
   "cell_type": "code",
   "execution_count": null,
   "id": "8",
   "metadata": {},
   "outputs": [],
   "source": [
    "close.BA.dropna().plot(figsize = (15, 8), fontsize = 13)\n",
    "plt.legend(fontsize = 13)\n",
    "plt.show()"
   ]
  },
  {
   "cell_type": "code",
   "execution_count": null,
   "id": "9",
   "metadata": {},
   "outputs": [],
   "source": [
    "close.dropna().plot(figsize = (15, 8), fontsize = 13)\n",
    "plt.legend(fontsize = 13)\n",
    "plt.show()"
   ]
  },
  {
   "cell_type": "markdown",
   "id": "10",
   "metadata": {},
   "source": [
    "__Take Home: Absolute Prices are absolutely meaningless/useless (in most cases)__ <br>\n",
    "- Prices that are on a different scale are hard to compare \n",
    "- A higher Price does not imply a higher value or a better performance"
   ]
  },
  {
   "cell_type": "code",
   "execution_count": null,
   "id": "11",
   "metadata": {},
   "outputs": [],
   "source": []
  },
  {
   "cell_type": "markdown",
   "id": "12",
   "metadata": {},
   "source": [
    "## Normalizing Financial Time Series to a Base Value (100)"
   ]
  },
  {
   "cell_type": "markdown",
   "id": "13",
   "metadata": {},
   "source": [
    "__-> all instruments start at the very same Level (Base Value)__"
   ]
  },
  {
   "cell_type": "code",
   "execution_count": null,
   "id": "14",
   "metadata": {},
   "outputs": [],
   "source": [
    "close"
   ]
  },
  {
   "cell_type": "code",
   "execution_count": null,
   "id": "15",
   "metadata": {},
   "outputs": [],
   "source": [
    "close.iloc[0,0] # first price BA"
   ]
  },
  {
   "cell_type": "code",
   "execution_count": null,
   "id": "16",
   "metadata": {},
   "outputs": [],
   "source": [
    "close.BA.div(close.iloc[0,0]).mul(100)"
   ]
  },
  {
   "cell_type": "code",
   "execution_count": null,
   "id": "17",
   "metadata": {},
   "outputs": [],
   "source": [
    "close.iloc[0] # first Price all tickers"
   ]
  },
  {
   "cell_type": "code",
   "execution_count": null,
   "id": "18",
   "metadata": {},
   "outputs": [],
   "source": [
    "norm = close.div(close.iloc[0]).mul(100)\n",
    "norm"
   ]
  },
  {
   "cell_type": "code",
   "execution_count": null,
   "id": "19",
   "metadata": {},
   "outputs": [],
   "source": [
    "norm.dropna().plot(figsize = (15, 8), fontsize = 13, logy = True)\n",
    "plt.legend(fontsize = 13)\n",
    "plt.show()"
   ]
  },
  {
   "cell_type": "markdown",
   "id": "20",
   "metadata": {},
   "source": [
    "__Take Home: Normalized Prices help to compare Financial Instruments...<br>\n",
    "...but they are limited when it comes to measuring/comparing Performance in more detail.__"
   ]
  },
  {
   "cell_type": "code",
   "execution_count": null,
   "id": "21",
   "metadata": {},
   "outputs": [],
   "source": [
    "#close.to_csv(\"close.csv\")"
   ]
  },
  {
   "cell_type": "code",
   "execution_count": null,
   "id": "22",
   "metadata": {},
   "outputs": [],
   "source": []
  },
  {
   "cell_type": "markdown",
   "id": "23",
   "metadata": {},
   "source": [
    "---------------------------------------------"
   ]
  },
  {
   "cell_type": "markdown",
   "id": "24",
   "metadata": {},
   "source": [
    "__Coding Challenge #1__"
   ]
  },
  {
   "cell_type": "markdown",
   "id": "25",
   "metadata": {},
   "source": [
    "1. Load Stock Price Data for General Electric (GE) and another ticker symbol of your choice from 2015-01-02 until 2020-12-31.<br>\n",
    "Go to https://finance.yahoo.com/ and get the right ticker symbol. For instruments traded outside the US, you have to add a country/exchange suffix. <br>\n",
    "Check the suffix list here https://help.yahoo.com/kb/exchanges-data-providers-yahoo-finance-sln2310.html As an example, the suffix for the National Indian Stock Exchange is .NS -> Ticker Symbol for Reliance is Reliance.NS"
   ]
  },
  {
   "cell_type": "markdown",
   "id": "26",
   "metadata": {},
   "source": [
    "2. Select Close prices only and create a price chart for GE."
   ]
  },
  {
   "cell_type": "markdown",
   "id": "27",
   "metadata": {},
   "source": [
    "3. Normalize the stock prices for GE and the Ticker Symbol of your choice (Base Value: 1) and visualize! What´s the final normalized price for GE on 2020-12-30? "
   ]
  },
  {
   "cell_type": "markdown",
   "id": "28",
   "metadata": {},
   "source": [
    "_You can find the solution for the Coding Challenges at the end of this notebook_."
   ]
  },
  {
   "cell_type": "markdown",
   "id": "29",
   "metadata": {},
   "source": [
    "-----------------------------------------------------"
   ]
  },
  {
   "cell_type": "code",
   "execution_count": null,
   "id": "30",
   "metadata": {},
   "outputs": [],
   "source": []
  },
  {
   "cell_type": "markdown",
   "id": "31",
   "metadata": {},
   "source": [
    "## Price Changes and Financial Returns"
   ]
  },
  {
   "cell_type": "markdown",
   "id": "32",
   "metadata": {},
   "source": [
    "__More meaningful/useful than Prices: Price changes__"
   ]
  },
  {
   "cell_type": "code",
   "execution_count": null,
   "id": "33",
   "metadata": {},
   "outputs": [],
   "source": [
    "import pandas as pd\n",
    "import matplotlib.pyplot as plt\n",
    "pd.options.display.float_format = '{:.4f}'.format\n",
    "plt.style.use(\"seaborn-v0_8\")"
   ]
  },
  {
   "cell_type": "code",
   "execution_count": null,
   "id": "34",
   "metadata": {},
   "outputs": [],
   "source": [
    "close = pd.read_csv(\"close.csv\", index_col = \"Date\", parse_dates = [\"Date\"])\n",
    "close"
   ]
  },
  {
   "cell_type": "code",
   "execution_count": null,
   "id": "35",
   "metadata": {},
   "outputs": [],
   "source": [
    "msft = close.MSFT.dropna().to_frame().copy()"
   ]
  },
  {
   "cell_type": "code",
   "execution_count": null,
   "id": "36",
   "metadata": {},
   "outputs": [],
   "source": [
    "msft"
   ]
  },
  {
   "cell_type": "code",
   "execution_count": null,
   "id": "37",
   "metadata": {},
   "outputs": [],
   "source": [
    "msft.rename(columns = {\"MSFT\":\"Price\"}, inplace = True)"
   ]
  },
  {
   "cell_type": "code",
   "execution_count": null,
   "id": "38",
   "metadata": {},
   "outputs": [],
   "source": [
    "msft"
   ]
  },
  {
   "cell_type": "code",
   "execution_count": null,
   "id": "39",
   "metadata": {},
   "outputs": [],
   "source": [
    "msft.shift(periods = 1)"
   ]
  },
  {
   "cell_type": "code",
   "execution_count": null,
   "id": "40",
   "metadata": {},
   "outputs": [],
   "source": [
    "msft[\"P_lag1\"] = msft.shift(periods = 1)\n",
    "msft"
   ]
  },
  {
   "cell_type": "markdown",
   "id": "41",
   "metadata": {},
   "source": [
    "__Absolute Price Changes__ (Difference)"
   ]
  },
  {
   "cell_type": "code",
   "execution_count": null,
   "id": "42",
   "metadata": {},
   "outputs": [],
   "source": [
    "msft[\"P_diff\"] = msft.Price.sub(msft.P_lag1) # Alternative 1"
   ]
  },
  {
   "cell_type": "code",
   "execution_count": null,
   "id": "43",
   "metadata": {},
   "outputs": [],
   "source": [
    "msft"
   ]
  },
  {
   "cell_type": "code",
   "execution_count": null,
   "id": "44",
   "metadata": {},
   "outputs": [],
   "source": [
    "msft[\"P_diff2\"] = msft.Price.diff(periods = 1)  # Alternative 2"
   ]
  },
  {
   "cell_type": "code",
   "execution_count": null,
   "id": "45",
   "metadata": {},
   "outputs": [],
   "source": [
    "msft"
   ]
  },
  {
   "cell_type": "code",
   "execution_count": null,
   "id": "46",
   "metadata": {},
   "outputs": [],
   "source": [
    "msft.P_diff.equals(msft.P_diff2)"
   ]
  },
  {
   "cell_type": "markdown",
   "id": "47",
   "metadata": {},
   "source": [
    "__-> Absolute Price Changes are not meaningful__"
   ]
  },
  {
   "cell_type": "markdown",
   "id": "48",
   "metadata": {},
   "source": [
    "__Relative/Percentage Price Changes__ (Returns)"
   ]
  },
  {
   "cell_type": "code",
   "execution_count": null,
   "id": "49",
   "metadata": {},
   "outputs": [],
   "source": [
    "msft.Price.div(msft.P_lag1) - 1 # Alternative 1"
   ]
  },
  {
   "cell_type": "code",
   "execution_count": null,
   "id": "50",
   "metadata": {},
   "outputs": [],
   "source": [
    "msft[\"Returns\"] = msft.Price.pct_change(periods = 1) # Alternative 2\n",
    "msft"
   ]
  },
  {
   "cell_type": "code",
   "execution_count": null,
   "id": "51",
   "metadata": {},
   "outputs": [],
   "source": [
    "46.0900 / 45.7600 - 1"
   ]
  },
  {
   "cell_type": "code",
   "execution_count": null,
   "id": "52",
   "metadata": {},
   "outputs": [],
   "source": [
    "(46.0900 / 45.7600 - 1) * 100"
   ]
  },
  {
   "cell_type": "markdown",
   "id": "53",
   "metadata": {},
   "source": [
    "__Take Home: Relative Price Changes (Returns) are meaningful and comparable across instruments__"
   ]
  },
  {
   "cell_type": "code",
   "execution_count": null,
   "id": "54",
   "metadata": {},
   "outputs": [],
   "source": [
    "msft.drop(columns = [\"P_lag1\", \"P_diff\", \"P_diff2\"], inplace = True)"
   ]
  },
  {
   "cell_type": "code",
   "execution_count": null,
   "id": "55",
   "metadata": {},
   "outputs": [],
   "source": [
    "msft"
   ]
  },
  {
   "cell_type": "code",
   "execution_count": null,
   "id": "56",
   "metadata": {},
   "outputs": [],
   "source": [
    "msft.to_csv(\"msft.csv\")"
   ]
  },
  {
   "cell_type": "code",
   "execution_count": null,
   "id": "57",
   "metadata": {},
   "outputs": [],
   "source": []
  },
  {
   "cell_type": "markdown",
   "id": "58",
   "metadata": {},
   "source": [
    "## Measuring Reward and Risk of an Investment"
   ]
  },
  {
   "cell_type": "markdown",
   "id": "59",
   "metadata": {},
   "source": [
    "__General Rule in Finance/Investing: Higher Risk must be rewarded with higher Returns__."
   ]
  },
  {
   "cell_type": "code",
   "execution_count": null,
   "id": "60",
   "metadata": {},
   "outputs": [],
   "source": [
    "import pandas as pd\n",
    "import numpy as np\n",
    "import matplotlib.pyplot as plt\n",
    "pd.options.display.float_format = '{:.4f}'.format\n",
    "plt.style.use(\"seaborn-v0_8\")"
   ]
  },
  {
   "cell_type": "code",
   "execution_count": null,
   "id": "61",
   "metadata": {},
   "outputs": [],
   "source": [
    "msft = pd.read_csv(\"msft.csv\", index_col = \"Date\", parse_dates = [\"Date\"])\n",
    "msft"
   ]
  },
  {
   "cell_type": "code",
   "execution_count": null,
   "id": "62",
   "metadata": {},
   "outputs": [],
   "source": [
    "msft.Price.plot(figsize = (15, 8), fontsize = 13)\n",
    "plt.legend(fontsize = 13)\n",
    "plt.show()"
   ]
  },
  {
   "cell_type": "markdown",
   "id": "63",
   "metadata": {},
   "source": [
    "- Reward: Positive Returns\n",
    "- Risk: Volatility of Returns"
   ]
  },
  {
   "cell_type": "code",
   "execution_count": null,
   "id": "64",
   "metadata": {},
   "outputs": [],
   "source": [
    "msft.describe()"
   ]
  },
  {
   "cell_type": "code",
   "execution_count": null,
   "id": "65",
   "metadata": {},
   "outputs": [],
   "source": [
    "mu = msft.Returns.mean() # arithmetic mean return -> Reward\n",
    "mu"
   ]
  },
  {
   "cell_type": "code",
   "execution_count": null,
   "id": "66",
   "metadata": {},
   "outputs": [],
   "source": [
    "sigma = msft.Returns.std() # standard deviation of returns -> Risk/Volatility\n",
    "sigma"
   ]
  },
  {
   "cell_type": "code",
   "execution_count": null,
   "id": "67",
   "metadata": {},
   "outputs": [],
   "source": [
    "np.sqrt(msft.Returns.var())"
   ]
  },
  {
   "cell_type": "code",
   "execution_count": null,
   "id": "68",
   "metadata": {},
   "outputs": [],
   "source": []
  },
  {
   "cell_type": "markdown",
   "id": "69",
   "metadata": {},
   "source": [
    "----------------------------------------"
   ]
  },
  {
   "cell_type": "markdown",
   "id": "70",
   "metadata": {},
   "source": [
    "__Coding Challenge #2__"
   ]
  },
  {
   "cell_type": "markdown",
   "id": "71",
   "metadata": {},
   "source": [
    "1. Calculate daily returns for Bitcoin."
   ]
  },
  {
   "cell_type": "markdown",
   "id": "72",
   "metadata": {},
   "source": [
    "2. Calculate the arithmetic mean return and the standard deviation of returns for Bitcoin. "
   ]
  },
  {
   "cell_type": "markdown",
   "id": "73",
   "metadata": {},
   "source": [
    "3. Compare Bitcoin with Microsoft (mu = 0.00116, sigma = 0.01726). Does the rule \"Higher Risk -> Higher Reward\" hold?"
   ]
  },
  {
   "cell_type": "markdown",
   "id": "74",
   "metadata": {},
   "source": [
    "-----------------------------------"
   ]
  },
  {
   "cell_type": "code",
   "execution_count": null,
   "id": "75",
   "metadata": {},
   "outputs": [],
   "source": []
  },
  {
   "cell_type": "markdown",
   "id": "76",
   "metadata": {},
   "source": [
    "## Investment Multiple and CAGR "
   ]
  },
  {
   "cell_type": "markdown",
   "id": "77",
   "metadata": {},
   "source": [
    "__Two alternative reward metrics that are more intuitive and easier to interpret.__"
   ]
  },
  {
   "cell_type": "code",
   "execution_count": null,
   "id": "78",
   "metadata": {},
   "outputs": [],
   "source": [
    "import pandas as pd\n",
    "import numpy as np\n",
    "import matplotlib.pyplot as plt\n",
    "pd.options.display.float_format = '{:.4f}'.format\n",
    "plt.style.use(\"seaborn-v0_8\")"
   ]
  },
  {
   "cell_type": "code",
   "execution_count": null,
   "id": "79",
   "metadata": {},
   "outputs": [],
   "source": [
    "msft = pd.read_csv(\"msft.csv\", index_col = \"Date\", parse_dates = [\"Date\"])\n",
    "msft"
   ]
  },
  {
   "cell_type": "markdown",
   "id": "80",
   "metadata": {},
   "source": [
    "__Investment Multiple__: Ending Value of 1 [Dollar] invested. <br>\n",
    "Multiple = Ending Value / Initial Investment"
   ]
  },
  {
   "cell_type": "code",
   "execution_count": null,
   "id": "81",
   "metadata": {},
   "outputs": [],
   "source": [
    "multiple = (msft.Price.iloc[-1] / msft.Price.iloc[0]) # NEW: use iloc[]\n",
    "multiple"
   ]
  },
  {
   "cell_type": "markdown",
   "id": "82",
   "metadata": {},
   "source": [
    "__Price Increase (in %)__"
   ]
  },
  {
   "cell_type": "code",
   "execution_count": null,
   "id": "83",
   "metadata": {},
   "outputs": [],
   "source": [
    "(multiple - 1) * 100"
   ]
  },
  {
   "cell_type": "code",
   "execution_count": null,
   "id": "84",
   "metadata": {},
   "outputs": [],
   "source": [
    "msft.Price / msft.Price.iloc[0] # similar/identical concept: Normalized Price with Base Value 1"
   ]
  },
  {
   "cell_type": "markdown",
   "id": "85",
   "metadata": {},
   "source": [
    "__Drawback of Investment Multiple: Doesn´t take into account investment Period. Meaningful only in conjunction with Investment Period.__"
   ]
  },
  {
   "cell_type": "markdown",
   "id": "86",
   "metadata": {},
   "source": [
    "__Compound Annual Growth Rate (CAGR)__: The (constant annual) rate of return that would be required for an investment to grow from its beginning balance to its ending balance, assuming the profits were reinvested at the end of each year of the investment's lifespan. (Wikipedia)"
   ]
  },
  {
   "cell_type": "code",
   "execution_count": null,
   "id": "87",
   "metadata": {},
   "outputs": [],
   "source": [
    "start = msft.index[0]\n",
    "start"
   ]
  },
  {
   "cell_type": "code",
   "execution_count": null,
   "id": "88",
   "metadata": {},
   "outputs": [],
   "source": [
    "end = msft.index[-1]\n",
    "end"
   ]
  },
  {
   "cell_type": "code",
   "execution_count": null,
   "id": "89",
   "metadata": {},
   "outputs": [],
   "source": [
    "td = end - start\n",
    "td"
   ]
  },
  {
   "cell_type": "code",
   "execution_count": null,
   "id": "90",
   "metadata": {},
   "outputs": [],
   "source": [
    "td_years = td.days / 365.25\n",
    "td_years"
   ]
  },
  {
   "cell_type": "code",
   "execution_count": null,
   "id": "91",
   "metadata": {},
   "outputs": [],
   "source": [
    "cagr = multiple**(1 / td_years) - 1 # short version\n",
    "cagr"
   ]
  },
  {
   "cell_type": "code",
   "execution_count": null,
   "id": "92",
   "metadata": {},
   "outputs": [],
   "source": [
    "cagr = (msft.Price.iloc[-1]/msft.Price.iloc[0])**(1/((msft.index[-1] - msft.index[0]).days / 365.25)) - 1 # long\n",
    "cagr"
   ]
  },
  {
   "cell_type": "code",
   "execution_count": null,
   "id": "93",
   "metadata": {},
   "outputs": [],
   "source": [
    "(1 + cagr)**(td_years) # alternative #2 to calculate multiple (cagr)"
   ]
  },
  {
   "cell_type": "markdown",
   "id": "94",
   "metadata": {},
   "source": [
    "__-> CAGR can be used to compare Investments with different investment horizons.__"
   ]
  },
  {
   "cell_type": "code",
   "execution_count": null,
   "id": "95",
   "metadata": {},
   "outputs": [],
   "source": []
  },
  {
   "cell_type": "markdown",
   "id": "96",
   "metadata": {},
   "source": [
    "## Compound Returns & Geometric Mean Return"
   ]
  },
  {
   "cell_type": "code",
   "execution_count": null,
   "id": "97",
   "metadata": {},
   "outputs": [],
   "source": [
    "msft"
   ]
  },
  {
   "cell_type": "code",
   "execution_count": null,
   "id": "98",
   "metadata": {},
   "outputs": [],
   "source": [
    "multiple = (1 + msft.Returns).prod() # alternative #3 to calculate multiple (compounding daily returns)\n",
    "multiple"
   ]
  },
  {
   "cell_type": "code",
   "execution_count": null,
   "id": "99",
   "metadata": {},
   "outputs": [],
   "source": [
    "n = msft.Returns.count()\n",
    "n"
   ]
  },
  {
   "cell_type": "code",
   "execution_count": null,
   "id": "100",
   "metadata": {},
   "outputs": [],
   "source": [
    "geo_mean = multiple**(1/n) - 1 # Geometric mean return (daily)\n",
    "geo_mean"
   ]
  },
  {
   "cell_type": "code",
   "execution_count": null,
   "id": "101",
   "metadata": {},
   "outputs": [],
   "source": [
    "(1 + geo_mean)**n # alternative #4 to calculate multiple (geometric mean)"
   ]
  },
  {
   "cell_type": "markdown",
   "id": "102",
   "metadata": {},
   "source": [
    "__-> Compound returns, CAGR & geometric mean return are closely related concepts__."
   ]
  },
  {
   "cell_type": "code",
   "execution_count": null,
   "id": "103",
   "metadata": {},
   "outputs": [],
   "source": [
    "mu = msft.Returns.mean() # arithmetic mean return\n",
    "mu"
   ]
  },
  {
   "cell_type": "markdown",
   "id": "104",
   "metadata": {},
   "source": [
    "__The arithmetic mean return is always greater than the geometric mean return... and less useful__. "
   ]
  },
  {
   "cell_type": "code",
   "execution_count": null,
   "id": "105",
   "metadata": {},
   "outputs": [],
   "source": [
    "(1 + mu)**n # calculate multiple? not possible with arithmetic mean!"
   ]
  },
  {
   "cell_type": "code",
   "execution_count": null,
   "id": "106",
   "metadata": {},
   "outputs": [],
   "source": []
  },
  {
   "cell_type": "markdown",
   "id": "107",
   "metadata": {},
   "source": [
    "----------------------------"
   ]
  },
  {
   "cell_type": "markdown",
   "id": "108",
   "metadata": {},
   "source": [
    "__Coding Challenge #3__"
   ]
  },
  {
   "cell_type": "markdown",
   "id": "109",
   "metadata": {},
   "source": [
    "1. Calculate Boeing´s Investment Multiple "
   ]
  },
  {
   "cell_type": "markdown",
   "id": "110",
   "metadata": {},
   "source": [
    "2. Calculate Boeing´s CAGR"
   ]
  },
  {
   "cell_type": "markdown",
   "id": "111",
   "metadata": {},
   "source": [
    "3. Calculate Boeing´s Geometric Mean Return"
   ]
  },
  {
   "cell_type": "markdown",
   "id": "112",
   "metadata": {},
   "source": [
    "4. Calculate Boeing´s Investment Multiple with compound daily returns"
   ]
  },
  {
   "cell_type": "markdown",
   "id": "113",
   "metadata": {},
   "source": [
    "----------------------------------"
   ]
  },
  {
   "cell_type": "code",
   "execution_count": null,
   "id": "114",
   "metadata": {},
   "outputs": [],
   "source": []
  },
  {
   "cell_type": "markdown",
   "id": "115",
   "metadata": {},
   "source": [
    "## Preview: Simple Returns vs. Logarithmic Returns (log returns)"
   ]
  },
  {
   "cell_type": "markdown",
   "id": "116",
   "metadata": {},
   "source": [
    "Very often log returns are used instead of simple returns.<br>\n",
    "- favourable characteristics of log returns\n",
    "- drawbacks of simple returns"
   ]
  },
  {
   "cell_type": "markdown",
   "id": "117",
   "metadata": {},
   "source": [
    "Problem: Many Students / Practitioners feel uncomfortable with log returns. <br>\n",
    "-> more detailed background on log returns in the next two Lectures (Discrete vs. Continuous Compounding)"
   ]
  },
  {
   "cell_type": "code",
   "execution_count": null,
   "id": "118",
   "metadata": {},
   "outputs": [],
   "source": []
  },
  {
   "cell_type": "markdown",
   "id": "119",
   "metadata": {},
   "source": [
    "## Discrete Compounding"
   ]
  },
  {
   "cell_type": "markdown",
   "id": "120",
   "metadata": {},
   "source": [
    "__Annual Compounding__ -> Interests accrue once a year at the end of the year"
   ]
  },
  {
   "cell_type": "markdown",
   "id": "121",
   "metadata": {},
   "source": [
    "Your Savings Bank offers an interest rate of __8% p.a. (stated rate)__ with __annual compounding__ on your savings (__USD 100__).<br>\n",
    "Calculate the __value__ of your savings account __after one year__ and the corresponding __effective annual interest rate__. "
   ]
  },
  {
   "cell_type": "markdown",
   "id": "122",
   "metadata": {},
   "source": [
    "__-> Interests are calculated and added to your savings account once at the end of each year.__"
   ]
  },
  {
   "cell_type": "code",
   "execution_count": null,
   "id": "123",
   "metadata": {},
   "outputs": [],
   "source": [
    "PV = 100\n",
    "r = 0.08\n",
    "n = 1"
   ]
  },
  {
   "cell_type": "code",
   "execution_count": null,
   "id": "124",
   "metadata": {},
   "outputs": [],
   "source": [
    "100 * 1.08"
   ]
  },
  {
   "cell_type": "code",
   "execution_count": null,
   "id": "125",
   "metadata": {},
   "outputs": [],
   "source": [
    "FV = PV * (1 + r)**n\n",
    "FV"
   ]
  },
  {
   "cell_type": "code",
   "execution_count": null,
   "id": "126",
   "metadata": {},
   "outputs": [],
   "source": [
    "effective_annual_rate = (FV / PV)**(1/n) - 1 \n",
    "effective_annual_rate"
   ]
  },
  {
   "cell_type": "code",
   "execution_count": null,
   "id": "127",
   "metadata": {},
   "outputs": [],
   "source": []
  },
  {
   "cell_type": "markdown",
   "id": "128",
   "metadata": {},
   "source": [
    "__Quarterly Compounding__ -> Interests accrue once a quarter at the end of the quarter"
   ]
  },
  {
   "cell_type": "markdown",
   "id": "129",
   "metadata": {},
   "source": [
    "Your Savings Bank offers an interest rate of __8% p.a. (stated rate)__ with __quarterly compounding__ on your savings (__USD 100__).<br>\n",
    "Calculate the __value__ of your savings account __after one year__ and the corresponding __effective annual interest rate__. "
   ]
  },
  {
   "cell_type": "markdown",
   "id": "130",
   "metadata": {},
   "source": [
    "__-> Interests are calculated and added to your savings account at the end of each quarter.__"
   ]
  },
  {
   "cell_type": "code",
   "execution_count": null,
   "id": "131",
   "metadata": {},
   "outputs": [],
   "source": [
    "PV = 100\n",
    "r = 0.08\n",
    "n = 1\n",
    "m = 4"
   ]
  },
  {
   "cell_type": "code",
   "execution_count": null,
   "id": "132",
   "metadata": {},
   "outputs": [],
   "source": [
    "100 * 1.02 * 1.02 * 1.02 * 1.02"
   ]
  },
  {
   "cell_type": "code",
   "execution_count": null,
   "id": "133",
   "metadata": {},
   "outputs": [],
   "source": [
    "FV = PV * (1 + r/m)**(n*m)\n",
    "FV"
   ]
  },
  {
   "cell_type": "code",
   "execution_count": null,
   "id": "134",
   "metadata": {},
   "outputs": [],
   "source": [
    "effective_annual_rate = (FV / PV)**(1/n) - 1 \n",
    "effective_annual_rate"
   ]
  },
  {
   "cell_type": "markdown",
   "id": "135",
   "metadata": {},
   "source": [
    "__-> Quarterly compounding is favourable (everything else equal) as we earn compound interest (interest on interest).__"
   ]
  },
  {
   "cell_type": "code",
   "execution_count": null,
   "id": "136",
   "metadata": {},
   "outputs": [],
   "source": []
  },
  {
   "cell_type": "markdown",
   "id": "137",
   "metadata": {},
   "source": [
    "__Monthly Compounding__ -> Interests accrue once a month at the end of the month"
   ]
  },
  {
   "cell_type": "markdown",
   "id": "138",
   "metadata": {},
   "source": [
    "Your Savings Bank offers an interest rate of __8% p.a. (stated rate)__ with __monthly compounding__ on your savings (__USD 100__).<br>\n",
    "Calculate the __value__ of your savings account __after one year__ and the corresponding __effective annual interest rate__. "
   ]
  },
  {
   "cell_type": "markdown",
   "id": "139",
   "metadata": {},
   "source": [
    "__-> Interests are calculated and added to your savings account at the end of each month.__"
   ]
  },
  {
   "cell_type": "code",
   "execution_count": null,
   "id": "140",
   "metadata": {},
   "outputs": [],
   "source": [
    "PV = 100\n",
    "r = 0.08\n",
    "n = 1\n",
    "m = 12"
   ]
  },
  {
   "cell_type": "code",
   "execution_count": null,
   "id": "141",
   "metadata": {},
   "outputs": [],
   "source": [
    "FV = PV * (1 + r/m)**(n*m)\n",
    "FV"
   ]
  },
  {
   "cell_type": "code",
   "execution_count": null,
   "id": "142",
   "metadata": {},
   "outputs": [],
   "source": [
    "effective_annual_rate = ((FV / PV)**(1/n) - 1) \n",
    "effective_annual_rate"
   ]
  },
  {
   "cell_type": "code",
   "execution_count": null,
   "id": "143",
   "metadata": {},
   "outputs": [],
   "source": []
  },
  {
   "cell_type": "markdown",
   "id": "144",
   "metadata": {},
   "source": [
    "## Continuous Compounding "
   ]
  },
  {
   "cell_type": "code",
   "execution_count": null,
   "id": "145",
   "metadata": {},
   "outputs": [],
   "source": [
    "import numpy as np"
   ]
  },
  {
   "cell_type": "markdown",
   "id": "146",
   "metadata": {},
   "source": [
    "Your Savings Bank offers an interest rate of __8% p.a. (stated rate)__ with __continuous compounding__ on your savings (__USD 100__).<br>\n",
    "Calculate the __value__ of your savings account __after one year__ and the corresponding __effective annual interest rate__. "
   ]
  },
  {
   "cell_type": "markdown",
   "id": "147",
   "metadata": {},
   "source": [
    "__-> Interests are calculated and added to your savings account continuously (infinitely large number of compounding events).__ -> continuous exponential growth that can be observed in nature"
   ]
  },
  {
   "cell_type": "code",
   "execution_count": null,
   "id": "148",
   "metadata": {},
   "outputs": [],
   "source": [
    "PV = 100\n",
    "r = 0.08\n",
    "n = 1\n",
    "m = 100000 # approx.infinity"
   ]
  },
  {
   "cell_type": "code",
   "execution_count": null,
   "id": "149",
   "metadata": {},
   "outputs": [],
   "source": [
    "FV = PV * (1 + r/m)**(n*m) # approx. with large m\n",
    "FV"
   ]
  },
  {
   "cell_type": "code",
   "execution_count": null,
   "id": "150",
   "metadata": {},
   "outputs": [],
   "source": [
    "FV = PV * np.exp(n * r) # exact math with e (euler number)\n",
    "FV"
   ]
  },
  {
   "cell_type": "code",
   "execution_count": null,
   "id": "151",
   "metadata": {},
   "outputs": [],
   "source": [
    "euler = np.exp(1)\n",
    "euler"
   ]
  },
  {
   "cell_type": "code",
   "execution_count": null,
   "id": "152",
   "metadata": {},
   "outputs": [],
   "source": [
    "PV * euler**(n * r)"
   ]
  },
  {
   "cell_type": "code",
   "execution_count": null,
   "id": "153",
   "metadata": {},
   "outputs": [],
   "source": [
    "effective_annual_rate = ((FV / PV)**(1/n) - 1) # Alt 1\n",
    "effective_annual_rate"
   ]
  },
  {
   "cell_type": "code",
   "execution_count": null,
   "id": "154",
   "metadata": {},
   "outputs": [],
   "source": [
    "effective_annual_rate = np.exp(r) - 1 # Alt 2\n",
    "effective_annual_rate"
   ]
  },
  {
   "cell_type": "markdown",
   "id": "155",
   "metadata": {},
   "source": [
    "Let´s assume we only observe PV and FV, how to calculate the stated rate/continuously compounded rate of 8%?"
   ]
  },
  {
   "cell_type": "code",
   "execution_count": null,
   "id": "156",
   "metadata": {},
   "outputs": [],
   "source": [
    "r = np.log(FV / PV) # inverse calculation -> use log (Alt 1)\n",
    "r"
   ]
  },
  {
   "cell_type": "code",
   "execution_count": null,
   "id": "157",
   "metadata": {},
   "outputs": [],
   "source": [
    "r = np.log(effective_annual_rate + 1) # inverse calculation -> use log (Alt 2)\n",
    "r"
   ]
  },
  {
   "cell_type": "markdown",
   "id": "158",
   "metadata": {},
   "source": [
    "__Take Home: Prices of traded Financial Instruments change (approx.) continuously. <br>\n",
    "-> Intuitively, it makes a lot of sense to work with log returns.__ "
   ]
  },
  {
   "cell_type": "code",
   "execution_count": null,
   "id": "159",
   "metadata": {},
   "outputs": [],
   "source": []
  },
  {
   "cell_type": "markdown",
   "id": "160",
   "metadata": {},
   "source": [
    "## Log Returns"
   ]
  },
  {
   "cell_type": "code",
   "execution_count": null,
   "id": "161",
   "metadata": {},
   "outputs": [],
   "source": [
    "import pandas as pd\n",
    "import numpy as np\n",
    "pd.options.display.float_format = '{:.6f}'.format"
   ]
  },
  {
   "cell_type": "code",
   "execution_count": null,
   "id": "162",
   "metadata": {},
   "outputs": [],
   "source": [
    "msft = pd.read_csv(\"msft.csv\", index_col = \"Date\", parse_dates = [\"Date\"])\n",
    "msft"
   ]
  },
  {
   "cell_type": "code",
   "execution_count": null,
   "id": "163",
   "metadata": {},
   "outputs": [],
   "source": [
    "msft[\"log_ret\"] = np.log(msft.Price / msft.Price.shift()) # daily log returns"
   ]
  },
  {
   "cell_type": "code",
   "execution_count": null,
   "id": "164",
   "metadata": {},
   "outputs": [],
   "source": [
    "msft"
   ]
  },
  {
   "cell_type": "code",
   "execution_count": null,
   "id": "165",
   "metadata": {},
   "outputs": [],
   "source": [
    "msft.describe()"
   ]
  },
  {
   "cell_type": "code",
   "execution_count": null,
   "id": "166",
   "metadata": {},
   "outputs": [],
   "source": [
    "mu = msft.log_ret.mean() # mean log return -> Reward\n",
    "mu"
   ]
  },
  {
   "cell_type": "code",
   "execution_count": null,
   "id": "167",
   "metadata": {},
   "outputs": [],
   "source": [
    "sigma = msft.log_ret.std() # standard deviation of log returns -> Risk/Volatility\n",
    "sigma"
   ]
  },
  {
   "cell_type": "code",
   "execution_count": null,
   "id": "168",
   "metadata": {},
   "outputs": [],
   "source": []
  },
  {
   "cell_type": "markdown",
   "id": "169",
   "metadata": {},
   "source": [
    "## Simple Returns vs Log Returns ( Part 1)"
   ]
  },
  {
   "cell_type": "code",
   "execution_count": null,
   "id": "170",
   "metadata": {},
   "outputs": [],
   "source": [
    "import pandas as pd\n",
    "import numpy as np\n",
    "pd.options.display.float_format = '{:.6f}'.format"
   ]
  },
  {
   "cell_type": "code",
   "execution_count": null,
   "id": "171",
   "metadata": {},
   "outputs": [],
   "source": [
    "df = pd.DataFrame(data = [100, 50, 90], columns = [\"Price\"])\n",
    "df"
   ]
  },
  {
   "cell_type": "code",
   "execution_count": null,
   "id": "172",
   "metadata": {},
   "outputs": [],
   "source": [
    "df[\"SR\"] = df.Price.pct_change() # simple returns"
   ]
  },
  {
   "cell_type": "code",
   "execution_count": null,
   "id": "173",
   "metadata": {},
   "outputs": [],
   "source": [
    "df[\"LR\"] = np.log(df.Price / df.Price.shift()) # log returns"
   ]
  },
  {
   "cell_type": "code",
   "execution_count": null,
   "id": "174",
   "metadata": {},
   "outputs": [],
   "source": [
    "df"
   ]
  },
  {
   "cell_type": "code",
   "execution_count": null,
   "id": "175",
   "metadata": {},
   "outputs": [],
   "source": [
    "periods = df.SR.count()\n",
    "periods"
   ]
  },
  {
   "cell_type": "markdown",
   "id": "176",
   "metadata": {},
   "source": [
    "__The arithmetic mean of simple returns can be misleading!__"
   ]
  },
  {
   "cell_type": "code",
   "execution_count": null,
   "id": "177",
   "metadata": {},
   "outputs": [],
   "source": [
    "mean_sr = df.SR.mean()\n",
    "mean_sr"
   ]
  },
  {
   "cell_type": "code",
   "execution_count": null,
   "id": "178",
   "metadata": {},
   "outputs": [],
   "source": [
    "100 * (1 + mean_sr)**periods # wrong!!!"
   ]
  },
  {
   "cell_type": "markdown",
   "id": "179",
   "metadata": {},
   "source": [
    "__We should use Compound Simple Returns / Geometric Mean, or even better...__"
   ]
  },
  {
   "cell_type": "code",
   "execution_count": null,
   "id": "180",
   "metadata": {},
   "outputs": [],
   "source": [
    "geo_mean = (1 + df.SR).prod()**(1 / periods) - 1\n",
    "geo_mean"
   ]
  },
  {
   "cell_type": "code",
   "execution_count": null,
   "id": "181",
   "metadata": {},
   "outputs": [],
   "source": [
    "100 * (1 + geo_mean)**periods # correct!!!"
   ]
  },
  {
   "cell_type": "markdown",
   "id": "182",
   "metadata": {},
   "source": [
    "__...Log Returns which are additive over time!__"
   ]
  },
  {
   "cell_type": "code",
   "execution_count": null,
   "id": "183",
   "metadata": {},
   "outputs": [],
   "source": [
    "sum_lr = df.LR.sum()\n",
    "sum_lr"
   ]
  },
  {
   "cell_type": "code",
   "execution_count": null,
   "id": "184",
   "metadata": {},
   "outputs": [],
   "source": [
    "100 * np.exp(sum_lr) # correct!!!"
   ]
  },
  {
   "cell_type": "code",
   "execution_count": null,
   "id": "185",
   "metadata": {},
   "outputs": [],
   "source": [
    "mean_lr = df.LR.mean()\n",
    "mean_lr"
   ]
  },
  {
   "cell_type": "code",
   "execution_count": null,
   "id": "186",
   "metadata": {},
   "outputs": [],
   "source": [
    "100 * np.exp(mean_lr * periods) # correct!!!"
   ]
  },
  {
   "cell_type": "markdown",
   "id": "187",
   "metadata": {},
   "source": [
    "__Take Home: Log Returns are additive over time. Simple Returns are not additive over time (but they can be multiplied/compounded)__"
   ]
  },
  {
   "cell_type": "code",
   "execution_count": null,
   "id": "188",
   "metadata": {},
   "outputs": [],
   "source": []
  },
  {
   "cell_type": "markdown",
   "id": "189",
   "metadata": {},
   "source": [
    "## Simple Returns vs. Log Returns (Part 2)"
   ]
  },
  {
   "cell_type": "code",
   "execution_count": null,
   "id": "190",
   "metadata": {},
   "outputs": [],
   "source": [
    "import pandas as pd\n",
    "import numpy as np\n",
    "pd.options.display.float_format = '{:.6f}'.format"
   ]
  },
  {
   "cell_type": "code",
   "execution_count": null,
   "id": "191",
   "metadata": {},
   "outputs": [],
   "source": [
    "msft = pd.read_csv(\"msft.csv\", index_col = \"Date\", parse_dates = [\"Date\"])"
   ]
  },
  {
   "cell_type": "code",
   "execution_count": null,
   "id": "192",
   "metadata": {},
   "outputs": [],
   "source": [
    "msft[\"log_ret\"] = np.log(msft.Price / msft.Price.shift())"
   ]
  },
  {
   "cell_type": "code",
   "execution_count": null,
   "id": "193",
   "metadata": {},
   "outputs": [],
   "source": [
    "msft"
   ]
  },
  {
   "cell_type": "markdown",
   "id": "194",
   "metadata": {},
   "source": [
    "__Investment Multiple__"
   ]
  },
  {
   "cell_type": "code",
   "execution_count": null,
   "id": "195",
   "metadata": {},
   "outputs": [],
   "source": [
    "msft.Returns.add(1).prod() # compounding simple returns (\"compound returns\")"
   ]
  },
  {
   "cell_type": "code",
   "execution_count": null,
   "id": "196",
   "metadata": {},
   "outputs": [],
   "source": [
    "np.exp(msft.log_ret.sum())  # adding log returns (\"cumulative returns\")"
   ]
  },
  {
   "cell_type": "markdown",
   "id": "197",
   "metadata": {},
   "source": [
    "__Normalized Prices with Base 1__"
   ]
  },
  {
   "cell_type": "code",
   "execution_count": null,
   "id": "198",
   "metadata": {},
   "outputs": [],
   "source": [
    "msft.Returns.add(1).cumprod() # compounding simple returns (\"compound returns\")"
   ]
  },
  {
   "cell_type": "code",
   "execution_count": null,
   "id": "199",
   "metadata": {},
   "outputs": [],
   "source": [
    "np.exp(msft.log_ret.cumsum()) # adding log returns (\"cumulative returns\")"
   ]
  },
  {
   "cell_type": "code",
   "execution_count": null,
   "id": "200",
   "metadata": {},
   "outputs": [],
   "source": [
    "msft.log_ret.cumsum().apply(np.exp) # adding log returns (\"cumulative returns\")"
   ]
  },
  {
   "cell_type": "markdown",
   "id": "201",
   "metadata": {},
   "source": [
    "__CAGR__"
   ]
  },
  {
   "cell_type": "code",
   "execution_count": null,
   "id": "202",
   "metadata": {},
   "outputs": [],
   "source": [
    "(msft.Price.iloc[-1]/msft.Price.iloc[0])**(1/((msft.index[-1] - msft.index[0]).days / 365.25)) - 1"
   ]
  },
  {
   "cell_type": "code",
   "execution_count": null,
   "id": "203",
   "metadata": {},
   "outputs": [],
   "source": [
    "trading_days_year = msft.Returns.count() / ((msft.index[-1] - msft.index[0]).days / 365.25)\n",
    "trading_days_year"
   ]
  },
  {
   "cell_type": "code",
   "execution_count": null,
   "id": "204",
   "metadata": {},
   "outputs": [],
   "source": [
    "np.exp(msft.log_ret.mean() * trading_days_year) - 1 # correct with mean of daily log returns!"
   ]
  },
  {
   "cell_type": "code",
   "execution_count": null,
   "id": "205",
   "metadata": {},
   "outputs": [],
   "source": [
    "msft.Returns.mean() * trading_days_year # incorrect with mean of daily simple returns!"
   ]
  },
  {
   "cell_type": "code",
   "execution_count": null,
   "id": "206",
   "metadata": {},
   "outputs": [],
   "source": [
    "np.exp(msft.log_ret.mean() * 252) - 1 # good approximation (for us stocks)"
   ]
  },
  {
   "cell_type": "code",
   "execution_count": null,
   "id": "207",
   "metadata": {},
   "outputs": [],
   "source": []
  },
  {
   "cell_type": "markdown",
   "id": "208",
   "metadata": {},
   "source": [
    "--------------------------------------------"
   ]
  },
  {
   "cell_type": "markdown",
   "id": "209",
   "metadata": {},
   "source": [
    "__Coding Challenge #4__"
   ]
  },
  {
   "cell_type": "markdown",
   "id": "210",
   "metadata": {},
   "source": [
    "1. Calculate daily log returns for Boeing."
   ]
  },
  {
   "cell_type": "markdown",
   "id": "211",
   "metadata": {},
   "source": [
    "2. Use Boeing´s log returns to calculate \n",
    "- Investment Multiple\n",
    "- CAGR (assuming 252 trading days)\n",
    "- Normalized Prices (Base = 1)"
   ]
  },
  {
   "cell_type": "markdown",
   "id": "212",
   "metadata": {},
   "source": [
    "---------------------------------------------"
   ]
  },
  {
   "cell_type": "code",
   "execution_count": null,
   "id": "213",
   "metadata": {},
   "outputs": [],
   "source": []
  },
  {
   "cell_type": "markdown",
   "id": "214",
   "metadata": {},
   "source": [
    "## Performance Comparison"
   ]
  },
  {
   "cell_type": "markdown",
   "id": "215",
   "metadata": {},
   "source": [
    "__General Rule in Finance/Investing: Higher Risk must be rewarded with higher Returns__."
   ]
  },
  {
   "cell_type": "markdown",
   "id": "216",
   "metadata": {},
   "source": [
    "__Which instrument(s) performed best/worst in the past in terms of risk & return?__"
   ]
  },
  {
   "cell_type": "code",
   "execution_count": null,
   "id": "217",
   "metadata": {},
   "outputs": [],
   "source": [
    "import pandas as pd\n",
    "import numpy as np\n",
    "pd.options.display.float_format = '{:.4f}'.format\n",
    "import matplotlib.pyplot as plt\n",
    "plt.style.use(\"seaborn-v0_8\")"
   ]
  },
  {
   "cell_type": "code",
   "execution_count": null,
   "id": "218",
   "metadata": {},
   "outputs": [],
   "source": [
    "close = pd.read_csv(\"close.csv\", index_col = \"Date\", parse_dates = [\"Date\"])\n",
    "close"
   ]
  },
  {
   "cell_type": "code",
   "execution_count": null,
   "id": "219",
   "metadata": {},
   "outputs": [],
   "source": [
    "close.info()"
   ]
  },
  {
   "cell_type": "code",
   "execution_count": null,
   "id": "220",
   "metadata": {},
   "outputs": [],
   "source": [
    "close.dropna().plot(figsize = (15, 8), fontsize = 13)\n",
    "plt.legend(fontsize = 13)\n",
    "plt.show()"
   ]
  },
  {
   "cell_type": "code",
   "execution_count": null,
   "id": "221",
   "metadata": {},
   "outputs": [],
   "source": [
    "np.log(close / close.shift()).info() # keep NaN"
   ]
  },
  {
   "cell_type": "code",
   "execution_count": null,
   "id": "222",
   "metadata": {},
   "outputs": [],
   "source": [
    "close.apply(lambda x: np.log(x.dropna() / x.dropna().shift())).info() # remove NaN"
   ]
  },
  {
   "cell_type": "code",
   "execution_count": null,
   "id": "223",
   "metadata": {},
   "outputs": [],
   "source": [
    "returns = close.apply(lambda x: np.log(x.dropna() / x.dropna().shift()))\n",
    "returns"
   ]
  },
  {
   "cell_type": "code",
   "execution_count": null,
   "id": "224",
   "metadata": {},
   "outputs": [],
   "source": [
    "returns.info()"
   ]
  },
  {
   "cell_type": "code",
   "execution_count": null,
   "id": "225",
   "metadata": {},
   "outputs": [],
   "source": [
    "returns.describe()"
   ]
  },
  {
   "cell_type": "code",
   "execution_count": null,
   "id": "226",
   "metadata": {},
   "outputs": [],
   "source": [
    "summary = returns.agg([\"mean\", \"std\"]).T\n",
    "summary"
   ]
  },
  {
   "cell_type": "code",
   "execution_count": null,
   "id": "227",
   "metadata": {},
   "outputs": [],
   "source": [
    "summary.columns = [\"Mean\", \"Std\"]\n",
    "summary"
   ]
  },
  {
   "cell_type": "code",
   "execution_count": null,
   "id": "228",
   "metadata": {},
   "outputs": [],
   "source": [
    "summary.plot(kind = \"scatter\", x = \"Std\", y = \"Mean\", figsize = (15,12), s = 50, fontsize = 15)\n",
    "for i in summary.index:\n",
    "    plt.annotate(i, xy=(summary.loc[i, \"Std\"]+0.00005, summary.loc[i, \"Mean\"]+0.00005), size = 15)\n",
    "plt.xlabel(\"Risk (std)\", fontsize = 15)\n",
    "plt.ylabel(\"Mean Return\", fontsize = 15)\n",
    "plt.title(\"Mean-Variance Analysis\", fontsize = 20)\n",
    "plt.show()"
   ]
  },
  {
   "cell_type": "markdown",
   "id": "229",
   "metadata": {},
   "source": [
    "-> There is __no clear \"best-performer\"__ among [\"EURUSD=X\", \"GC=F\", \"^DJI\", \"MSFT\", \"BTC-USD\"] (without further analysis). __Higher risk__ is getting rewarded with __higher returns__. __BA underperformed__."
   ]
  },
  {
   "cell_type": "code",
   "execution_count": null,
   "id": "230",
   "metadata": {},
   "outputs": [],
   "source": []
  },
  {
   "cell_type": "markdown",
   "id": "231",
   "metadata": {},
   "source": [
    "__Take Home: Mean-Variance Analysis has one major shortcoming: It assumes that financial returns follow a Normal Distribution. That´s (typically) not True.<br> -> Standard Deviation of Returns underestimates the true/full risk of an Investment as it fails to measure \"Tail Risks\".__ "
   ]
  },
  {
   "cell_type": "code",
   "execution_count": null,
   "id": "232",
   "metadata": {},
   "outputs": [],
   "source": []
  },
  {
   "cell_type": "markdown",
   "id": "233",
   "metadata": {},
   "source": [
    "## Price Return vs. Total Return (Equities)"
   ]
  },
  {
   "cell_type": "markdown",
   "id": "234",
   "metadata": {},
   "source": [
    "Recap:"
   ]
  },
  {
   "cell_type": "markdown",
   "id": "235",
   "metadata": {},
   "source": [
    "__Total Return = Price Return + Dividend Yield__ (good approx.: __Adjusted Close Price__)"
   ]
  },
  {
   "cell_type": "code",
   "execution_count": null,
   "id": "236",
   "metadata": {},
   "outputs": [],
   "source": [
    "close"
   ]
  },
  {
   "cell_type": "code",
   "execution_count": null,
   "id": "237",
   "metadata": {},
   "outputs": [],
   "source": [
    "df = pd.read_csv(\"multi_assets.csv\", header = [0, 1], index_col = 0, parse_dates = [0])[\"Adj Close\"]\n",
    "df"
   ]
  },
  {
   "cell_type": "code",
   "execution_count": null,
   "id": "238",
   "metadata": {},
   "outputs": [],
   "source": [
    "close[\"BA_TR\"] = df.BA\n",
    "close[\"MSFT_TR\"] = df.MSFT"
   ]
  },
  {
   "cell_type": "code",
   "execution_count": null,
   "id": "239",
   "metadata": {},
   "outputs": [],
   "source": [
    "close"
   ]
  },
  {
   "cell_type": "code",
   "execution_count": null,
   "id": "240",
   "metadata": {},
   "outputs": [],
   "source": [
    "returns = close.apply(lambda x: np.log(x.dropna() / x.dropna().shift()))\n",
    "returns"
   ]
  },
  {
   "cell_type": "code",
   "execution_count": null,
   "id": "241",
   "metadata": {},
   "outputs": [],
   "source": [
    "summary = returns.agg([\"mean\", \"std\"]).T\n",
    "summary"
   ]
  },
  {
   "cell_type": "code",
   "execution_count": null,
   "id": "242",
   "metadata": {},
   "outputs": [],
   "source": [
    "summary.columns = [\"Mean\", \"Std\"]\n",
    "summary"
   ]
  },
  {
   "cell_type": "code",
   "execution_count": null,
   "id": "243",
   "metadata": {},
   "outputs": [],
   "source": [
    "summary.plot(kind = \"scatter\", x = \"Std\", y = \"Mean\", figsize = (15,12), s = 50, fontsize = 15)\n",
    "for i in summary.index:\n",
    "    plt.annotate(i, xy=(summary.loc[i, \"Std\"]+0.00005, summary.loc[i, \"Mean\"]+0.00005), size = 15)\n",
    "plt.xlabel(\"Risk (std)\", fontsize = 15)\n",
    "plt.ylabel(\"Mean Return\", fontsize = 15)\n",
    "plt.title(\"Mean-Variance Analysis\", fontsize = 20)\n",
    "plt.show()"
   ]
  },
  {
   "cell_type": "markdown",
   "id": "244",
   "metadata": {},
   "source": [
    "-> __Don´t omit Dividends!__"
   ]
  },
  {
   "cell_type": "code",
   "execution_count": null,
   "id": "245",
   "metadata": {},
   "outputs": [],
   "source": []
  },
  {
   "cell_type": "markdown",
   "id": "246",
   "metadata": {},
   "source": [
    "## Normality of Financial Returns "
   ]
  },
  {
   "cell_type": "code",
   "execution_count": null,
   "id": "247",
   "metadata": {},
   "outputs": [],
   "source": [
    "import pandas as pd\n",
    "import numpy as np\n",
    "pd.options.display.float_format = '{:.4f}'.format\n",
    "import matplotlib.pyplot as plt\n",
    "plt.style.use(\"seaborn-v0_8\")"
   ]
  },
  {
   "cell_type": "code",
   "execution_count": null,
   "id": "248",
   "metadata": {},
   "outputs": [],
   "source": [
    "msft = pd.read_csv(\"msft.csv\", index_col = \"Date\", parse_dates = [\"Date\"])\n",
    "msft"
   ]
  },
  {
   "cell_type": "code",
   "execution_count": null,
   "id": "249",
   "metadata": {},
   "outputs": [],
   "source": [
    "msft[\"log_ret\"] = np.log(msft.Price / msft.Price.shift()) \n",
    "msft"
   ]
  },
  {
   "cell_type": "code",
   "execution_count": null,
   "id": "250",
   "metadata": {},
   "outputs": [],
   "source": [
    "msft.describe()"
   ]
  },
  {
   "cell_type": "code",
   "execution_count": null,
   "id": "251",
   "metadata": {},
   "outputs": [],
   "source": [
    "msft.log_ret.plot(kind = \"hist\", figsize = (15 ,8), bins = 100, fontsize = 15, density = False) # Frequency Distribution of log returns\n",
    "plt.xlabel(\"Daily Returns\", fontsize = 15)\n",
    "plt.ylabel(\"Frequency\", fontsize = 15)\n",
    "plt.title(\"Frequency Distribution of Returns\", fontsize = 20)\n",
    "plt.show()"
   ]
  },
  {
   "cell_type": "markdown",
   "id": "252",
   "metadata": {},
   "source": [
    "__Do MSFT Returns follow a Normal Distribution?__ <br><br>\n",
    "A normally distributed random variable can be fully described by its \n",
    "- mean\n",
    "- standard deviation"
   ]
  },
  {
   "cell_type": "markdown",
   "id": "253",
   "metadata": {},
   "source": [
    "Higher Central Moments are zero:\n",
    "- Skew = 0 (measures symmetrie around the mean)\n",
    "- (Excess) Kurtosis = 0 (positve excess Kurtosis -> more observations in the \"tails\")"
   ]
  },
  {
   "cell_type": "code",
   "execution_count": null,
   "id": "254",
   "metadata": {},
   "outputs": [],
   "source": [
    "mu = msft.log_ret.mean()\n",
    "mu"
   ]
  },
  {
   "cell_type": "code",
   "execution_count": null,
   "id": "255",
   "metadata": {},
   "outputs": [],
   "source": [
    "sigma = msft.log_ret.std()\n",
    "sigma"
   ]
  },
  {
   "cell_type": "code",
   "execution_count": null,
   "id": "256",
   "metadata": {},
   "outputs": [],
   "source": [
    "import scipy.stats as stats"
   ]
  },
  {
   "cell_type": "code",
   "execution_count": null,
   "id": "257",
   "metadata": {},
   "outputs": [],
   "source": [
    "stats.skew(msft.log_ret.dropna()) # in a Normal Distribution: skew == 0"
   ]
  },
  {
   "cell_type": "code",
   "execution_count": null,
   "id": "258",
   "metadata": {},
   "outputs": [],
   "source": [
    "stats.kurtosis(msft.log_ret.dropna(), fisher = True) # in a Normal Distribution: (fisher) kurtosis == 0"
   ]
  },
  {
   "cell_type": "markdown",
   "id": "259",
   "metadata": {},
   "source": [
    "__-> MSFT Returns exhibit \"Fat Tails\" (extreme positive/negative outcomes).__"
   ]
  },
  {
   "cell_type": "code",
   "execution_count": null,
   "id": "260",
   "metadata": {},
   "outputs": [],
   "source": [
    "x = np.linspace(msft.log_ret.min(), msft.log_ret.max(), 10000)\n",
    "x"
   ]
  },
  {
   "cell_type": "code",
   "execution_count": null,
   "id": "261",
   "metadata": {},
   "outputs": [],
   "source": [
    "y = stats.norm.pdf(x, loc = mu, scale = sigma) # creating y values a for normal distribution with mu, sigma\n",
    "y"
   ]
  },
  {
   "cell_type": "code",
   "execution_count": null,
   "id": "262",
   "metadata": {},
   "outputs": [],
   "source": [
    "plt.figure(figsize = (20, 8))\n",
    "plt.hist(msft.log_ret, bins = 500, density = True, label = \"Frequency Distribution of daily Returns (MSFT)\")\n",
    "plt.plot(x, y, linewidth = 3, color = \"red\", label = \"Normal Distribution\")\n",
    "plt.title(\"Normal Distribution\", fontsize = 20)\n",
    "plt.xlabel(\"Daily Returns\", fontsize = 15)\n",
    "plt.ylabel(\"pdf\", fontsize = 15)\n",
    "plt.legend(fontsize = 15)\n",
    "plt.show()"
   ]
  },
  {
   "cell_type": "markdown",
   "id": "263",
   "metadata": {},
   "source": [
    "__-> MSFT Returns exhibit \"Fat Tails\" (extreme positive/negative outcomes).__ "
   ]
  },
  {
   "cell_type": "code",
   "execution_count": null,
   "id": "264",
   "metadata": {},
   "outputs": [],
   "source": []
  },
  {
   "cell_type": "markdown",
   "id": "265",
   "metadata": {},
   "source": [
    "__Testing the normality of MSFT Returns based on the sample (Oct 2014 to May 2021):__ <br>\n",
    "__-> Hypothesis Test with H0 Hypothesis: MSFT Returns (full population) follow a normal Distribution.__ "
   ]
  },
  {
   "cell_type": "code",
   "execution_count": null,
   "id": "266",
   "metadata": {},
   "outputs": [],
   "source": [
    "z_stat, p_value = stats.normaltest(msft.log_ret.dropna())"
   ]
  },
  {
   "cell_type": "code",
   "execution_count": null,
   "id": "267",
   "metadata": {},
   "outputs": [],
   "source": [
    "z_stat # high values -> reject H0"
   ]
  },
  {
   "cell_type": "code",
   "execution_count": null,
   "id": "268",
   "metadata": {},
   "outputs": [],
   "source": [
    "p_value # low values (close to zero) -> reject H0"
   ]
  },
  {
   "cell_type": "code",
   "execution_count": null,
   "id": "269",
   "metadata": {},
   "outputs": [],
   "source": [
    "round(p_value, 10)"
   ]
  },
  {
   "cell_type": "markdown",
   "id": "270",
   "metadata": {},
   "source": [
    "__-> Assuming that MSFT Returns (generally) follow a Normal Distribution, there is 0% probability that we get that extreme outcomes in a sample.__ "
   ]
  },
  {
   "cell_type": "markdown",
   "id": "271",
   "metadata": {},
   "source": [
    "__Take Home: MSFT Returns don´t follow a Normal Distribution as they exhibit \"Fat Tails\". Extreme Events/Outcomes are not reflected in the Mean-Variance Analysis. The Standard Deviation of Returns underestimates true Risk.__"
   ]
  },
  {
   "cell_type": "code",
   "execution_count": null,
   "id": "272",
   "metadata": {},
   "outputs": [],
   "source": []
  },
  {
   "cell_type": "markdown",
   "id": "273",
   "metadata": {},
   "source": [
    "## Annualizing Mean Return and Std of Returns"
   ]
  },
  {
   "cell_type": "code",
   "execution_count": null,
   "id": "274",
   "metadata": {},
   "outputs": [],
   "source": [
    "import pandas as pd\n",
    "import numpy as np\n",
    "import matplotlib.pyplot as plt\n",
    "pd.options.display.float_format = '{:.6f}'.format\n",
    "plt.style.use(\"seaborn-v0_8\")"
   ]
  },
  {
   "cell_type": "code",
   "execution_count": null,
   "id": "275",
   "metadata": {},
   "outputs": [],
   "source": [
    "msft = pd.read_csv(\"msft.csv\", index_col = \"Date\", parse_dates = [\"Date\"], usecols = [\"Date\", \"Price\"])"
   ]
  },
  {
   "cell_type": "code",
   "execution_count": null,
   "id": "276",
   "metadata": {},
   "outputs": [],
   "source": [
    "msft"
   ]
  },
  {
   "cell_type": "code",
   "execution_count": null,
   "id": "277",
   "metadata": {},
   "outputs": [],
   "source": [
    "msft[\"log_ret\"] = np.log(msft.Price / msft.Price.shift())"
   ]
  },
  {
   "cell_type": "code",
   "execution_count": null,
   "id": "278",
   "metadata": {},
   "outputs": [],
   "source": [
    "msft.log_ret.agg([\"mean\", \"std\"]) # mean and std based on daily returns"
   ]
  },
  {
   "cell_type": "code",
   "execution_count": null,
   "id": "279",
   "metadata": {},
   "outputs": [],
   "source": [
    "ann_mu = msft.log_ret.mean() * 252 \n",
    "ann_mu"
   ]
  },
  {
   "cell_type": "code",
   "execution_count": null,
   "id": "280",
   "metadata": {},
   "outputs": [],
   "source": [
    "cagr = np.exp(ann_mu) - 1 # don´t mix up with cagr\n",
    "cagr"
   ]
  },
  {
   "cell_type": "code",
   "execution_count": null,
   "id": "281",
   "metadata": {},
   "outputs": [],
   "source": [
    "ann_std = msft.log_ret.std() * np.sqrt(252) \n",
    "ann_std"
   ]
  },
  {
   "cell_type": "code",
   "execution_count": null,
   "id": "282",
   "metadata": {},
   "outputs": [],
   "source": [
    "ann_std = np.sqrt(msft.log_ret.var() * 252) # annualized std of returns (Alt 2)\n",
    "ann_std"
   ]
  },
  {
   "cell_type": "code",
   "execution_count": null,
   "id": "283",
   "metadata": {},
   "outputs": [],
   "source": []
  },
  {
   "cell_type": "markdown",
   "id": "284",
   "metadata": {},
   "source": [
    "## Resampling / Smoothing"
   ]
  },
  {
   "cell_type": "code",
   "execution_count": null,
   "id": "285",
   "metadata": {},
   "outputs": [],
   "source": [
    "msft.Price.plot(figsize = (12, 8))\n",
    "plt.legend()\n",
    "plt.show()"
   ]
  },
  {
   "cell_type": "code",
   "execution_count": null,
   "id": "286",
   "metadata": {},
   "outputs": [],
   "source": [
    "monthly = msft.Price.resample(\"ME\").last() ## resample to monthly (month end)\n",
    "monthly"
   ]
  },
  {
   "cell_type": "code",
   "execution_count": null,
   "id": "287",
   "metadata": {},
   "outputs": [],
   "source": [
    "monthly.plot(figsize = (12, 8))\n",
    "plt.legend()\n",
    "plt.show()"
   ]
  },
  {
   "cell_type": "markdown",
   "id": "288",
   "metadata": {},
   "source": [
    "__How will the Mean-Variance Analysis change with smoothed data?__"
   ]
  },
  {
   "cell_type": "code",
   "execution_count": null,
   "id": "289",
   "metadata": {},
   "outputs": [],
   "source": [
    "freqs = [\"YE\", \"QE\", \"ME\", \"W-FRI\", \"D\"]\n",
    "periods = [1, 4, 12, 52, 252]\n",
    "ann_mean = []\n",
    "ann_std = []"
   ]
  },
  {
   "cell_type": "code",
   "execution_count": null,
   "id": "290",
   "metadata": {},
   "outputs": [],
   "source": [
    "for i in range(5):\n",
    "    resamp = msft.Price.resample(freqs[i]).last() # resample\n",
    "    ann_mean.append(np.log(resamp / resamp.shift()).mean() * periods[i]) # calc. annualized mean\n",
    "    ann_std.append(np.log(resamp / resamp.shift()).std() * np.sqrt(periods[i])) # calc. annualized std"
   ]
  },
  {
   "cell_type": "code",
   "execution_count": null,
   "id": "291",
   "metadata": {},
   "outputs": [],
   "source": [
    "ann_mean"
   ]
  },
  {
   "cell_type": "code",
   "execution_count": null,
   "id": "292",
   "metadata": {},
   "outputs": [],
   "source": [
    "summary = pd.DataFrame(data = {\"ann_std\":ann_std, \"ann_mean\":ann_mean}, index = freqs)\n",
    "summary"
   ]
  },
  {
   "cell_type": "code",
   "execution_count": null,
   "id": "293",
   "metadata": {},
   "outputs": [],
   "source": [
    "summary.plot(kind = \"scatter\", x = \"ann_std\", y = \"ann_mean\", figsize = (15,12), s = 50, fontsize = 15)\n",
    "for i in summary.index:\n",
    "    plt.annotate(i, xy=(summary.loc[i, \"ann_std\"]+0.001, summary.loc[i, \"ann_mean\"]+0.001), size = 15)\n",
    "plt.ylim(0, 0.3)\n",
    "plt.xlabel(\"ann. Risk(std)\", fontsize = 15)\n",
    "plt.ylabel(\"ann. Return\", fontsize = 15)\n",
    "plt.title(\"Risk/Return\", fontsize = 20)\n",
    "plt.show()"
   ]
  },
  {
   "cell_type": "markdown",
   "id": "294",
   "metadata": {},
   "source": [
    "__-> Smoothing reduces (observed) Risk__. "
   ]
  },
  {
   "cell_type": "markdown",
   "id": "295",
   "metadata": {},
   "source": [
    "Dubious practices:\n",
    "- Managing (Manipulating) Performance in Performance Reportings.\n",
    "- Comparing assets with different granularity and pricing mechanisms -> e.g. non-listed (alternative assets) vs. listed assets \n",
    "- Adjusting granularity to investor´s (average) holding period -> Volatility is still there."
   ]
  },
  {
   "cell_type": "code",
   "execution_count": null,
   "id": "296",
   "metadata": {},
   "outputs": [],
   "source": []
  },
  {
   "cell_type": "markdown",
   "id": "297",
   "metadata": {},
   "source": [
    "## Rolling Statistics"
   ]
  },
  {
   "cell_type": "markdown",
   "id": "298",
   "metadata": {},
   "source": [
    "__(Another) general Rule in Finance/Investing: Past performance is not an indicator of future performance__."
   ]
  },
  {
   "cell_type": "code",
   "execution_count": null,
   "id": "299",
   "metadata": {},
   "outputs": [],
   "source": [
    "msft"
   ]
  },
  {
   "cell_type": "code",
   "execution_count": null,
   "id": "300",
   "metadata": {},
   "outputs": [],
   "source": [
    "ann_mu = msft.log_ret.mean() * 252 # annualized mean return\n",
    "ann_mu"
   ]
  },
  {
   "cell_type": "code",
   "execution_count": null,
   "id": "301",
   "metadata": {},
   "outputs": [],
   "source": [
    "ann_std = msft.log_ret.std() * np.sqrt(252) # annualized std of returns (Alt 1)\n",
    "ann_std"
   ]
  },
  {
   "cell_type": "markdown",
   "id": "302",
   "metadata": {},
   "source": [
    "__Are Return and Risk constant over time? No, of course not! They change over time.__"
   ]
  },
  {
   "cell_type": "markdown",
   "id": "303",
   "metadata": {},
   "source": [
    "__Let´s measure/quantify this with rolling statistics!__"
   ]
  },
  {
   "cell_type": "code",
   "execution_count": null,
   "id": "304",
   "metadata": {},
   "outputs": [],
   "source": [
    "window = 252 # rolling window 252 trading days (~ 1 Year)"
   ]
  },
  {
   "cell_type": "code",
   "execution_count": null,
   "id": "305",
   "metadata": {},
   "outputs": [],
   "source": [
    "msft.log_ret.rolling(window = 252)"
   ]
  },
  {
   "cell_type": "code",
   "execution_count": null,
   "id": "306",
   "metadata": {},
   "outputs": [],
   "source": [
    "msft.log_ret.rolling(window = 252).sum() # Alt 1"
   ]
  },
  {
   "cell_type": "code",
   "execution_count": null,
   "id": "307",
   "metadata": {},
   "outputs": [],
   "source": [
    "roll_mean = msft.log_ret.rolling(window = 252).mean() * 252 # Alt 2\n",
    "roll_mean"
   ]
  },
  {
   "cell_type": "code",
   "execution_count": null,
   "id": "308",
   "metadata": {},
   "outputs": [],
   "source": [
    "roll_mean.iloc[250:]"
   ]
  },
  {
   "cell_type": "code",
   "execution_count": null,
   "id": "309",
   "metadata": {},
   "outputs": [],
   "source": [
    "roll_mean.plot(figsize = (12, 8))\n",
    "plt.show()"
   ]
  },
  {
   "cell_type": "code",
   "execution_count": null,
   "id": "310",
   "metadata": {},
   "outputs": [],
   "source": [
    "roll_std = msft.log_ret.rolling(window = 252).std() * np.sqrt(252)\n",
    "roll_std"
   ]
  },
  {
   "cell_type": "code",
   "execution_count": null,
   "id": "311",
   "metadata": {},
   "outputs": [],
   "source": [
    "roll_std.plot(figsize = (12, 8))\n",
    "plt.show()"
   ]
  },
  {
   "cell_type": "code",
   "execution_count": null,
   "id": "312",
   "metadata": {},
   "outputs": [],
   "source": [
    "roll_mean.plot(figsize = (12, 8))\n",
    "roll_std.plot()\n",
    "plt.show()"
   ]
  },
  {
   "cell_type": "markdown",
   "id": "313",
   "metadata": {},
   "source": [
    "__Take Home__: Be careful, you´ll always find (sub-)periods with __low returns & high risk__ and __high returns & low risk__. "
   ]
  },
  {
   "cell_type": "markdown",
   "id": "314",
   "metadata": {},
   "source": [
    "- Analysis Period must be __sufficiently long__ to reduce impact of random noise. <br>\n",
    "- Analysis Period should be __as short as possible__ and should only include the __latest trends / regimes__.\n",
    "- Commonly used reporting period: __3 Years / 36 Months__"
   ]
  },
  {
   "cell_type": "markdown",
   "id": "315",
   "metadata": {},
   "source": [
    "__Another Example: Simple Moving Average (Prices) - SMA__"
   ]
  },
  {
   "cell_type": "code",
   "execution_count": null,
   "id": "316",
   "metadata": {},
   "outputs": [],
   "source": [
    "sma_window = 50"
   ]
  },
  {
   "cell_type": "code",
   "execution_count": null,
   "id": "317",
   "metadata": {},
   "outputs": [],
   "source": [
    "msft.Price.plot(figsize = (12, 8))\n",
    "msft.Price.rolling(sma_window).mean().plot()\n",
    "plt.show()"
   ]
  },
  {
   "cell_type": "code",
   "execution_count": null,
   "id": "318",
   "metadata": {},
   "outputs": [],
   "source": []
  },
  {
   "cell_type": "markdown",
   "id": "319",
   "metadata": {},
   "source": [
    "--------------------------------------------"
   ]
  },
  {
   "cell_type": "markdown",
   "id": "320",
   "metadata": {},
   "source": [
    "__Coding Challenge #5__"
   ]
  },
  {
   "cell_type": "markdown",
   "id": "321",
   "metadata": {},
   "source": [
    "1. Calculate daily log returns for Boeing.\n",
    "\n",
    "2. Use Boeing´s daily log returns to calculate the annualized mean and annualized std (assume 252 trading days per year).\n",
    "\n",
    "3. Resample to monthly prices and compare the annualized std (monthly) with the annualized std (daily). Any differences?\n",
    "\n",
    "4. Keep working with monthly data and calculate/visualize the rolling 36 months mean return (annualized)."
   ]
  },
  {
   "cell_type": "markdown",
   "id": "322",
   "metadata": {},
   "source": [
    "---------------------------------------------"
   ]
  },
  {
   "cell_type": "code",
   "execution_count": null,
   "id": "323",
   "metadata": {},
   "outputs": [],
   "source": []
  },
  {
   "cell_type": "markdown",
   "id": "324",
   "metadata": {},
   "source": [
    "## Short Selling / Short Positions (Part 1)"
   ]
  },
  {
   "cell_type": "markdown",
   "id": "325",
   "metadata": {},
   "source": [
    "What´s the rational behind short selling an instrument? <br>\n",
    "__-> making profits/positive returns when prices fall.__"
   ]
  },
  {
   "cell_type": "markdown",
   "id": "326",
   "metadata": {},
   "source": [
    "__Stocks Example:__"
   ]
  },
  {
   "cell_type": "markdown",
   "id": "327",
   "metadata": {},
   "source": [
    "Today an Investor __buys__ the ABC Stock for USD 100. One day later he __sells__ the stock for USD 110. <br> \n",
    "__-> Profit: USD 10__ <br>\n",
    "->__Long Position__ (benefit from rising prices):"
   ]
  },
  {
   "cell_type": "markdown",
   "id": "328",
   "metadata": {},
   "source": [
    "Today an Investor __borrows__ the ABC Stock from another Investor and __sells__ it for USD 100. One day later he __buys__ the stock for USD 90 and __returns__ it to the lender.<br>\n",
    "__-> Profit: USD 10__  <br>\n",
    "->__Short Position__ (benefit from falling prices):"
   ]
  },
  {
   "cell_type": "markdown",
   "id": "329",
   "metadata": {},
   "source": [
    "In some countries (and for some instruments like stocks) short selling is prohibited. <br>\n",
    "Most intuitive/popular use case for short selling: __Currencies (Forex)__"
   ]
  },
  {
   "cell_type": "code",
   "execution_count": null,
   "id": "330",
   "metadata": {},
   "outputs": [],
   "source": []
  },
  {
   "cell_type": "markdown",
   "id": "331",
   "metadata": {},
   "source": [
    "## Short Selling / Short Positions (Part 2)"
   ]
  },
  {
   "cell_type": "markdown",
   "id": "332",
   "metadata": {},
   "source": [
    "__EUR/USD__ (\"Long Euro\" == \"Short USD\")"
   ]
  },
  {
   "cell_type": "code",
   "execution_count": null,
   "id": "333",
   "metadata": {},
   "outputs": [],
   "source": [
    "t0 = 1.10\n",
    "t1 = 1.25"
   ]
  },
  {
   "cell_type": "markdown",
   "id": "334",
   "metadata": {},
   "source": [
    "Today an Investor __buys__ EUR 1 and pays USD 1.10. One day later he __sells__ EUR 1 for USD 1.25 <br>\n",
    "__-> Profit: USD 0.15__  <br>\n",
    "->__Long Position Euro__ (benefit from rising EUR prices):"
   ]
  },
  {
   "cell_type": "code",
   "execution_count": null,
   "id": "335",
   "metadata": {},
   "outputs": [],
   "source": [
    "t1 / t0 - 1 # The EUR appreciates by 13.64% relative to USD (simple return)"
   ]
  },
  {
   "cell_type": "markdown",
   "id": "336",
   "metadata": {},
   "source": [
    "-> EUR __Long__ Position returns __+13.64%__ (simple return) "
   ]
  },
  {
   "cell_type": "markdown",
   "id": "337",
   "metadata": {},
   "source": [
    "What return would you expect for the corresponding EUR __Short__ position? That´s a \"no brainer\": __-13.64%__, right? "
   ]
  },
  {
   "cell_type": "markdown",
   "id": "338",
   "metadata": {},
   "source": [
    "__Surprisingly, that´s incorrect!!!__"
   ]
  },
  {
   "cell_type": "code",
   "execution_count": null,
   "id": "339",
   "metadata": {},
   "outputs": [],
   "source": []
  },
  {
   "cell_type": "markdown",
   "id": "340",
   "metadata": {},
   "source": [
    "Inverse Rate: __USD/EUR__ (\"Short Euro\" == \"Long USD\")"
   ]
  },
  {
   "cell_type": "code",
   "execution_count": null,
   "id": "341",
   "metadata": {},
   "outputs": [],
   "source": [
    "t0 = 1 / 1.10\n",
    "t1 = 1 / 1.25"
   ]
  },
  {
   "cell_type": "code",
   "execution_count": null,
   "id": "342",
   "metadata": {},
   "outputs": [],
   "source": [
    "print(t0, t1)"
   ]
  },
  {
   "cell_type": "markdown",
   "id": "343",
   "metadata": {},
   "source": [
    "Today an Investor __buys__ USD 1 and pays 0.9091 Euro. One day later he __sells__ USD 1 for EUR 0.8 __<br>\n",
    "-> Loss: EUR 0.1091__  <br>"
   ]
  },
  {
   "cell_type": "code",
   "execution_count": null,
   "id": "344",
   "metadata": {},
   "outputs": [],
   "source": [
    "t1 / t0 - 1 # The USD depreciates by 12.0% relative to EUR"
   ]
  },
  {
   "cell_type": "markdown",
   "id": "345",
   "metadata": {},
   "source": [
    "-> EUR __Short__ Position returns __-12.0%__ (simple return)"
   ]
  },
  {
   "cell_type": "markdown",
   "id": "346",
   "metadata": {},
   "source": [
    "__Take Home: When using simple returns, long position return != short position return * (-1)__ <br>\n",
    "__-> Use log returns!__"
   ]
  },
  {
   "cell_type": "code",
   "execution_count": null,
   "id": "347",
   "metadata": {},
   "outputs": [],
   "source": []
  },
  {
   "cell_type": "markdown",
   "id": "348",
   "metadata": {},
   "source": [
    "## Short Selling / Short Positions (Part 3)"
   ]
  },
  {
   "cell_type": "code",
   "execution_count": null,
   "id": "349",
   "metadata": {},
   "outputs": [],
   "source": [
    "import pandas as pd\n",
    "import numpy as np\n",
    "import matplotlib.pyplot as plt\n",
    "pd.options.display.float_format = '{:.6f}'.format\n",
    "plt.style.use(\"seaborn-v0_8\")"
   ]
  },
  {
   "cell_type": "code",
   "execution_count": null,
   "id": "350",
   "metadata": {},
   "outputs": [],
   "source": [
    "close = pd.read_csv(\"close.csv\", index_col = \"Date\", parse_dates = [\"Date\"])\n",
    "close"
   ]
  },
  {
   "cell_type": "code",
   "execution_count": null,
   "id": "351",
   "metadata": {},
   "outputs": [],
   "source": [
    "close[\"USDEUR=X\"] = 1/close[\"EURUSD=X\"]"
   ]
  },
  {
   "cell_type": "code",
   "execution_count": null,
   "id": "352",
   "metadata": {},
   "outputs": [],
   "source": [
    "close"
   ]
  },
  {
   "cell_type": "code",
   "execution_count": null,
   "id": "353",
   "metadata": {},
   "outputs": [],
   "source": [
    "fx = close[[\"EURUSD=X\", \"USDEUR=X\"]].dropna().copy()"
   ]
  },
  {
   "cell_type": "code",
   "execution_count": null,
   "id": "354",
   "metadata": {},
   "outputs": [],
   "source": [
    "fx"
   ]
  },
  {
   "cell_type": "code",
   "execution_count": null,
   "id": "355",
   "metadata": {},
   "outputs": [],
   "source": [
    "fx.plot(figsize = (12,8), fontsize = 13)\n",
    "plt.legend(fontsize = 13)\n",
    "plt.show()"
   ]
  },
  {
   "cell_type": "code",
   "execution_count": null,
   "id": "356",
   "metadata": {},
   "outputs": [],
   "source": [
    "simple_ret = fx.pct_change() # simple returns\n",
    "simple_ret"
   ]
  },
  {
   "cell_type": "code",
   "execution_count": null,
   "id": "357",
   "metadata": {},
   "outputs": [],
   "source": [
    "simple_ret.add(1).prod() - 1 # compound simple returns"
   ]
  },
  {
   "cell_type": "markdown",
   "id": "358",
   "metadata": {},
   "source": [
    "__-> For simple returns: long position returns != short position returns * (-1)__"
   ]
  },
  {
   "cell_type": "code",
   "execution_count": null,
   "id": "359",
   "metadata": {},
   "outputs": [],
   "source": [
    "log_ret = np.log(fx / fx.shift()) # log returns\n",
    "log_ret"
   ]
  },
  {
   "cell_type": "code",
   "execution_count": null,
   "id": "360",
   "metadata": {},
   "outputs": [],
   "source": [
    "log_ret.sum() # cumulative log returns"
   ]
  },
  {
   "cell_type": "markdown",
   "id": "361",
   "metadata": {},
   "source": [
    "__-> For log returns: long position returns == short position returns * (-1)__"
   ]
  },
  {
   "cell_type": "code",
   "execution_count": null,
   "id": "362",
   "metadata": {},
   "outputs": [],
   "source": [
    "norm_fx = log_ret.cumsum().apply(np.exp) # normalized prices (Base 1)\n",
    "norm_fx"
   ]
  },
  {
   "cell_type": "code",
   "execution_count": null,
   "id": "363",
   "metadata": {},
   "outputs": [],
   "source": [
    "norm_fx.iloc[0] = [1, 1]"
   ]
  },
  {
   "cell_type": "code",
   "execution_count": null,
   "id": "364",
   "metadata": {},
   "outputs": [],
   "source": [
    "norm_fx"
   ]
  },
  {
   "cell_type": "code",
   "execution_count": null,
   "id": "365",
   "metadata": {},
   "outputs": [],
   "source": [
    "norm_fx.plot(figsize = (12,8), fontsize = 13)\n",
    "plt.legend(fontsize = 13)\n",
    "plt.show()"
   ]
  },
  {
   "cell_type": "code",
   "execution_count": null,
   "id": "366",
   "metadata": {},
   "outputs": [],
   "source": []
  },
  {
   "cell_type": "markdown",
   "id": "367",
   "metadata": {},
   "source": [
    "--------------------------------------------"
   ]
  },
  {
   "cell_type": "markdown",
   "id": "368",
   "metadata": {},
   "source": [
    "__Coding Challenge #6__"
   ]
  },
  {
   "cell_type": "markdown",
   "id": "369",
   "metadata": {},
   "source": [
    "1. Calculate daily log returns for Boeing.\n",
    "\n",
    "2. Calculate the annualized mean and annualized std (assume 252 trading days per year) for a short position in Boeing (ignore Trading and Borrowing Costs)."
   ]
  },
  {
   "cell_type": "markdown",
   "id": "370",
   "metadata": {},
   "source": [
    "---------------------------------------------"
   ]
  },
  {
   "cell_type": "code",
   "execution_count": null,
   "id": "371",
   "metadata": {},
   "outputs": [],
   "source": []
  },
  {
   "cell_type": "markdown",
   "id": "372",
   "metadata": {},
   "source": [
    "## Covariance and Correlation"
   ]
  },
  {
   "cell_type": "markdown",
   "id": "373",
   "metadata": {},
   "source": [
    "Do instruments/assets __move together__ (and to what extent)? <br>\n",
    "\n",
    "Three cases:\n",
    "- unrelated (__no__ relationship/correlation)\n",
    "- moving together (__positive__ relationship/correlation)\n",
    "- moving in opposite directions (__negative__ relationship/correlation) "
   ]
  },
  {
   "cell_type": "markdown",
   "id": "374",
   "metadata": {},
   "source": [
    "__-> Correlation between instruments/assets play an important role in portfolio management.__"
   ]
  },
  {
   "cell_type": "code",
   "execution_count": null,
   "id": "375",
   "metadata": {},
   "outputs": [],
   "source": [
    "import pandas as pd\n",
    "import numpy as np\n",
    "pd.options.display.float_format = '{:.4f}'.format\n",
    "import matplotlib.pyplot as plt\n",
    "plt.style.use(\"seaborn-v0_8\")"
   ]
  },
  {
   "cell_type": "code",
   "execution_count": null,
   "id": "376",
   "metadata": {},
   "outputs": [],
   "source": [
    "close = pd.read_csv(\"close.csv\", index_col = \"Date\", parse_dates = [\"Date\"])\n",
    "close"
   ]
  },
  {
   "cell_type": "code",
   "execution_count": null,
   "id": "377",
   "metadata": {},
   "outputs": [],
   "source": [
    "close[\"USDEUR=X\"] = 1/close[\"EURUSD=X\"]\n",
    "close"
   ]
  },
  {
   "cell_type": "code",
   "execution_count": null,
   "id": "378",
   "metadata": {},
   "outputs": [],
   "source": [
    "returns = close.apply(lambda x: np.log(x.dropna() / x.dropna().shift()))\n",
    "returns"
   ]
  },
  {
   "cell_type": "code",
   "execution_count": null,
   "id": "379",
   "metadata": {},
   "outputs": [],
   "source": [
    "returns.cov() # covariance (hard to interpret)"
   ]
  },
  {
   "cell_type": "code",
   "execution_count": null,
   "id": "380",
   "metadata": {},
   "outputs": [],
   "source": [
    "returns.corr() # correlation coefficient (easy to interpret)"
   ]
  },
  {
   "cell_type": "markdown",
   "id": "381",
   "metadata": {},
   "source": [
    "Three cases:\n",
    "- no correlation: __correlation coefficient == 0__\n",
    "- moving together: __0 < correlation coefficient <= 1__ (positive)\n",
    "- moving in opposite directions: __-1 <= correlation coefficient < 0__ (negative)"
   ]
  },
  {
   "cell_type": "code",
   "execution_count": null,
   "id": "382",
   "metadata": {},
   "outputs": [],
   "source": [
    "import seaborn as sns"
   ]
  },
  {
   "cell_type": "code",
   "execution_count": null,
   "id": "383",
   "metadata": {},
   "outputs": [],
   "source": [
    "plt.figure(figsize=(12,8))\n",
    "sns.set(font_scale=1.4)\n",
    "sns.heatmap(returns.corr(), cmap = \"RdYlBu_r\", annot = True, annot_kws={\"size\":15}, vmin = -1, vmax = 1)\n",
    "plt.show()"
   ]
  },
  {
   "cell_type": "markdown",
   "id": "384",
   "metadata": {},
   "source": [
    "__Take Home: Similar assets are (highly) positive correlated. Different assets exhibit low/no/negative correlation.__ <br>\n",
    "-> In portfolio management it´s beneficial to have assets with low/no/negative correlation (portfolio diversification effect)."
   ]
  },
  {
   "cell_type": "code",
   "execution_count": null,
   "id": "385",
   "metadata": {},
   "outputs": [],
   "source": []
  },
  {
   "cell_type": "markdown",
   "id": "386",
   "metadata": {},
   "source": [
    "## Portfolio of Assets and Portfolio Returns"
   ]
  },
  {
   "cell_type": "code",
   "execution_count": null,
   "id": "387",
   "metadata": {},
   "outputs": [],
   "source": [
    "import pandas as pd\n",
    "import numpy as np"
   ]
  },
  {
   "cell_type": "code",
   "execution_count": null,
   "id": "388",
   "metadata": {},
   "outputs": [],
   "source": [
    "prices = pd.DataFrame(data = {\"Asset_A\": [100, 112], \"Asset_B\":[100, 104]}, index = [0, 1])\n",
    "prices"
   ]
  },
  {
   "cell_type": "code",
   "execution_count": null,
   "id": "389",
   "metadata": {},
   "outputs": [],
   "source": [
    "prices[\"Total\"] = prices.Asset_A + prices.Asset_B"
   ]
  },
  {
   "cell_type": "code",
   "execution_count": null,
   "id": "390",
   "metadata": {},
   "outputs": [],
   "source": [
    "prices"
   ]
  },
  {
   "cell_type": "code",
   "execution_count": null,
   "id": "391",
   "metadata": {},
   "outputs": [],
   "source": [
    "returns = prices.pct_change() # simple returns\n",
    "returns"
   ]
  },
  {
   "cell_type": "code",
   "execution_count": null,
   "id": "392",
   "metadata": {},
   "outputs": [],
   "source": [
    "0.5 * 0.12 + 0.5 * 0.04 # correct (portfolio return == weighted average of simple returns)"
   ]
  },
  {
   "cell_type": "code",
   "execution_count": null,
   "id": "393",
   "metadata": {},
   "outputs": [],
   "source": [
    "log_returns = np.log(prices / prices.shift()) # log returns\n",
    "log_returns"
   ]
  },
  {
   "cell_type": "code",
   "execution_count": null,
   "id": "394",
   "metadata": {},
   "outputs": [],
   "source": [
    "0.5 * log_returns.iloc[1,0] + 0.5 * log_returns.iloc[1,1] # incorrect (portfolio return != weighted average of log returns)"
   ]
  },
  {
   "cell_type": "markdown",
   "id": "395",
   "metadata": {},
   "source": [
    "__Take Home: While log returns are time-additive, they are not asset-additive.__ <br>\n",
    "(While simple returns are not time-additive, they are asset-additive.)"
   ]
  },
  {
   "cell_type": "code",
   "execution_count": null,
   "id": "396",
   "metadata": {},
   "outputs": [],
   "source": []
  },
  {
   "cell_type": "markdown",
   "id": "397",
   "metadata": {},
   "source": [
    "## Margin Trading & Levered Returns (Part 1)"
   ]
  },
  {
   "cell_type": "markdown",
   "id": "398",
   "metadata": {},
   "source": [
    "__Definition__: \"Margin trading refers to the practice of using __borrowed funds__ from a broker to trade a financial asset, which forms the collateral for the loan from the broker.\" (Investopedia.com) "
   ]
  },
  {
   "cell_type": "markdown",
   "id": "399",
   "metadata": {},
   "source": [
    "In Simple Words: Investors __don´t pay the full price__ but they get the full benefit (less borrowing costs)."
   ]
  },
  {
   "cell_type": "markdown",
   "id": "400",
   "metadata": {},
   "source": [
    "It´s a two edged sword: Leverage __amplifies both gains and losses__. <br> In the event of a loss, the collateral gets reduced and the Investor either posts additional margin or the brokers closes the position."
   ]
  },
  {
   "cell_type": "markdown",
   "id": "401",
   "metadata": {},
   "source": [
    "__Example__"
   ]
  },
  {
   "cell_type": "markdown",
   "id": "402",
   "metadata": {},
   "source": [
    "A Trader buys a stock (stock price: 100) __on margin (50%)__. After one day the price increases to 110.<br>\n",
    "Calculate __unlevered return__ and __levered return__."
   ]
  },
  {
   "cell_type": "code",
   "execution_count": null,
   "id": "403",
   "metadata": {},
   "outputs": [],
   "source": [
    "P0 = 100\n",
    "P1 = 110\n",
    "leverage = 2\n",
    "margin = P0/2"
   ]
  },
  {
   "cell_type": "code",
   "execution_count": null,
   "id": "404",
   "metadata": {},
   "outputs": [],
   "source": [
    "margin"
   ]
  },
  {
   "cell_type": "code",
   "execution_count": null,
   "id": "405",
   "metadata": {},
   "outputs": [],
   "source": [
    "unlev_return = (P1 - P0) / P0 # simple return\n",
    "unlev_return"
   ]
  },
  {
   "cell_type": "code",
   "execution_count": null,
   "id": "406",
   "metadata": {},
   "outputs": [],
   "source": [
    "lev_return = (P1 - P0) / margin # simple return \n",
    "lev_return"
   ]
  },
  {
   "cell_type": "code",
   "execution_count": null,
   "id": "407",
   "metadata": {},
   "outputs": [],
   "source": [
    "lev_return == unlev_return * leverage # this relationship is true for simple returns..."
   ]
  },
  {
   "cell_type": "code",
   "execution_count": null,
   "id": "408",
   "metadata": {},
   "outputs": [],
   "source": [
    "unlev_return = np.log((P1 - P0) / P0 + 1) # log return\n",
    "unlev_return"
   ]
  },
  {
   "cell_type": "code",
   "execution_count": null,
   "id": "409",
   "metadata": {},
   "outputs": [],
   "source": [
    "lev_return = np.log((P1 - P0) / margin + 1) # log return\n",
    "lev_return"
   ]
  },
  {
   "cell_type": "code",
   "execution_count": null,
   "id": "410",
   "metadata": {},
   "outputs": [],
   "source": [
    "lev_return == unlev_return * leverage # this relationship does not hold for log returns..."
   ]
  },
  {
   "cell_type": "markdown",
   "id": "411",
   "metadata": {},
   "source": [
    "__Take Home: To calculate levered returns, don´t multiply leverage with log returns!__"
   ]
  },
  {
   "cell_type": "code",
   "execution_count": null,
   "id": "412",
   "metadata": {},
   "outputs": [],
   "source": []
  },
  {
   "cell_type": "markdown",
   "id": "413",
   "metadata": {},
   "source": [
    "## Margin Trading & Levered Returns (Part 2)"
   ]
  },
  {
   "cell_type": "markdown",
   "id": "414",
   "metadata": {},
   "source": [
    "__Hypothesis: For (highly) profitable Investment: The more leverage, the better?__"
   ]
  },
  {
   "cell_type": "code",
   "execution_count": null,
   "id": "415",
   "metadata": {},
   "outputs": [],
   "source": [
    "import pandas as pd\n",
    "import numpy as np\n",
    "pd.options.display.float_format = '{:.4f}'.format\n",
    "import matplotlib.pyplot as plt\n",
    "plt.style.use(\"seaborn-v0_8\")"
   ]
  },
  {
   "cell_type": "code",
   "execution_count": null,
   "id": "416",
   "metadata": {},
   "outputs": [],
   "source": [
    "msft = pd.read_csv(\"msft.csv\", index_col = \"Date\", parse_dates = [\"Date\"])\n",
    "msft"
   ]
  },
  {
   "cell_type": "code",
   "execution_count": null,
   "id": "417",
   "metadata": {},
   "outputs": [],
   "source": [
    "msft[\"Simple_Ret\"] = msft.Price.pct_change() # simple returns"
   ]
  },
  {
   "cell_type": "code",
   "execution_count": null,
   "id": "418",
   "metadata": {},
   "outputs": [],
   "source": [
    "leverage = 2"
   ]
  },
  {
   "cell_type": "markdown",
   "id": "419",
   "metadata": {},
   "source": [
    "(Simplified) __Assumptions__:\n",
    "- Restore leverage on a daily basis (by buying/selling shares)\n",
    "- no trading costs\n",
    "- no borrowing costs"
   ]
  },
  {
   "cell_type": "code",
   "execution_count": null,
   "id": "420",
   "metadata": {},
   "outputs": [],
   "source": [
    "msft[\"Lev_Returns\"] = msft.Returns.mul(leverage) # levered simple returns\n",
    "msft"
   ]
  },
  {
   "cell_type": "code",
   "execution_count": null,
   "id": "421",
   "metadata": {},
   "outputs": [],
   "source": [
    "msft[\"Lev_Returns\"] = np.where(msft[\"Lev_Returns\"] < -1, -1, msft[\"Lev_Returns\"])"
   ]
  },
  {
   "cell_type": "code",
   "execution_count": null,
   "id": "422",
   "metadata": {},
   "outputs": [],
   "source": [
    "msft"
   ]
  },
  {
   "cell_type": "code",
   "execution_count": null,
   "id": "423",
   "metadata": {},
   "outputs": [],
   "source": [
    "msft[[\"Returns\", \"Lev_Returns\"]].add(1).cumprod().plot(figsize = (15, 8), fontsize = 13)\n",
    "plt.legend(fontsize = 13)\n",
    "plt.show()"
   ]
  },
  {
   "cell_type": "code",
   "execution_count": null,
   "id": "424",
   "metadata": {},
   "outputs": [],
   "source": [
    "msft.Simple_Ret.max()"
   ]
  },
  {
   "cell_type": "code",
   "execution_count": null,
   "id": "425",
   "metadata": {},
   "outputs": [],
   "source": [
    "msft.Lev_Returns.max()"
   ]
  },
  {
   "cell_type": "code",
   "execution_count": null,
   "id": "426",
   "metadata": {},
   "outputs": [],
   "source": [
    "msft.Simple_Ret.min()"
   ]
  },
  {
   "cell_type": "code",
   "execution_count": null,
   "id": "427",
   "metadata": {},
   "outputs": [],
   "source": [
    "msft.Lev_Returns.min()"
   ]
  },
  {
   "cell_type": "markdown",
   "id": "428",
   "metadata": {},
   "source": [
    "__What happens when leverage greater than...?__"
   ]
  },
  {
   "cell_type": "code",
   "execution_count": null,
   "id": "429",
   "metadata": {},
   "outputs": [],
   "source": [
    "-1 / msft.Simple_Ret.min()"
   ]
  },
  {
   "cell_type": "code",
   "execution_count": null,
   "id": "430",
   "metadata": {},
   "outputs": [],
   "source": []
  },
  {
   "cell_type": "markdown",
   "id": "431",
   "metadata": {},
   "source": [
    "__Take Home:__\n",
    "1. With Leverage you can (theoretically) __lose more than the initial Margin__ (in practice: margin call / margin closeout before)\n",
    "2. Even for (highly) profitable instruments: __\"The more leverage the better\" does not hold__.\n",
    "3. It´s a two edged (__non-symmetrical__) sword: __Leverage amplifies losses more than it amplifies gains__."
   ]
  },
  {
   "cell_type": "code",
   "execution_count": null,
   "id": "432",
   "metadata": {},
   "outputs": [],
   "source": []
  },
  {
   "cell_type": "markdown",
   "id": "433",
   "metadata": {},
   "source": [
    "--------------------------------"
   ]
  },
  {
   "cell_type": "markdown",
   "id": "434",
   "metadata": {},
   "source": [
    "__Coding Challenge #7__"
   ]
  },
  {
   "cell_type": "markdown",
   "id": "435",
   "metadata": {},
   "source": [
    "1. Calculate levered returns for Bitcoin (leverage = 4). \n",
    "\n",
    "2. Visualize and compare with unlevered Investment.\n",
    "\n",
    "3. Some Traders trade Bitcoin with extremely high leverage (> 100). Do you think this is a good idea (assuming no additional/advanced Risk Management Tools)?"
   ]
  },
  {
   "cell_type": "markdown",
   "id": "436",
   "metadata": {},
   "source": [
    "---------------------------------------------"
   ]
  },
  {
   "cell_type": "code",
   "execution_count": null,
   "id": "437",
   "metadata": {},
   "outputs": [],
   "source": []
  },
  {
   "cell_type": "markdown",
   "id": "438",
   "metadata": {},
   "source": [
    "--------------------------------------"
   ]
  },
  {
   "cell_type": "markdown",
   "id": "439",
   "metadata": {},
   "source": [
    "## Coding Challenge Solutions"
   ]
  },
  {
   "cell_type": "markdown",
   "id": "440",
   "metadata": {},
   "source": [
    "__Coding Challenge #1__"
   ]
  },
  {
   "cell_type": "markdown",
   "id": "441",
   "metadata": {},
   "source": [
    "1. Load Stock Price Data for General Electric (GE) and another ticker symbol of your choice from 2015-01-02 until 2020-12-31.<br>\n",
    "Go to https://finance.yahoo.com/ and get the right ticker symbol. For instruments traded outside the US, you have to add a country/exchange suffix. <br>\n",
    "Check the suffix list here https://help.yahoo.com/kb/exchanges-data-providers-yahoo-finance-sln2310.html As an example, the suffix for the National Indian Stock Exchange is .NS -> Ticker Symbol for Reliance is Reliance.NS"
   ]
  },
  {
   "cell_type": "markdown",
   "id": "442",
   "metadata": {},
   "source": [
    "2. Select Close prices only and create a price chart for GE."
   ]
  },
  {
   "cell_type": "markdown",
   "id": "443",
   "metadata": {},
   "source": [
    "3. Normalize the stock prices for GE and the Ticker Symbol of your choice (Base Value: 1) and visualize! What´s the final normalized price for GE on 2020-12-30? "
   ]
  },
  {
   "cell_type": "code",
   "execution_count": null,
   "id": "444",
   "metadata": {},
   "outputs": [],
   "source": [
    "import pandas as pd\n",
    "import yfinance as yf\n",
    "import matplotlib.pyplot as plt\n",
    "pd.options.display.float_format = '{:.4f}'.format\n",
    "plt.style.use(\"seaborn-v0_8\")"
   ]
  },
  {
   "cell_type": "code",
   "execution_count": null,
   "id": "445",
   "metadata": {},
   "outputs": [],
   "source": [
    "start = \"2015-01-02\"\n",
    "end = \"2020-12-31\"\n",
    "symbol = [\"GE\", \"Reliance.NS\"]"
   ]
  },
  {
   "cell_type": "code",
   "execution_count": null,
   "id": "446",
   "metadata": {},
   "outputs": [],
   "source": [
    "df = yf.download(symbol, start, end)\n",
    "df"
   ]
  },
  {
   "cell_type": "code",
   "execution_count": null,
   "id": "447",
   "metadata": {},
   "outputs": [],
   "source": [
    "close = df.Close.copy()\n",
    "close"
   ]
  },
  {
   "cell_type": "code",
   "execution_count": null,
   "id": "448",
   "metadata": {},
   "outputs": [],
   "source": [
    "close.GE.dropna().plot(figsize = (15, 8), fontsize = 13)\n",
    "plt.legend(fontsize = 13)\n",
    "plt.show()"
   ]
  },
  {
   "cell_type": "code",
   "execution_count": null,
   "id": "449",
   "metadata": {},
   "outputs": [],
   "source": [
    "norm = close.div(close.iloc[0]).mul(1)\n",
    "norm"
   ]
  },
  {
   "cell_type": "markdown",
   "id": "450",
   "metadata": {},
   "source": [
    "-> The final normalized Price is 0.4445."
   ]
  },
  {
   "cell_type": "code",
   "execution_count": null,
   "id": "451",
   "metadata": {},
   "outputs": [],
   "source": [
    "norm.dropna().plot(figsize = (15, 8), fontsize = 13)\n",
    "plt.legend(fontsize = 13)\n",
    "plt.show()"
   ]
  },
  {
   "cell_type": "code",
   "execution_count": null,
   "id": "452",
   "metadata": {},
   "outputs": [],
   "source": []
  },
  {
   "cell_type": "markdown",
   "id": "453",
   "metadata": {},
   "source": [
    "__Coding Challenge #2__"
   ]
  },
  {
   "cell_type": "markdown",
   "id": "454",
   "metadata": {},
   "source": [
    "1. Calculate daily returns for Bitcoin."
   ]
  },
  {
   "cell_type": "markdown",
   "id": "455",
   "metadata": {},
   "source": [
    "2. Calculate the arithmetic mean return and the standard deviation of returns for Bitcoin. "
   ]
  },
  {
   "cell_type": "markdown",
   "id": "456",
   "metadata": {},
   "source": [
    "3. Compare Bitcoin with Microsoft (mu = 0.00116, sigma = 0.01726). Does the rule \"Higher Risk -> Higher Reward\" hold?"
   ]
  },
  {
   "cell_type": "code",
   "execution_count": null,
   "id": "457",
   "metadata": {},
   "outputs": [],
   "source": [
    "import pandas as pd\n",
    "pd.options.display.float_format = '{:.4f}'.format"
   ]
  },
  {
   "cell_type": "code",
   "execution_count": null,
   "id": "458",
   "metadata": {},
   "outputs": [],
   "source": [
    "close = pd.read_csv(\"close.csv\", index_col = \"Date\", parse_dates = [\"Date\"])\n",
    "close"
   ]
  },
  {
   "cell_type": "code",
   "execution_count": null,
   "id": "459",
   "metadata": {},
   "outputs": [],
   "source": [
    "btc = close[\"BTC-USD\"].dropna().to_frame().copy()\n",
    "btc"
   ]
  },
  {
   "cell_type": "code",
   "execution_count": null,
   "id": "460",
   "metadata": {},
   "outputs": [],
   "source": [
    "btc[\"Returns\"] = btc.pct_change(periods = 1)\n",
    "btc"
   ]
  },
  {
   "cell_type": "code",
   "execution_count": null,
   "id": "461",
   "metadata": {},
   "outputs": [],
   "source": [
    "btc"
   ]
  },
  {
   "cell_type": "code",
   "execution_count": null,
   "id": "462",
   "metadata": {},
   "outputs": [],
   "source": [
    "mu = btc.Returns.mean() \n",
    "mu"
   ]
  },
  {
   "cell_type": "code",
   "execution_count": null,
   "id": "463",
   "metadata": {},
   "outputs": [],
   "source": [
    "sigma = btc.Returns.std()\n",
    "sigma"
   ]
  },
  {
   "cell_type": "code",
   "execution_count": null,
   "id": "464",
   "metadata": {},
   "outputs": [],
   "source": [
    "mu > 0.00116"
   ]
  },
  {
   "cell_type": "code",
   "execution_count": null,
   "id": "465",
   "metadata": {},
   "outputs": [],
   "source": [
    "sigma > 0.01726"
   ]
  },
  {
   "cell_type": "markdown",
   "id": "466",
   "metadata": {},
   "source": [
    "Does the rule \"Higher Risk -> Higher Reward\" hold? -> Yes"
   ]
  },
  {
   "cell_type": "code",
   "execution_count": null,
   "id": "467",
   "metadata": {},
   "outputs": [],
   "source": []
  },
  {
   "cell_type": "markdown",
   "id": "468",
   "metadata": {},
   "source": [
    "__Coding Challenge #3__"
   ]
  },
  {
   "cell_type": "markdown",
   "id": "469",
   "metadata": {},
   "source": [
    "1. Calculate Boeing´s Investment Multiple "
   ]
  },
  {
   "cell_type": "markdown",
   "id": "470",
   "metadata": {},
   "source": [
    "2. Calculate Boeing´s CAGR"
   ]
  },
  {
   "cell_type": "markdown",
   "id": "471",
   "metadata": {},
   "source": [
    "3. Calculate Boeing´s Geometric Mean Return"
   ]
  },
  {
   "cell_type": "markdown",
   "id": "472",
   "metadata": {},
   "source": [
    "4. Calculate Boeing´s Investment Multiple with compound daily returns"
   ]
  },
  {
   "cell_type": "code",
   "execution_count": null,
   "id": "473",
   "metadata": {},
   "outputs": [],
   "source": [
    "import pandas as pd\n",
    "pd.options.display.float_format = '{:.4f}'.format"
   ]
  },
  {
   "cell_type": "code",
   "execution_count": null,
   "id": "474",
   "metadata": {},
   "outputs": [],
   "source": [
    "close = pd.read_csv(\"close.csv\", index_col = \"Date\", parse_dates = [\"Date\"])\n",
    "close"
   ]
  },
  {
   "cell_type": "code",
   "execution_count": null,
   "id": "475",
   "metadata": {},
   "outputs": [],
   "source": [
    "ba = close[\"BA\"].dropna().to_frame().copy()\n",
    "ba"
   ]
  },
  {
   "cell_type": "code",
   "execution_count": null,
   "id": "476",
   "metadata": {},
   "outputs": [],
   "source": [
    "ba[\"Returns\"] = ba.pct_change(periods = 1)\n",
    "ba"
   ]
  },
  {
   "cell_type": "code",
   "execution_count": null,
   "id": "477",
   "metadata": {},
   "outputs": [],
   "source": [
    "multiple = ba.BA.iloc[-1] / ba.BA.iloc[0]\n",
    "multiple"
   ]
  },
  {
   "cell_type": "code",
   "execution_count": null,
   "id": "478",
   "metadata": {},
   "outputs": [],
   "source": [
    "cagr = (ba.BA.iloc[-1]/ba.BA.iloc[0])**(1/((ba.index[-1] - ba.index[0]).days / 365.25)) - 1 \n",
    "cagr"
   ]
  },
  {
   "cell_type": "code",
   "execution_count": null,
   "id": "479",
   "metadata": {},
   "outputs": [],
   "source": [
    "n = ba.Returns.count()\n",
    "n"
   ]
  },
  {
   "cell_type": "code",
   "execution_count": null,
   "id": "480",
   "metadata": {},
   "outputs": [],
   "source": [
    "geo_mean = (1 + ba.Returns).prod()**(1/n) - 1 \n",
    "geo_mean"
   ]
  },
  {
   "cell_type": "code",
   "execution_count": null,
   "id": "481",
   "metadata": {},
   "outputs": [],
   "source": [
    "multiple = ba.Returns.add(1).prod()\n",
    "multiple"
   ]
  },
  {
   "cell_type": "code",
   "execution_count": null,
   "id": "482",
   "metadata": {},
   "outputs": [],
   "source": []
  },
  {
   "cell_type": "markdown",
   "id": "483",
   "metadata": {},
   "source": [
    "__Coding Challenge #4__"
   ]
  },
  {
   "cell_type": "markdown",
   "id": "484",
   "metadata": {},
   "source": [
    "1. Calculate daily log returns for Boeing."
   ]
  },
  {
   "cell_type": "markdown",
   "id": "485",
   "metadata": {},
   "source": [
    "2. Use Boeing´s log returns to calculate \n",
    "- Investment Multiple\n",
    "- CAGR (assuming 252 trading days)\n",
    "- Normalized Prices (Base = 1)"
   ]
  },
  {
   "cell_type": "code",
   "execution_count": null,
   "id": "486",
   "metadata": {},
   "outputs": [],
   "source": [
    "import pandas as pd\n",
    "import numpy as np\n",
    "pd.options.display.float_format = '{:.4f}'.format\n",
    "import matplotlib.pyplot as plt\n",
    "plt.style.use(\"seaborn-v0_8\")"
   ]
  },
  {
   "cell_type": "code",
   "execution_count": null,
   "id": "487",
   "metadata": {},
   "outputs": [],
   "source": [
    "close = pd.read_csv(\"close.csv\", index_col = \"Date\", parse_dates = [\"Date\"])\n",
    "close"
   ]
  },
  {
   "cell_type": "code",
   "execution_count": null,
   "id": "488",
   "metadata": {},
   "outputs": [],
   "source": [
    "ba = close[\"BA\"].dropna().to_frame().copy()\n",
    "ba"
   ]
  },
  {
   "cell_type": "code",
   "execution_count": null,
   "id": "489",
   "metadata": {},
   "outputs": [],
   "source": [
    "ba[\"log_ret\"] = np.log(ba / ba.shift())\n",
    "ba"
   ]
  },
  {
   "cell_type": "code",
   "execution_count": null,
   "id": "490",
   "metadata": {},
   "outputs": [],
   "source": [
    "multiple = np.exp(ba.log_ret.sum())\n",
    "multiple"
   ]
  },
  {
   "cell_type": "code",
   "execution_count": null,
   "id": "491",
   "metadata": {},
   "outputs": [],
   "source": [
    "cagr = np.exp(ba.log_ret.mean() * 252) - 1\n",
    "cagr"
   ]
  },
  {
   "cell_type": "code",
   "execution_count": null,
   "id": "492",
   "metadata": {},
   "outputs": [],
   "source": [
    "norm = ba.log_ret.cumsum().apply(np.exp)\n",
    "norm"
   ]
  },
  {
   "cell_type": "code",
   "execution_count": null,
   "id": "493",
   "metadata": {},
   "outputs": [],
   "source": []
  },
  {
   "cell_type": "markdown",
   "id": "494",
   "metadata": {},
   "source": [
    "__Coding Challenge #5__"
   ]
  },
  {
   "cell_type": "markdown",
   "id": "495",
   "metadata": {},
   "source": [
    "1. Calculate daily log returns for Boeing.\n",
    "\n",
    "2. Use Boeing´s daily log returns to calculate the annualized mean and annualized std (assume 252 trading days per year).\n",
    "\n",
    "3. Resample to monthly prices and compare the annualized std (monthly) with the annualized std (daily). Any differences?\n",
    "\n",
    "4. Keep working with monthly data and calculate/visualize the rolling 36 months mean return (annualized)."
   ]
  },
  {
   "cell_type": "code",
   "execution_count": null,
   "id": "496",
   "metadata": {},
   "outputs": [],
   "source": [
    "import pandas as pd\n",
    "import numpy as np\n",
    "pd.options.display.float_format = '{:.4f}'.format\n",
    "import matplotlib.pyplot as plt\n",
    "plt.style.use(\"seaborn-v0_8\")"
   ]
  },
  {
   "cell_type": "code",
   "execution_count": null,
   "id": "497",
   "metadata": {},
   "outputs": [],
   "source": [
    "close = pd.read_csv(\"close.csv\", index_col = \"Date\", parse_dates = [\"Date\"])\n",
    "close"
   ]
  },
  {
   "cell_type": "code",
   "execution_count": null,
   "id": "498",
   "metadata": {},
   "outputs": [],
   "source": [
    "ba = close[\"BA\"].dropna().to_frame().copy()\n",
    "ba"
   ]
  },
  {
   "cell_type": "code",
   "execution_count": null,
   "id": "499",
   "metadata": {},
   "outputs": [],
   "source": [
    "ba[\"log_ret\"] = np.log(ba / ba.shift())\n",
    "ba"
   ]
  },
  {
   "cell_type": "code",
   "execution_count": null,
   "id": "500",
   "metadata": {},
   "outputs": [],
   "source": [
    "ann_mu = ba.log_ret.mean() * 252 \n",
    "ann_mu"
   ]
  },
  {
   "cell_type": "code",
   "execution_count": null,
   "id": "501",
   "metadata": {},
   "outputs": [],
   "source": [
    "ann_std = ba.log_ret.std() * np.sqrt(252) \n",
    "ann_std"
   ]
  },
  {
   "cell_type": "code",
   "execution_count": null,
   "id": "502",
   "metadata": {},
   "outputs": [],
   "source": [
    "monthly = ba.BA.resample(\"ME\").last().to_frame()\n",
    "monthly"
   ]
  },
  {
   "cell_type": "code",
   "execution_count": null,
   "id": "503",
   "metadata": {},
   "outputs": [],
   "source": [
    "monthly[\"Returns\"] = np.log(monthly / monthly.shift())\n",
    "monthly"
   ]
  },
  {
   "cell_type": "code",
   "execution_count": null,
   "id": "504",
   "metadata": {},
   "outputs": [],
   "source": [
    "ann_std = monthly.Returns.std() * np.sqrt(12) \n",
    "ann_std"
   ]
  },
  {
   "cell_type": "markdown",
   "id": "505",
   "metadata": {},
   "source": [
    "-> Risk (monthly) slighly lower than Risk (daily) "
   ]
  },
  {
   "cell_type": "code",
   "execution_count": null,
   "id": "506",
   "metadata": {},
   "outputs": [],
   "source": [
    "window = 36"
   ]
  },
  {
   "cell_type": "code",
   "execution_count": null,
   "id": "507",
   "metadata": {},
   "outputs": [],
   "source": [
    "roll_mean = monthly.Returns.rolling(window = window).mean() * 12\n",
    "roll_mean"
   ]
  },
  {
   "cell_type": "code",
   "execution_count": null,
   "id": "508",
   "metadata": {},
   "outputs": [],
   "source": [
    "roll_mean.plot(figsize = (12, 8))\n",
    "plt.show()"
   ]
  },
  {
   "cell_type": "code",
   "execution_count": null,
   "id": "509",
   "metadata": {},
   "outputs": [],
   "source": []
  },
  {
   "cell_type": "markdown",
   "id": "510",
   "metadata": {},
   "source": [
    "__Coding Challenge #6__"
   ]
  },
  {
   "cell_type": "markdown",
   "id": "511",
   "metadata": {},
   "source": [
    "1. Calculate daily log returns for Boeing.\n",
    "\n",
    "2. Calculate the annualized mean and annualized std (assume 252 trading days per year) for a short position in Boeing (ignore Trading and Borrowing Costs)."
   ]
  },
  {
   "cell_type": "code",
   "execution_count": null,
   "id": "512",
   "metadata": {},
   "outputs": [],
   "source": [
    "import pandas as pd\n",
    "import numpy as np\n",
    "pd.options.display.float_format = '{:.4f}'.format\n",
    "import matplotlib.pyplot as plt\n",
    "plt.style.use(\"seaborn-v0_8\")"
   ]
  },
  {
   "cell_type": "code",
   "execution_count": null,
   "id": "513",
   "metadata": {},
   "outputs": [],
   "source": [
    "close = pd.read_csv(\"close.csv\", index_col = \"Date\", parse_dates = [\"Date\"])\n",
    "close"
   ]
  },
  {
   "cell_type": "code",
   "execution_count": null,
   "id": "514",
   "metadata": {},
   "outputs": [],
   "source": [
    "ba = close[\"BA\"].dropna().to_frame().copy()\n",
    "ba"
   ]
  },
  {
   "cell_type": "code",
   "execution_count": null,
   "id": "515",
   "metadata": {},
   "outputs": [],
   "source": [
    "ba[\"log_ret\"] = np.log(ba / ba.shift())\n",
    "ba"
   ]
  },
  {
   "cell_type": "code",
   "execution_count": null,
   "id": "516",
   "metadata": {},
   "outputs": [],
   "source": [
    "ba[\"short\"] = ba.log_ret * (-1)\n",
    "ba"
   ]
  },
  {
   "cell_type": "code",
   "execution_count": null,
   "id": "517",
   "metadata": {},
   "outputs": [],
   "source": [
    "ann_mean = ba.short.mean() * 252 # equal to ann_mean of long position * (-1)\n",
    "ann_mean"
   ]
  },
  {
   "cell_type": "code",
   "execution_count": null,
   "id": "518",
   "metadata": {},
   "outputs": [],
   "source": [
    "ann_std = ba.short.std() * np.sqrt(252) # same as ann_std of long position\n",
    "ann_std"
   ]
  },
  {
   "cell_type": "code",
   "execution_count": null,
   "id": "519",
   "metadata": {},
   "outputs": [],
   "source": []
  },
  {
   "cell_type": "markdown",
   "id": "520",
   "metadata": {},
   "source": [
    "__Coding Challenge #7__"
   ]
  },
  {
   "cell_type": "markdown",
   "id": "521",
   "metadata": {},
   "source": [
    "1. Calculate levered returns for Bitcoin (leverage = 4). \n",
    "\n",
    "2. Visualize and compare with unlevered Investment.\n",
    "\n",
    "3. Some Traders trade Bitcoin with extremely high leverage (> 100). Do you think this is a good idea (assuming no additional/advanced Risk Management Tools)?"
   ]
  },
  {
   "cell_type": "code",
   "execution_count": null,
   "id": "522",
   "metadata": {},
   "outputs": [],
   "source": [
    "import pandas as pd\n",
    "import numpy as np\n",
    "pd.options.display.float_format = '{:.4f}'.format\n",
    "import matplotlib.pyplot as plt\n",
    "plt.style.use(\"seaborn-v0_8\")"
   ]
  },
  {
   "cell_type": "code",
   "execution_count": null,
   "id": "523",
   "metadata": {},
   "outputs": [],
   "source": [
    "close = pd.read_csv(\"close.csv\", index_col = \"Date\", parse_dates = [\"Date\"])\n",
    "close"
   ]
  },
  {
   "cell_type": "code",
   "execution_count": null,
   "id": "524",
   "metadata": {},
   "outputs": [],
   "source": [
    "btc = close[\"BTC-USD\"].dropna().to_frame().copy()\n",
    "btc"
   ]
  },
  {
   "cell_type": "code",
   "execution_count": null,
   "id": "525",
   "metadata": {},
   "outputs": [],
   "source": [
    "btc[\"Returns\"] = btc.pct_change(periods = 1)\n",
    "btc"
   ]
  },
  {
   "cell_type": "code",
   "execution_count": null,
   "id": "526",
   "metadata": {},
   "outputs": [],
   "source": [
    "leverage = 4"
   ]
  },
  {
   "cell_type": "code",
   "execution_count": null,
   "id": "527",
   "metadata": {},
   "outputs": [],
   "source": [
    "btc[\"Lev_Returns\"] = btc.Returns.mul(leverage) # levered simple returns\n",
    "btc"
   ]
  },
  {
   "cell_type": "code",
   "execution_count": null,
   "id": "528",
   "metadata": {},
   "outputs": [],
   "source": [
    "btc[\"Lev_Returns\"] = np.where(btc[\"Lev_Returns\"] < -1, -1, btc[\"Lev_Returns\"])"
   ]
  },
  {
   "cell_type": "code",
   "execution_count": null,
   "id": "529",
   "metadata": {},
   "outputs": [],
   "source": [
    "btc[[\"Returns\", \"Lev_Returns\"]].add(1).cumprod().plot(figsize = (15, 8), fontsize = 13)\n",
    "plt.legend(fontsize = 13)\n",
    "plt.show()"
   ]
  },
  {
   "cell_type": "markdown",
   "id": "530",
   "metadata": {},
   "source": [
    "-> Trading Bitcoin with (high) leverage requires advanced risk monitoring/management. Otherwise, a complete loss is very likely (sooner or later...)."
   ]
  },
  {
   "cell_type": "code",
   "execution_count": null,
   "id": "531",
   "metadata": {},
   "outputs": [],
   "source": []
  }
 ],
 "metadata": {
  "kernelspec": {
   "display_name": "Python 3 (ipykernel)",
   "language": "python",
   "name": "python3"
  },
  "language_info": {
   "codemirror_mode": {
    "name": "ipython",
    "version": 3
   },
   "file_extension": ".py",
   "mimetype": "text/x-python",
   "name": "python",
   "nbconvert_exporter": "python",
   "pygments_lexer": "ipython3",
   "version": "3.11.7"
  }
 },
 "nbformat": 4,
 "nbformat_minor": 5
}
