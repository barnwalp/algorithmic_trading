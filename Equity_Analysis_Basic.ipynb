{
 "cells": [
  {
   "cell_type": "code",
   "execution_count": null,
   "metadata": {},
   "outputs": [],
   "source": [
    "import yfinance as yf\n",
    "import pandas as pd\n",
    "import matplotlib.pyplot as plt\n",
    "plt.style.use(\"seaborn-v0_8\")"
   ]
  },
  {
   "cell_type": "markdown",
   "metadata": {},
   "source": [
    "#### Getting the stock data with dividend, split stocks and Adj Close"
   ]
  },
  {
   "cell_type": "code",
   "execution_count": null,
   "metadata": {},
   "outputs": [],
   "source": [
    "df = yf.download(tickers = \"HDFCBANK.NS\", auto_adjust=False, actions=True, interval=\"1d\", multi_level_index=False)\n",
    "# df = yf.download(tickers = \"HDFCBANK.NS\", start=\"2020-07-01\", end=\"2025-07-01\", interval=\"1d\", multi_level_index=False)\n",
    "# df = yf.download(tickers = \"HDFCBANK.NS\", period=\"1mo\") # last one month\n",
    "# df = yf.download(tickers = \"HDFCBANK.NS\", period=\"1y\") # last one year\n",
    "# df = yf.download(tickers = \"HDFCBANK.NS\", period=\"1y\", interval=\"1h\")\n",
    "# df = yf.download(tickers = \"HDFCBANK.NS\", period=\"1y\", interval=\"1m\")\n",
    "# df = yf.download(tickers = \"HDFCBANK.NS\", period=\"5d\", interval=\"1m\")\n",
    "# df = yf.download(tickers = \"HDFCBANK.NS\", period=\"max\")\n",
    "df.index = pd.to_datetime(df.index.date)\n",
    "df"
   ]
  },
  {
   "cell_type": "markdown",
   "metadata": {},
   "source": [
    "#### Plotting the daily closing price of the stock"
   ]
  },
  {
   "cell_type": "code",
   "execution_count": null,
   "metadata": {},
   "outputs": [],
   "source": [
    "df.loc[:, \"Close\"].plot(figsize = (12, 8))\n",
    "plt.ylabel(\"Price in Rupee\")\n",
    "plt.xlabel(\"Year\")\n",
    "plt.title(\"HDFC Bank Share Price\")\n",
    "plt.show()"
   ]
  },
  {
   "cell_type": "markdown",
   "metadata": {},
   "source": [
    "#### Plotting volume of shared traded for a specific year"
   ]
  },
  {
   "cell_type": "code",
   "execution_count": null,
   "metadata": {},
   "outputs": [],
   "source": [
    "# Plotting volume of shares traded\n",
    "df.loc[\"2025\", \"Volume\"].plot(figsize = (12, 8), kind=\"bar\")\n",
    "plt.ylabel(\"Volume (Shares)\")\n",
    "plt.title(\"HDFC Bank Trading Volume (daily)\", fontsize = 15)\n",
    "plt.show()"
   ]
  },
  {
   "cell_type": "markdown",
   "metadata": {},
   "source": [
    "#### Get cumulutive dividend per share"
   ]
  },
  {
   "cell_type": "code",
   "execution_count": null,
   "metadata": {},
   "outputs": [],
   "source": [
    "df.Dividends.sum()"
   ]
  },
  {
   "cell_type": "markdown",
   "metadata": {},
   "source": [
    "#### Plot dividends per share over years\n",
    "To get a better picture of dividends, its better to plot yearly dividends per share and then plotting the dividend percentage per share and seeing the trends per year\n",
    "Note: To get the dividends per share, average share price can be considered, however it might not be completely accurate as the dividends might have happened at specific prices which could be totally different than the average share price"
   ]
  },
  {
   "cell_type": "code",
   "execution_count": null,
   "metadata": {},
   "outputs": [],
   "source": [
    "df.loc[df.Dividends != 0].Dividends.plot()\n",
    "plt.ylabel('Dividends issued per share')\n",
    "plt.show()"
   ]
  },
  {
   "cell_type": "markdown",
   "metadata": {},
   "source": []
  }
 ],
 "metadata": {
  "kernelspec": {
   "display_name": "Python 3 (ipykernel)",
   "language": "python",
   "name": "python3"
  },
  "language_info": {
   "codemirror_mode": {
    "name": "ipython",
    "version": 3
   },
   "file_extension": ".py",
   "mimetype": "text/x-python",
   "name": "python",
   "nbconvert_exporter": "python",
   "pygments_lexer": "ipython3",
   "version": "3.12.7"
  }
 },
 "nbformat": 4,
 "nbformat_minor": 4
}
